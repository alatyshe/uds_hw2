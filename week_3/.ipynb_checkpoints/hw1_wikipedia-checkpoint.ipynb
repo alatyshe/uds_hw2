{
 "cells": [
  {
   "cell_type": "markdown",
   "metadata": {},
   "source": [
    "# Homework 1 - Wikipedia Web Traffic Time Series\n",
    "\n",
    "У вас есть данные по посещению 1000 страниц  Википедии из разных стран и разных девайсов ( \\*  * данные взяты из [Kaggle соревнования](https://www.kaggle.com/c/web-traffic-time-series-forecasting)* )\n",
    "\n",
    "*wikipedia_train* и *wikipedia_test* - содержат данные о трафике. Это файлы csv, где каждая строка соответствует определенной статье, и каждый столбец соответствует конкретной дате. В некоторых записях отсутствуют данные. Названия страниц содержат проект Википедии (например, en.wikipedia.org), тип доступа (например, desktop) и тип агента (например, spider). Другими словами, каждое имя статьи имеет следующий формат: «name_project_access_agent» (например, «AKB48_zh.wikipedia.org_all-access_spider»).\n",
    "\n",
    "Вам нужно ответить на [вопросы](https://docs.google.com/forms/d/e/1FAIpQLSfDjWeeZJw5EvmKn1x_6b9xicjn7ed3MF0rbNm4Cmwr7psSkQ/viewform?usp=sf_link) и попробовать сделать самую простую модель которая сможет предсказывать будущие посещения. \n",
    "\n",
    "Вот примеры временных рядов посещаемости страниц Википедии (*синие* - обучающая выборка, *зеленые* - предсказания модели победителя соревнования на Kaggle, *оранжевые* - реальные значения):\n",
    "![Wikipedia Web Traffic Time Series](https://image.ibb.co/cUpEJa/predictions.png)"
   ]
  },
  {
   "cell_type": "code",
   "execution_count": 1,
   "metadata": {},
   "outputs": [],
   "source": [
    "import re\n",
    "import pandas as pd\n",
    "import numpy as np\n"
   ]
  },
  {
   "cell_type": "code",
   "execution_count": 2,
   "metadata": {},
   "outputs": [],
   "source": [
    "train = pd.read_csv(\"wikipedia_train.csv\")\n",
    "test = pd.read_csv(\"wikipedia_test.csv\")"
   ]
  },
  {
   "cell_type": "markdown",
   "metadata": {},
   "source": [
    "## Data Analysis"
   ]
  },
  {
   "cell_type": "markdown",
   "metadata": {},
   "source": [
    "### 1.Русские страницы"
   ]
  },
  {
   "cell_type": "code",
   "execution_count": 3,
   "metadata": {},
   "outputs": [],
   "source": [
    "\n",
    "def get_language(page):\n",
    "    res = re.search('[a-z][a-z].wikipedia.org',page)\n",
    "    if res:\n",
    "        return res.group(0)[0:2]\n",
    "    return 'na'"
   ]
  },
  {
   "cell_type": "code",
   "execution_count": 4,
   "metadata": {},
   "outputs": [],
   "source": [
    "language = train[\"Page\"].map(get_language)\n",
    "arr_wiki = train[language == 'ru']"
   ]
  },
  {
   "cell_type": "code",
   "execution_count": 5,
   "metadata": {},
   "outputs": [
    {
     "data": {
      "text/html": [
       "<div>\n",
       "<style scoped>\n",
       "    .dataframe tbody tr th:only-of-type {\n",
       "        vertical-align: middle;\n",
       "    }\n",
       "\n",
       "    .dataframe tbody tr th {\n",
       "        vertical-align: top;\n",
       "    }\n",
       "\n",
       "    .dataframe thead th {\n",
       "        text-align: right;\n",
       "    }\n",
       "</style>\n",
       "<table border=\"1\" class=\"dataframe\">\n",
       "  <thead>\n",
       "    <tr style=\"text-align: right;\">\n",
       "      <th></th>\n",
       "      <th>Page</th>\n",
       "      <th>2015-07-01</th>\n",
       "      <th>2015-07-02</th>\n",
       "      <th>2015-07-03</th>\n",
       "      <th>2015-07-04</th>\n",
       "      <th>2015-07-05</th>\n",
       "      <th>2015-07-06</th>\n",
       "      <th>2015-07-07</th>\n",
       "      <th>2015-07-08</th>\n",
       "      <th>2015-07-09</th>\n",
       "      <th>...</th>\n",
       "      <th>2016-08-22</th>\n",
       "      <th>2016-08-23</th>\n",
       "      <th>2016-08-24</th>\n",
       "      <th>2016-08-25</th>\n",
       "      <th>2016-08-26</th>\n",
       "      <th>2016-08-27</th>\n",
       "      <th>2016-08-28</th>\n",
       "      <th>2016-08-29</th>\n",
       "      <th>2016-08-30</th>\n",
       "      <th>2016-08-31</th>\n",
       "    </tr>\n",
       "  </thead>\n",
       "  <tbody>\n",
       "    <tr>\n",
       "      <th>6</th>\n",
       "      <td>22_апреля_ru.wikipedia.org_all-access_spider</td>\n",
       "      <td>18.0</td>\n",
       "      <td>13.0</td>\n",
       "      <td>29.0</td>\n",
       "      <td>28.0</td>\n",
       "      <td>25.0</td>\n",
       "      <td>5.0</td>\n",
       "      <td>21.0</td>\n",
       "      <td>24.0</td>\n",
       "      <td>35.0</td>\n",
       "      <td>...</td>\n",
       "      <td>8.0</td>\n",
       "      <td>10.0</td>\n",
       "      <td>16.0</td>\n",
       "      <td>28.0</td>\n",
       "      <td>12.0</td>\n",
       "      <td>6.0</td>\n",
       "      <td>13.0</td>\n",
       "      <td>7.0</td>\n",
       "      <td>19.0</td>\n",
       "      <td>6.0</td>\n",
       "    </tr>\n",
       "    <tr>\n",
       "      <th>8</th>\n",
       "      <td>6-я_армия_(Третий_рейх)_ru.wikipedia.org_deskt...</td>\n",
       "      <td>16.0</td>\n",
       "      <td>43.0</td>\n",
       "      <td>28.0</td>\n",
       "      <td>33.0</td>\n",
       "      <td>43.0</td>\n",
       "      <td>34.0</td>\n",
       "      <td>21.0</td>\n",
       "      <td>57.0</td>\n",
       "      <td>21.0</td>\n",
       "      <td>...</td>\n",
       "      <td>49.0</td>\n",
       "      <td>50.0</td>\n",
       "      <td>39.0</td>\n",
       "      <td>69.0</td>\n",
       "      <td>66.0</td>\n",
       "      <td>34.0</td>\n",
       "      <td>47.0</td>\n",
       "      <td>53.0</td>\n",
       "      <td>40.0</td>\n",
       "      <td>51.0</td>\n",
       "    </tr>\n",
       "    <tr>\n",
       "      <th>38</th>\n",
       "      <td>Apple_ru.wikipedia.org_mobile-web_all-agents</td>\n",
       "      <td>391.0</td>\n",
       "      <td>490.0</td>\n",
       "      <td>436.0</td>\n",
       "      <td>510.0</td>\n",
       "      <td>442.0</td>\n",
       "      <td>440.0</td>\n",
       "      <td>440.0</td>\n",
       "      <td>418.0</td>\n",
       "      <td>414.0</td>\n",
       "      <td>...</td>\n",
       "      <td>458.0</td>\n",
       "      <td>487.0</td>\n",
       "      <td>508.0</td>\n",
       "      <td>470.0</td>\n",
       "      <td>481.0</td>\n",
       "      <td>522.0</td>\n",
       "      <td>565.0</td>\n",
       "      <td>493.0</td>\n",
       "      <td>701.0</td>\n",
       "      <td>662.0</td>\n",
       "    </tr>\n",
       "    <tr>\n",
       "      <th>154</th>\n",
       "      <td>Dishonored_ru.wikipedia.org_all-access_all-agents</td>\n",
       "      <td>792.0</td>\n",
       "      <td>844.0</td>\n",
       "      <td>838.0</td>\n",
       "      <td>812.0</td>\n",
       "      <td>1204.0</td>\n",
       "      <td>945.0</td>\n",
       "      <td>786.0</td>\n",
       "      <td>747.0</td>\n",
       "      <td>722.0</td>\n",
       "      <td>...</td>\n",
       "      <td>746.0</td>\n",
       "      <td>745.0</td>\n",
       "      <td>810.0</td>\n",
       "      <td>816.0</td>\n",
       "      <td>791.0</td>\n",
       "      <td>701.0</td>\n",
       "      <td>643.0</td>\n",
       "      <td>792.0</td>\n",
       "      <td>758.0</td>\n",
       "      <td>620.0</td>\n",
       "    </tr>\n",
       "    <tr>\n",
       "      <th>180</th>\n",
       "      <td>Facebook_ru.wikipedia.org_desktop_all-agents</td>\n",
       "      <td>1665.0</td>\n",
       "      <td>1419.0</td>\n",
       "      <td>1440.0</td>\n",
       "      <td>1062.0</td>\n",
       "      <td>1169.0</td>\n",
       "      <td>1496.0</td>\n",
       "      <td>1509.0</td>\n",
       "      <td>1602.0</td>\n",
       "      <td>1383.0</td>\n",
       "      <td>...</td>\n",
       "      <td>2330.0</td>\n",
       "      <td>2151.0</td>\n",
       "      <td>1786.0</td>\n",
       "      <td>1817.0</td>\n",
       "      <td>1927.0</td>\n",
       "      <td>1401.0</td>\n",
       "      <td>1318.0</td>\n",
       "      <td>1708.0</td>\n",
       "      <td>1748.0</td>\n",
       "      <td>2235.0</td>\n",
       "    </tr>\n",
       "  </tbody>\n",
       "</table>\n",
       "<p>5 rows × 429 columns</p>\n",
       "</div>"
      ],
      "text/plain": [
       "                                                  Page  2015-07-01  \\\n",
       "6         22_апреля_ru.wikipedia.org_all-access_spider        18.0   \n",
       "8    6-я_армия_(Третий_рейх)_ru.wikipedia.org_deskt...        16.0   \n",
       "38        Apple_ru.wikipedia.org_mobile-web_all-agents       391.0   \n",
       "154  Dishonored_ru.wikipedia.org_all-access_all-agents       792.0   \n",
       "180       Facebook_ru.wikipedia.org_desktop_all-agents      1665.0   \n",
       "\n",
       "     2015-07-02  2015-07-03  2015-07-04  2015-07-05  2015-07-06  2015-07-07  \\\n",
       "6          13.0        29.0        28.0        25.0         5.0        21.0   \n",
       "8          43.0        28.0        33.0        43.0        34.0        21.0   \n",
       "38        490.0       436.0       510.0       442.0       440.0       440.0   \n",
       "154       844.0       838.0       812.0      1204.0       945.0       786.0   \n",
       "180      1419.0      1440.0      1062.0      1169.0      1496.0      1509.0   \n",
       "\n",
       "     2015-07-08  2015-07-09     ...      2016-08-22  2016-08-23  2016-08-24  \\\n",
       "6          24.0        35.0     ...             8.0        10.0        16.0   \n",
       "8          57.0        21.0     ...            49.0        50.0        39.0   \n",
       "38        418.0       414.0     ...           458.0       487.0       508.0   \n",
       "154       747.0       722.0     ...           746.0       745.0       810.0   \n",
       "180      1602.0      1383.0     ...          2330.0      2151.0      1786.0   \n",
       "\n",
       "     2016-08-25  2016-08-26  2016-08-27  2016-08-28  2016-08-29  2016-08-30  \\\n",
       "6          28.0        12.0         6.0        13.0         7.0        19.0   \n",
       "8          69.0        66.0        34.0        47.0        53.0        40.0   \n",
       "38        470.0       481.0       522.0       565.0       493.0       701.0   \n",
       "154       816.0       791.0       701.0       643.0       792.0       758.0   \n",
       "180      1817.0      1927.0      1401.0      1318.0      1708.0      1748.0   \n",
       "\n",
       "     2016-08-31  \n",
       "6           6.0  \n",
       "8          51.0  \n",
       "38        662.0  \n",
       "154       620.0  \n",
       "180      2235.0  \n",
       "\n",
       "[5 rows x 429 columns]"
      ]
     },
     "execution_count": 5,
     "metadata": {},
     "output_type": "execute_result"
    }
   ],
   "source": [
    "arr_wiki.head()"
   ]
  },
  {
   "cell_type": "code",
   "execution_count": 6,
   "metadata": {},
   "outputs": [
    {
     "data": {
      "text/plain": [
       "(102, 429)"
      ]
     },
     "execution_count": 6,
     "metadata": {},
     "output_type": "execute_result"
    }
   ],
   "source": [
    "arr_wiki.shape"
   ]
  },
  {
   "cell_type": "markdown",
   "metadata": {},
   "source": [
    "### 2.Самая популярная страница на русском"
   ]
  },
  {
   "cell_type": "code",
   "execution_count": 7,
   "metadata": {},
   "outputs": [
    {
     "data": {
      "text/plain": [
       "'Facebook_ru.wikipedia.org_desktop_all-agents'"
      ]
     },
     "execution_count": 7,
     "metadata": {},
     "output_type": "execute_result"
    }
   ],
   "source": [
    "# arr_wiki.fillna(0)\n",
    "# arr_wiki.dropna()\n",
    "arr_wiki.loc[arr_wiki.iloc[:, 1:].mean(axis=1).idxmax()][0]\n",
    "# max(arr_wiki.iloc[:, 1:].mean(axis=1))"
   ]
  },
  {
   "cell_type": "code",
   "execution_count": null,
   "metadata": {},
   "outputs": [],
   "source": []
  },
  {
   "cell_type": "code",
   "execution_count": null,
   "metadata": {},
   "outputs": [],
   "source": []
  },
  {
   "cell_type": "markdown",
   "metadata": {},
   "source": [
    "## Forecasting"
   ]
  },
  {
   "cell_type": "markdown",
   "metadata": {},
   "source": [
    "Нужно преобразовать `train` данные в следующий формат:"
   ]
  },
  {
   "cell_type": "code",
   "execution_count": 8,
   "metadata": {},
   "outputs": [
    {
     "data": {
      "text/plain": [
       "Page           object\n",
       "2015-07-01    float64\n",
       "2015-07-02    float64\n",
       "2015-07-03    float64\n",
       "2015-07-04    float64\n",
       "dtype: object"
      ]
     },
     "execution_count": 8,
     "metadata": {},
     "output_type": "execute_result"
    }
   ],
   "source": [
    "train.dtypes.head()"
   ]
  },
  {
   "cell_type": "code",
   "execution_count": 9,
   "metadata": {},
   "outputs": [],
   "source": [
    "# train.iloc[:, [0,2,3]]"
   ]
  },
  {
   "cell_type": "code",
   "execution_count": 10,
   "metadata": {
    "scrolled": true
   },
   "outputs": [],
   "source": [
    "# train.columns"
   ]
  },
  {
   "cell_type": "code",
   "execution_count": 11,
   "metadata": {},
   "outputs": [],
   "source": [
    "train_convert = pd.melt(train, id_vars=train.columns[0],\n",
    "                        value_vars=train.columns[1:],\n",
    "                        var_name=\"date\",\n",
    "                        value_name=\"Visits\")"
   ]
  },
  {
   "cell_type": "code",
   "execution_count": 12,
   "metadata": {},
   "outputs": [
    {
     "data": {
      "text/html": [
       "<div>\n",
       "<style scoped>\n",
       "    .dataframe tbody tr th:only-of-type {\n",
       "        vertical-align: middle;\n",
       "    }\n",
       "\n",
       "    .dataframe tbody tr th {\n",
       "        vertical-align: top;\n",
       "    }\n",
       "\n",
       "    .dataframe thead th {\n",
       "        text-align: right;\n",
       "    }\n",
       "</style>\n",
       "<table border=\"1\" class=\"dataframe\">\n",
       "  <thead>\n",
       "    <tr style=\"text-align: right;\">\n",
       "      <th></th>\n",
       "      <th>Page</th>\n",
       "      <th>date</th>\n",
       "      <th>Visits</th>\n",
       "    </tr>\n",
       "  </thead>\n",
       "  <tbody>\n",
       "    <tr>\n",
       "      <th>0</th>\n",
       "      <td>15._November_de.wikipedia.org_desktop_all-agents</td>\n",
       "      <td>2015-07-01</td>\n",
       "      <td>32.0</td>\n",
       "    </tr>\n",
       "    <tr>\n",
       "      <th>1</th>\n",
       "      <td>2012_(film)_fr.wikipedia.org_all-access_spider</td>\n",
       "      <td>2015-07-01</td>\n",
       "      <td>2.0</td>\n",
       "    </tr>\n",
       "    <tr>\n",
       "      <th>2</th>\n",
       "      <td>2016_FIFA_U-20女子ワールドカップ_ja.wikipedia.org_all-a...</td>\n",
       "      <td>2015-07-01</td>\n",
       "      <td>1.0</td>\n",
       "    </tr>\n",
       "    <tr>\n",
       "      <th>3</th>\n",
       "      <td>2016_UEFA_Europa_League_Final_en.wikipedia.org...</td>\n",
       "      <td>2015-07-01</td>\n",
       "      <td>3.0</td>\n",
       "    </tr>\n",
       "    <tr>\n",
       "      <th>4</th>\n",
       "      <td>2016_in_video_gaming_en.wikipedia.org_all-acce...</td>\n",
       "      <td>2015-07-01</td>\n",
       "      <td>24.0</td>\n",
       "    </tr>\n",
       "  </tbody>\n",
       "</table>\n",
       "</div>"
      ],
      "text/plain": [
       "                                                Page        date  Visits\n",
       "0   15._November_de.wikipedia.org_desktop_all-agents  2015-07-01    32.0\n",
       "1     2012_(film)_fr.wikipedia.org_all-access_spider  2015-07-01     2.0\n",
       "2  2016_FIFA_U-20女子ワールドカップ_ja.wikipedia.org_all-a...  2015-07-01     1.0\n",
       "3  2016_UEFA_Europa_League_Final_en.wikipedia.org...  2015-07-01     3.0\n",
       "4  2016_in_video_gaming_en.wikipedia.org_all-acce...  2015-07-01    24.0"
      ]
     },
     "execution_count": 12,
     "metadata": {},
     "output_type": "execute_result"
    }
   ],
   "source": [
    "train_convert.head()"
   ]
  },
  {
   "cell_type": "markdown",
   "metadata": {},
   "source": [
    "Таким образом у вас каждая сточка содержит набор фич (`Page`, `date`) и целевую переменную (`Visits`). Преобразовать данные в такой формат поможет функция `pd.melt()` (https://pandas.pydata.org/pandas-docs/stable/generated/pandas.melt.html)"
   ]
  },
  {
   "cell_type": "markdown",
   "metadata": {},
   "source": [
    "Оценивать качество предсказаний мы будем с помощью [SMAPE](https://en.wikipedia.org/wiki/Symmetric_mean_absolute_percentage_error) :"
   ]
  },
  {
   "cell_type": "code",
   "execution_count": 13,
   "metadata": {},
   "outputs": [],
   "source": [
    "def pandas_smape(df):\n",
    "    df.fillna(0, inplace=True)\n",
    "    df[\"SMAPE\"] = 200 * np.abs(df[\"Visits\"] - df[\"pred_Visits\"]) / (df[\"Visits\"] + df[\"pred_Visits\"])\n",
    "    df[\"SMAPE\"].fillna(0, inplace=True)\n",
    "    return np.mean(df[\"SMAPE\"])"
   ]
  },
  {
   "cell_type": "markdown",
   "metadata": {},
   "source": [
    "Что б оценить прогноз нужно представить `test` данные в следующем формате:"
   ]
  },
  {
   "cell_type": "code",
   "execution_count": 14,
   "metadata": {},
   "outputs": [],
   "source": [
    "prediction = pd.melt(test, id_vars=test.columns[0],\n",
    "                        value_vars=test.columns[1:],\n",
    "                        var_name=\"date\",\n",
    "                        value_name=\"Visits\")\n",
    "\n",
    "prediction.head()\n",
    "# len(prediction)\n",
    "# prediction.shape\n",
    "prediction[\"pred_Visits\"] = 0"
   ]
  },
  {
   "cell_type": "code",
   "execution_count": 15,
   "metadata": {},
   "outputs": [
    {
     "data": {
      "text/html": [
       "<div>\n",
       "<style scoped>\n",
       "    .dataframe tbody tr th:only-of-type {\n",
       "        vertical-align: middle;\n",
       "    }\n",
       "\n",
       "    .dataframe tbody tr th {\n",
       "        vertical-align: top;\n",
       "    }\n",
       "\n",
       "    .dataframe thead th {\n",
       "        text-align: right;\n",
       "    }\n",
       "</style>\n",
       "<table border=\"1\" class=\"dataframe\">\n",
       "  <thead>\n",
       "    <tr style=\"text-align: right;\">\n",
       "      <th></th>\n",
       "      <th>Page</th>\n",
       "      <th>date</th>\n",
       "      <th>Visits</th>\n",
       "      <th>pred_Visits</th>\n",
       "    </tr>\n",
       "  </thead>\n",
       "  <tbody>\n",
       "    <tr>\n",
       "      <th>0</th>\n",
       "      <td>15._November_de.wikipedia.org_desktop_all-agents</td>\n",
       "      <td>2016-09-10</td>\n",
       "      <td>43.0</td>\n",
       "      <td>0</td>\n",
       "    </tr>\n",
       "    <tr>\n",
       "      <th>1</th>\n",
       "      <td>2012_(film)_fr.wikipedia.org_all-access_spider</td>\n",
       "      <td>2016-09-10</td>\n",
       "      <td>6.0</td>\n",
       "      <td>0</td>\n",
       "    </tr>\n",
       "    <tr>\n",
       "      <th>2</th>\n",
       "      <td>2016_FIFA_U-20女子ワールドカップ_ja.wikipedia.org_all-a...</td>\n",
       "      <td>2016-09-10</td>\n",
       "      <td>4.0</td>\n",
       "      <td>0</td>\n",
       "    </tr>\n",
       "    <tr>\n",
       "      <th>3</th>\n",
       "      <td>2016_UEFA_Europa_League_Final_en.wikipedia.org...</td>\n",
       "      <td>2016-09-10</td>\n",
       "      <td>15.0</td>\n",
       "      <td>0</td>\n",
       "    </tr>\n",
       "    <tr>\n",
       "      <th>4</th>\n",
       "      <td>2016_in_video_gaming_en.wikipedia.org_all-acce...</td>\n",
       "      <td>2016-09-10</td>\n",
       "      <td>101.0</td>\n",
       "      <td>0</td>\n",
       "    </tr>\n",
       "  </tbody>\n",
       "</table>\n",
       "</div>"
      ],
      "text/plain": [
       "                                                Page        date  Visits  \\\n",
       "0   15._November_de.wikipedia.org_desktop_all-agents  2016-09-10    43.0   \n",
       "1     2012_(film)_fr.wikipedia.org_all-access_spider  2016-09-10     6.0   \n",
       "2  2016_FIFA_U-20女子ワールドカップ_ja.wikipedia.org_all-a...  2016-09-10     4.0   \n",
       "3  2016_UEFA_Europa_League_Final_en.wikipedia.org...  2016-09-10    15.0   \n",
       "4  2016_in_video_gaming_en.wikipedia.org_all-acce...  2016-09-10   101.0   \n",
       "\n",
       "   pred_Visits  \n",
       "0            0  \n",
       "1            0  \n",
       "2            0  \n",
       "3            0  \n",
       "4            0  "
      ]
     },
     "execution_count": 15,
     "metadata": {},
     "output_type": "execute_result"
    }
   ],
   "source": [
    "prediction.head()"
   ]
  },
  {
   "cell_type": "markdown",
   "metadata": {},
   "source": [
    "И затем вызвать функцию для подсчета метрики:"
   ]
  },
  {
   "cell_type": "code",
   "execution_count": 21,
   "metadata": {},
   "outputs": [
    {
     "data": {
      "text/html": [
       "<div>\n",
       "<style scoped>\n",
       "    .dataframe tbody tr th:only-of-type {\n",
       "        vertical-align: middle;\n",
       "    }\n",
       "\n",
       "    .dataframe tbody tr th {\n",
       "        vertical-align: top;\n",
       "    }\n",
       "\n",
       "    .dataframe thead th {\n",
       "        text-align: right;\n",
       "    }\n",
       "</style>\n",
       "<table border=\"1\" class=\"dataframe\">\n",
       "  <thead>\n",
       "    <tr style=\"text-align: right;\">\n",
       "      <th></th>\n",
       "      <th>Page</th>\n",
       "      <th>date</th>\n",
       "      <th>Visits</th>\n",
       "      <th>pred_Visits</th>\n",
       "      <th>SMAPE</th>\n",
       "      <th>day_of_week</th>\n",
       "    </tr>\n",
       "  </thead>\n",
       "  <tbody>\n",
       "    <tr>\n",
       "      <th>0</th>\n",
       "      <td>15._November_de.wikipedia.org_desktop_all-agents</td>\n",
       "      <td>2016-09-10</td>\n",
       "      <td>43.0</td>\n",
       "      <td>24.0</td>\n",
       "      <td>56.716418</td>\n",
       "      <td>5</td>\n",
       "    </tr>\n",
       "    <tr>\n",
       "      <th>1</th>\n",
       "      <td>2012_(film)_fr.wikipedia.org_all-access_spider</td>\n",
       "      <td>2016-09-10</td>\n",
       "      <td>6.0</td>\n",
       "      <td>5.0</td>\n",
       "      <td>18.181818</td>\n",
       "      <td>5</td>\n",
       "    </tr>\n",
       "    <tr>\n",
       "      <th>2</th>\n",
       "      <td>2016_FIFA_U-20女子ワールドカップ_ja.wikipedia.org_all-a...</td>\n",
       "      <td>2016-09-10</td>\n",
       "      <td>4.0</td>\n",
       "      <td>2.5</td>\n",
       "      <td>46.153846</td>\n",
       "      <td>5</td>\n",
       "    </tr>\n",
       "    <tr>\n",
       "      <th>3</th>\n",
       "      <td>2016_UEFA_Europa_League_Final_en.wikipedia.org...</td>\n",
       "      <td>2016-09-10</td>\n",
       "      <td>15.0</td>\n",
       "      <td>15.5</td>\n",
       "      <td>3.278689</td>\n",
       "      <td>5</td>\n",
       "    </tr>\n",
       "    <tr>\n",
       "      <th>4</th>\n",
       "      <td>2016_in_video_gaming_en.wikipedia.org_all-acce...</td>\n",
       "      <td>2016-09-10</td>\n",
       "      <td>101.0</td>\n",
       "      <td>110.5</td>\n",
       "      <td>8.983452</td>\n",
       "      <td>5</td>\n",
       "    </tr>\n",
       "  </tbody>\n",
       "</table>\n",
       "</div>"
      ],
      "text/plain": [
       "                                                Page       date  Visits  \\\n",
       "0   15._November_de.wikipedia.org_desktop_all-agents 2016-09-10    43.0   \n",
       "1     2012_(film)_fr.wikipedia.org_all-access_spider 2016-09-10     6.0   \n",
       "2  2016_FIFA_U-20女子ワールドカップ_ja.wikipedia.org_all-a... 2016-09-10     4.0   \n",
       "3  2016_UEFA_Europa_League_Final_en.wikipedia.org... 2016-09-10    15.0   \n",
       "4  2016_in_video_gaming_en.wikipedia.org_all-acce... 2016-09-10   101.0   \n",
       "\n",
       "   pred_Visits      SMAPE  day_of_week  \n",
       "0         24.0  56.716418            5  \n",
       "1          5.0  18.181818            5  \n",
       "2          2.5  46.153846            5  \n",
       "3         15.5   3.278689            5  \n",
       "4        110.5   8.983452            5  "
      ]
     },
     "execution_count": 21,
     "metadata": {},
     "output_type": "execute_result"
    }
   ],
   "source": [
    "pandas_smape(prediction)\n",
    "prediction.head()"
   ]
  },
  {
   "cell_type": "markdown",
   "metadata": {},
   "source": [
    "### Last day baseline"
   ]
  },
  {
   "cell_type": "markdown",
   "metadata": {},
   "source": [
    "#### Значение SMAPE для предсказаний на основе последнего дня *\n",
    "\n",
    "Нужно сделать прогноз на основе посещений в последний известный нам день из train (продублировать значение для каждого дня в test)"
   ]
  },
  {
   "cell_type": "code",
   "execution_count": 295,
   "metadata": {},
   "outputs": [],
   "source": [
    "mask = train_convert[\"date\"] == \"2016-08-31\"\n",
    "# print(mask)\n",
    "\n",
    "info = train_convert[mask][\"Visits\"]\n",
    "\n",
    "prediction[\"pred_Visits\"] = info\n",
    "\n",
    "# prediction['date'] == \"2016-11-10\""
   ]
  },
  {
   "cell_type": "code",
   "execution_count": 296,
   "metadata": {},
   "outputs": [],
   "source": [
    "# prediction"
   ]
  },
  {
   "cell_type": "code",
   "execution_count": 22,
   "metadata": {},
   "outputs": [],
   "source": [
    "mask = train.iloc[:, -1]\n",
    "prediction[\"pred_Visits\"] = list(mask) * 62\n",
    "# len(prediction[\"pred_Visits\"])\n",
    "# len(list(mask) * 62)"
   ]
  },
  {
   "cell_type": "code",
   "execution_count": 23,
   "metadata": {},
   "outputs": [
    {
     "data": {
      "text/plain": [
       "54.16127748085961"
      ]
     },
     "execution_count": 23,
     "metadata": {},
     "output_type": "execute_result"
    }
   ],
   "source": [
    "pandas_smape(prediction)"
   ]
  },
  {
   "cell_type": "markdown",
   "metadata": {},
   "source": [
    "### Median baseline"
   ]
  },
  {
   "cell_type": "markdown",
   "metadata": {},
   "source": [
    "Нужно сделать прогноз на основе медианы за последние **30** дней из `train`. \n",
    "\n",
    "А затем улучшить предсказания используя информацию выходной это или нет (воспользуйтесь функцией [dayofweek](https://pandas.pydata.org/pandas-docs/stable/generated/pandas.DatetimeIndex.dayofweek.html) ) и разные окна для подсчета медианы (7 дней, 60 дней и тд)\n",
    "\n",
    "Вам поможет функция `pd.groupby()` (https://pandas.pydata.org/pandas-docs/stable/generated/pandas.DataFrame.groupby.html)"
   ]
  },
  {
   "cell_type": "code",
   "execution_count": 17,
   "metadata": {},
   "outputs": [],
   "source": [
    "# test - считываемая выборка для теста на нее\n",
    "# prediction - обработанная выборка для теста\n",
    "\n",
    "# train - считываемая выборка для тренировки\n",
    "# train_convert - обработанная выборка для тренировки\n",
    "\n",
    "\n",
    "from datetime import datetime\n",
    "\n",
    "train_convert[\"date\"] = train_convert[\"date\"].map(pd.to_datetime)\n",
    "prediction[\"date\"] = prediction[\"date\"].map(pd.to_datetime)"
   ]
  },
  {
   "cell_type": "code",
   "execution_count": 18,
   "metadata": {},
   "outputs": [],
   "source": [
    "train_convert[\"day_of_week\"] = train_convert[\"date\"].map(lambda x: x.dayofweek)\n",
    "prediction[\"day_of_week\"] = prediction[\"date\"].map(lambda x: x.dayofweek)"
   ]
  },
  {
   "cell_type": "code",
   "execution_count": null,
   "metadata": {},
   "outputs": [],
   "source": []
  },
  {
   "cell_type": "code",
   "execution_count": 19,
   "metadata": {},
   "outputs": [
    {
     "data": {
      "text/plain": [
       "52.465883293370794"
      ]
     },
     "execution_count": 19,
     "metadata": {},
     "output_type": "execute_result"
    }
   ],
   "source": [
    "days_means = train.iloc[:, -30:].median(axis=1)\n",
    "\n",
    "prediction[\"pred_Visits\"] = list(days_means) * 62\n",
    "pandas_smape(prediction)\n",
    "# print(train.iloc[0, 0])\n"
   ]
  },
  {
   "cell_type": "code",
   "execution_count": 25,
   "metadata": {},
   "outputs": [],
   "source": [
    "\n",
    "days_means = {}\n",
    "for i in range(30, 1, -1) \n",
    "    for i in range(1, 2):\n",
    "        days_means[i] = train.iloc[:, -i:].median(axis=1)"
   ]
  },
  {
   "cell_type": "code",
   "execution_count": 26,
   "metadata": {},
   "outputs": [],
   "source": [
    "res = []\n",
    "\n",
    "for i in range (1, 30):\n",
    "    prediction[\"pred_Visits\"] = list(days_means[i]) * 62\n",
    "    res.append(pandas_smape(prediction))\n"
   ]
  },
  {
   "cell_type": "code",
   "execution_count": 29,
   "metadata": {},
   "outputs": [
    {
     "name": "stdout",
     "output_type": "stream",
     "text": [
      "50.64636950188655\n"
     ]
    },
    {
     "data": {
      "image/png": "[encoded data removed]",
      "text/plain": [
       "<matplotlib.figure.Figure at 0x10a427588>"
      ]
     },
     "metadata": {},
     "output_type": "display_data"
    }
   ],
   "source": [
    "from matplotlib import pyplot as plt\n",
    "\n",
    "print(min(res))\n",
    "\n",
    "plt.scatter(range(1,30), res)\n",
    "plt.plot(range(1,30), res, \"b\")\n",
    "plt.xlabel(r'$x$');\n",
    "plt.ylabel(r'$y$');"
   ]
  },
  {
   "cell_type": "code",
   "execution_count": 342,
   "metadata": {},
   "outputs": [
    {
     "data": {
      "text/html": [
       "<div>\n",
       "<style scoped>\n",
       "    .dataframe tbody tr th:only-of-type {\n",
       "        vertical-align: middle;\n",
       "    }\n",
       "\n",
       "    .dataframe tbody tr th {\n",
       "        vertical-align: top;\n",
       "    }\n",
       "\n",
       "    .dataframe thead th {\n",
       "        text-align: right;\n",
       "    }\n",
       "</style>\n",
       "<table border=\"1\" class=\"dataframe\">\n",
       "  <thead>\n",
       "    <tr style=\"text-align: right;\">\n",
       "      <th></th>\n",
       "      <th>Page</th>\n",
       "      <th>date</th>\n",
       "      <th>Visits</th>\n",
       "      <th>day_of_week</th>\n",
       "    </tr>\n",
       "  </thead>\n",
       "  <tbody>\n",
       "    <tr>\n",
       "      <th>0</th>\n",
       "      <td>15._November_de.wikipedia.org_desktop_all-agents</td>\n",
       "      <td>2015-07-01</td>\n",
       "      <td>32.0</td>\n",
       "      <td>2</td>\n",
       "    </tr>\n",
       "    <tr>\n",
       "      <th>1</th>\n",
       "      <td>2012_(film)_fr.wikipedia.org_all-access_spider</td>\n",
       "      <td>2015-07-01</td>\n",
       "      <td>2.0</td>\n",
       "      <td>2</td>\n",
       "    </tr>\n",
       "    <tr>\n",
       "      <th>2</th>\n",
       "      <td>2016_FIFA_U-20女子ワールドカップ_ja.wikipedia.org_all-a...</td>\n",
       "      <td>2015-07-01</td>\n",
       "      <td>1.0</td>\n",
       "      <td>2</td>\n",
       "    </tr>\n",
       "    <tr>\n",
       "      <th>3</th>\n",
       "      <td>2016_UEFA_Europa_League_Final_en.wikipedia.org...</td>\n",
       "      <td>2015-07-01</td>\n",
       "      <td>3.0</td>\n",
       "      <td>2</td>\n",
       "    </tr>\n",
       "    <tr>\n",
       "      <th>4</th>\n",
       "      <td>2016_in_video_gaming_en.wikipedia.org_all-acce...</td>\n",
       "      <td>2015-07-01</td>\n",
       "      <td>24.0</td>\n",
       "      <td>2</td>\n",
       "    </tr>\n",
       "  </tbody>\n",
       "</table>\n",
       "</div>"
      ],
      "text/plain": [
       "                                                Page       date  Visits  \\\n",
       "0   15._November_de.wikipedia.org_desktop_all-agents 2015-07-01    32.0   \n",
       "1     2012_(film)_fr.wikipedia.org_all-access_spider 2015-07-01     2.0   \n",
       "2  2016_FIFA_U-20女子ワールドカップ_ja.wikipedia.org_all-a... 2015-07-01     1.0   \n",
       "3  2016_UEFA_Europa_League_Final_en.wikipedia.org... 2015-07-01     3.0   \n",
       "4  2016_in_video_gaming_en.wikipedia.org_all-acce... 2015-07-01    24.0   \n",
       "\n",
       "   day_of_week  \n",
       "0            2  \n",
       "1            2  \n",
       "2            2  \n",
       "3            2  \n",
       "4            2  "
      ]
     },
     "execution_count": 342,
     "metadata": {},
     "output_type": "execute_result"
    }
   ],
   "source": [
    "train_convert.head()"
   ]
  },
  {
   "cell_type": "code",
   "execution_count": 219,
   "metadata": {},
   "outputs": [],
   "source": [
    "\n",
    "def eba(data):\n",
    "    data_mean = {}\n",
    "    for i in train_convert[\"Page\"]:\n",
    "        data_mean[i] = {}\n",
    "        for j in range(7):\n",
    "            data_mean[i][j] = data[(data[\"Page\"] == i) & (data[\"day_of_week\"] == j)][\"Visits\"].mean()\n",
    "    return data_mean"
   ]
  },
  {
   "cell_type": "code",
   "execution_count": 33,
   "metadata": {},
   "outputs": [
    {
     "ename": "TypeError",
     "evalue": "cannot compare a dtyped [bool] array with a scalar of type [bool]",
     "output_type": "error",
     "traceback": [
      "\u001b[0;31m---------------------------------------------------------------------------\u001b[0m",
      "\u001b[0;31mTypeError\u001b[0m                                 Traceback (most recent call last)",
      "\u001b[0;32m~/virt/lib/python3.6/site-packages/pandas/core/ops.py\u001b[0m in \u001b[0;36mna_op\u001b[0;34m(x, y)\u001b[0m\n\u001b[1;32m    900\u001b[0m         \u001b[0;32mtry\u001b[0m\u001b[0;34m:\u001b[0m\u001b[0;34m\u001b[0m\u001b[0m\n\u001b[0;32m--> 901\u001b[0;31m             \u001b[0mresult\u001b[0m \u001b[0;34m=\u001b[0m \u001b[0mop\u001b[0m\u001b[0;34m(\u001b[0m\u001b[0mx\u001b[0m\u001b[0;34m,\u001b[0m \u001b[0my\u001b[0m\u001b[0;34m)\u001b[0m\u001b[0;34m\u001b[0m\u001b[0m\n\u001b[0m\u001b[1;32m    902\u001b[0m         \u001b[0;32mexcept\u001b[0m \u001b[0mTypeError\u001b[0m\u001b[0;34m:\u001b[0m\u001b[0;34m\u001b[0m\u001b[0m\n",
      "\u001b[0;32m~/virt/lib/python3.6/site-packages/pandas/core/ops.py\u001b[0m in \u001b[0;36m<lambda>\u001b[0;34m(x, y)\u001b[0m\n\u001b[1;32m    132\u001b[0m                  \u001b[0mxor\u001b[0m\u001b[0;34m=\u001b[0m\u001b[0mbool_method\u001b[0m\u001b[0;34m(\u001b[0m\u001b[0moperator\u001b[0m\u001b[0;34m.\u001b[0m\u001b[0mxor\u001b[0m\u001b[0;34m,\u001b[0m \u001b[0mnames\u001b[0m\u001b[0;34m(\u001b[0m\u001b[0;34m'xor'\u001b[0m\u001b[0;34m)\u001b[0m\u001b[0;34m,\u001b[0m \u001b[0mop\u001b[0m\u001b[0;34m(\u001b[0m\u001b[0;34m'^'\u001b[0m\u001b[0;34m)\u001b[0m\u001b[0;34m)\u001b[0m\u001b[0;34m,\u001b[0m\u001b[0;34m\u001b[0m\u001b[0m\n\u001b[0;32m--> 133\u001b[0;31m                  rand_=bool_method(lambda x, y: operator.and_(y, x),\n\u001b[0m\u001b[1;32m    134\u001b[0m                                    names('rand_'), op('&')),\n",
      "\u001b[0;31mTypeError\u001b[0m: ufunc 'bitwise_and' not supported for the input types, and the inputs could not be safely coerced to any supported types according to the casting rule ''safe''",
      "\nDuring handling of the above exception, another exception occurred:\n",
      "\u001b[0;31mValueError\u001b[0m                                Traceback (most recent call last)",
      "\u001b[0;32m~/virt/lib/python3.6/site-packages/pandas/core/ops.py\u001b[0m in \u001b[0;36mna_op\u001b[0;34m(x, y)\u001b[0m\n\u001b[1;32m    918\u001b[0m                         \u001b[0my\u001b[0m \u001b[0;34m=\u001b[0m \u001b[0mbool\u001b[0m\u001b[0;34m(\u001b[0m\u001b[0my\u001b[0m\u001b[0;34m)\u001b[0m\u001b[0;34m\u001b[0m\u001b[0m\n\u001b[0;32m--> 919\u001b[0;31m                     \u001b[0mresult\u001b[0m \u001b[0;34m=\u001b[0m \u001b[0mlib\u001b[0m\u001b[0;34m.\u001b[0m\u001b[0mscalar_binop\u001b[0m\u001b[0;34m(\u001b[0m\u001b[0mx\u001b[0m\u001b[0;34m,\u001b[0m \u001b[0my\u001b[0m\u001b[0;34m,\u001b[0m \u001b[0mop\u001b[0m\u001b[0;34m)\u001b[0m\u001b[0;34m\u001b[0m\u001b[0m\n\u001b[0m\u001b[1;32m    920\u001b[0m                 \u001b[0;32mexcept\u001b[0m\u001b[0;34m:\u001b[0m\u001b[0;34m\u001b[0m\u001b[0m\n",
      "\u001b[0;32mpandas/_libs/lib.pyx\u001b[0m in \u001b[0;36mpandas._libs.lib.scalar_binop\u001b[0;34m()\u001b[0m\n",
      "\u001b[0;31mValueError\u001b[0m: Does not understand character buffer dtype format string ('?')",
      "\nDuring handling of the above exception, another exception occurred:\n",
      "\u001b[0;31mTypeError\u001b[0m                                 Traceback (most recent call last)",
      "\u001b[0;32m<ipython-input-33-4a8d34a049e8>\u001b[0m in \u001b[0;36m<module>\u001b[0;34m()\u001b[0m\n\u001b[0;32m----> 1\u001b[0;31m \u001b[0mtrain_convert\u001b[0m\u001b[0;34m[\u001b[0m\u001b[0;34m(\u001b[0m\u001b[0mtrain_convert\u001b[0m\u001b[0;34m[\u001b[0m\u001b[0;34m\"Page\"\u001b[0m\u001b[0;34m]\u001b[0m\u001b[0;34m[\u001b[0m\u001b[0;36m1\u001b[0m\u001b[0;34m]\u001b[0m\u001b[0;34m)\u001b[0m \u001b[0;34m&\u001b[0m \u001b[0;34m(\u001b[0m\u001b[0mtrain_convert\u001b[0m\u001b[0;34m[\u001b[0m\u001b[0;34m\"day_of_week\"\u001b[0m\u001b[0;34m]\u001b[0m \u001b[0;34m==\u001b[0m \u001b[0;36m2\u001b[0m\u001b[0;34m)\u001b[0m\u001b[0;34m]\u001b[0m\u001b[0;34m[\u001b[0m\u001b[0;34m\"Visits\"\u001b[0m\u001b[0;34m]\u001b[0m\u001b[0;34m.\u001b[0m\u001b[0mmean\u001b[0m\u001b[0;34m(\u001b[0m\u001b[0;34m)\u001b[0m\u001b[0;34m\u001b[0m\u001b[0m\n\u001b[0m",
      "\u001b[0;32m~/virt/lib/python3.6/site-packages/pandas/core/ops.py\u001b[0m in \u001b[0;36mwrapper\u001b[0;34m(self, other)\u001b[0m\n\u001b[1;32m    952\u001b[0m                       is_integer_dtype(np.asarray(other)) else fill_bool)\n\u001b[1;32m    953\u001b[0m             return filler(self._constructor(\n\u001b[0;32m--> 954\u001b[0;31m                 \u001b[0mna_op\u001b[0m\u001b[0;34m(\u001b[0m\u001b[0mself\u001b[0m\u001b[0;34m.\u001b[0m\u001b[0mvalues\u001b[0m\u001b[0;34m,\u001b[0m \u001b[0mother\u001b[0m\u001b[0;34m)\u001b[0m\u001b[0;34m,\u001b[0m\u001b[0;34m\u001b[0m\u001b[0m\n\u001b[0m\u001b[1;32m    955\u001b[0m                 index=self.index)).__finalize__(self)\n\u001b[1;32m    956\u001b[0m \u001b[0;34m\u001b[0m\u001b[0m\n",
      "\u001b[0;32m~/virt/lib/python3.6/site-packages/pandas/core/ops.py\u001b[0m in \u001b[0;36mna_op\u001b[0;34m(x, y)\u001b[0m\n\u001b[1;32m    922\u001b[0m                            \u001b[0;34m\"with a scalar of type [{type}]\"\u001b[0m\u001b[0;34m\u001b[0m\u001b[0m\n\u001b[1;32m    923\u001b[0m                            ).format(dtype=x.dtype, type=type(y).__name__)\n\u001b[0;32m--> 924\u001b[0;31m                     \u001b[0;32mraise\u001b[0m \u001b[0mTypeError\u001b[0m\u001b[0;34m(\u001b[0m\u001b[0mmsg\u001b[0m\u001b[0;34m)\u001b[0m\u001b[0;34m\u001b[0m\u001b[0m\n\u001b[0m\u001b[1;32m    925\u001b[0m \u001b[0;34m\u001b[0m\u001b[0m\n\u001b[1;32m    926\u001b[0m         \u001b[0;32mreturn\u001b[0m \u001b[0mresult\u001b[0m\u001b[0;34m\u001b[0m\u001b[0m\n",
      "\u001b[0;31mTypeError\u001b[0m: cannot compare a dtyped [bool] array with a scalar of type [bool]"
     ]
    }
   ],
   "source": [
    "# train_convert[(train_convert[\"Page\"][1]) & (train_convert[\"day_of_week\"] == 2)][\"Visits\"].mean()"
   ]
  },
  {
   "cell_type": "code",
   "execution_count": null,
   "metadata": {},
   "outputs": [],
   "source": []
  }
 ],
 "metadata": {
  "kernelspec": {
   "display_name": "Python 3",
   "language": "python",
   "name": "python3"
  },
  "language_info": {
   "codemirror_mode": {
    "name": "ipython",
    "version": 3
   },
   "file_extension": ".py",
   "mimetype": "text/x-python",
   "name": "python",
   "nbconvert_exporter": "python",
   "pygments_lexer": "ipython3",
   "version": "3.6.2"
  }
 },
 "nbformat": 4,
 "nbformat_minor": 2
}
