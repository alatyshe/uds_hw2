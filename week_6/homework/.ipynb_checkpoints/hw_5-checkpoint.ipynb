{
 "cells": [
  {
   "cell_type": "code",
   "execution_count": 54,
   "metadata": {},
   "outputs": [],
   "source": [
    "# pp.ProfileReport(train_df)\n",
    "# hight corr to drop\n",
    "# ['153', '165', '180', '9']\n",
    "\n",
    "# pp.ProfileReport(test_df)"
   ]
  },
  {
   "cell_type": "markdown",
   "metadata": {},
   "source": [
    "---"
   ]
  },
  {
   "cell_type": "code",
   "execution_count": 1,
   "metadata": {},
   "outputs": [],
   "source": [
    "# !pip install numpy\n",
    "# !pip install pandas\n",
    "# !pip install pandas_profiling\n",
    "# !pip install sklearn\n",
    "# !pip install scipy\n",
    "# !pip install statsmodels"
   ]
  },
  {
   "cell_type": "code",
   "execution_count": 1,
   "metadata": {},
   "outputs": [],
   "source": [
    "import numpy as np\n",
    "import pandas as pd           # for reading file\n",
    "from scipy.stats import rankdata\n",
    "import pandas_profiling as pp # statistical visualise\n",
    "from matplotlib import pyplot as plt\n",
    "from sklearn.tree import DecisionTreeClassifier\n",
    "from sklearn.ensemble import RandomForestClassifier\n",
    "from sklearn.model_selection import GridSearchCV\n",
    "from sklearn.metrics import roc_auc_score\n",
    "\n",
    "from sklearn.model_selection import StratifiedKFold, cross_val_score, RandomizedSearchCV\n",
    "from sklearn.linear_model import LogisticRegression\n",
    "from sklearn.ensemble import BaggingClassifier\n",
    "from sklearn.ensemble import RandomForestRegressor, RandomForestClassifier, BaggingRegressor\n",
    "from sklearn.ensemble import ExtraTreesClassifier\n",
    "\n",
    "\n",
    "%matplotlib inline"
   ]
  },
  {
   "cell_type": "code",
   "execution_count": 2,
   "metadata": {},
   "outputs": [
    {
     "name": "stdout",
     "output_type": "stream",
     "text": [
      "rows \t\t:  30500\n",
      "columns \t:  346\n"
     ]
    }
   ],
   "source": [
    "train_df = pd.read_csv('../data/train.csv', index_col='Unnamed: 0', sep='\\t')\n",
    "test_df = pd.read_csv('../data/test.csv', index_col='Unnamed: 0', sep='\\t')\n",
    "\n",
    "print (\"rows \\t\\t: \", train_df.shape[0])\n",
    "print (\"columns \\t: \", train_df.shape[1])\n",
    "# train_df.head(1) , test_df.head(1)"
   ]
  },
  {
   "cell_type": "code",
   "execution_count": 3,
   "metadata": {},
   "outputs": [],
   "source": [
    "def one_hot_encoding(train, test):\n",
    "    for i in train:\n",
    "        if len(train[i].unique()) < 15 and len(train[i].unique()) > 1:\n",
    "            train = pd.concat([train, pd.get_dummies(train[i], prefix=i)], axis=1)\n",
    "            train.drop(i, axis=1, inplace=True)\n",
    "            \n",
    "            test = pd.concat([test, pd.get_dummies(test[i], prefix=i)], axis=1)\n",
    "            test.drop(i, axis=1, inplace=True)\n",
    "    return train, test\n",
    "\n",
    "def    clean_data(train, test):\n",
    "    columns_name = []\n",
    "\n",
    "    for i in test:\n",
    "        if (len(train[i].unique()) == 1):\n",
    "            columns_name.append(i)\n",
    "        elif (len(train[i].unique()) == 2) and (len(test[i].unique()) < 2):\n",
    "            columns_name.append(i)\n",
    "        elif (len(train[i].unique()) == 2) and min(train[i].value_counts()) / sum(train[i].value_counts()) * 100 < .05:\n",
    "            columns_name.append(i)\n",
    "    return columns_name\n",
    "\n",
    "def get_corr_cols(df, method):\n",
    "    corr_matrix = df.corr(method=method).abs()\n",
    "    upper = corr_matrix.where(np.triu(np.ones(corr_matrix.shape), k=1).astype(np.bool))\n",
    "    return [column for column in upper.columns if any(upper[column] > 0.995)]"
   ]
  },
  {
   "cell_type": "markdown",
   "metadata": {},
   "source": [
    "---\n",
    "## 1. Опишите препроцессинг данных, инжиниринг фич и валидацию"
   ]
  },
  {
   "cell_type": "markdown",
   "metadata": {},
   "source": [
    "#### Разбиваем выборку"
   ]
  },
  {
   "cell_type": "code",
   "execution_count": 4,
   "metadata": {},
   "outputs": [],
   "source": [
    "X_train = train_df.drop(['0'], axis=1)\n",
    "y_train = train_df['0']\n",
    "\n",
    "X_validation = test_df.drop(['0'], axis=1)\n",
    "y_validation = test_df['0']"
   ]
  },
  {
   "cell_type": "markdown",
   "metadata": {},
   "source": [
    "#### Удаляем признаки у которых только 1 уникальное значения, и у которых вариабельность меньше 0.5%"
   ]
  },
  {
   "cell_type": "code",
   "execution_count": 5,
   "metadata": {},
   "outputs": [],
   "source": [
    "clean_columns = clean_data(X_train, X_validation)\n",
    "X_train.drop(clean_columns, axis=1, inplace=True)\n",
    "X_validation.drop(clean_columns, axis=1, inplace=True)"
   ]
  },
  {
   "cell_type": "markdown",
   "metadata": {},
   "source": [
    "#### Кодируем категориальные признаки one_hot_encoding"
   ]
  },
  {
   "cell_type": "code",
   "execution_count": 6,
   "metadata": {},
   "outputs": [],
   "source": [
    "# X_train, X_validation = one_hot_encoding(X_train, X_validation);\n",
    "# X_train.drop(list(set(X_train.columns) ^ set(X_validation.columns)), axis=1, inplace=True)"
   ]
  },
  {
   "cell_type": "markdown",
   "metadata": {},
   "source": [
    "#### Удаляем признаки у которых уровень корреляция больше 99"
   ]
  },
  {
   "cell_type": "code",
   "execution_count": 7,
   "metadata": {},
   "outputs": [],
   "source": [
    "corr_arr = get_corr_cols(X_train, 'pearson')\n",
    "X_train.drop(corr_arr, axis=1, inplace=True)\n",
    "X_validation.drop(corr_arr, axis=1, inplace=True)"
   ]
  },
  {
   "cell_type": "code",
   "execution_count": 8,
   "metadata": {},
   "outputs": [
    {
     "name": "stdout",
     "output_type": "stream",
     "text": [
      "Train : \n",
      "\t (30500, 308)\n"
     ]
    }
   ],
   "source": [
    "print (\"Train : \")\n",
    "print (\"\\t\", X_train.shape)"
   ]
  },
  {
   "cell_type": "markdown",
   "metadata": {},
   "source": [
    "#### Чистим данные вклад которых в можель не такой большой (для быстроты обработки)"
   ]
  },
  {
   "cell_type": "code",
   "execution_count": 9,
   "metadata": {},
   "outputs": [
    {
     "data": {
      "text/plain": [
       "(-1, 154)"
      ]
     },
     "execution_count": 9,
     "metadata": {},
     "output_type": "execute_result"
    },
    {
     "data": {
      "image/png": "[encoded data removed]",
      "text/plain": [
       "<Figure size 1080x360 with 1 Axes>"
      ]
     },
     "metadata": {},
     "output_type": "display_data"
    }
   ],
   "source": [
    "forest = RandomForestRegressor(n_estimators=500, max_features=10,\n",
    "                                random_state=0)\n",
    "\n",
    "forest.fit(X_train, y_train)\n",
    "importances = forest.feature_importances_\n",
    "\n",
    "indices = np.argsort(importances)[::-1]\n",
    "# Plot the feature importancies of the forest\n",
    "num_to_plot = int(len(X_train.columns) / 2)\n",
    "feature_indices = [ind + 1 for ind in indices[:num_to_plot]]\n",
    "\n",
    "\n",
    "plt.figure(figsize=(15, 5))\n",
    "plt.title(u\"Важность конструктов\")\n",
    "bars = plt.bar(range(num_to_plot), \n",
    "               importances[indices[:num_to_plot]],\n",
    "               align=\"center\")\n",
    "ticks = plt.xticks(range(num_to_plot), \n",
    "                   feature_indices)\n",
    "plt.xlim([-1, num_to_plot])\n"
   ]
  },
  {
   "cell_type": "code",
   "execution_count": 10,
   "metadata": {},
   "outputs": [],
   "source": [
    "important_values = zip(X_train.columns, forest.feature_importances_)\n",
    "\n",
    "to_del = []\n",
    "for i , j in important_values:\n",
    "    if j < 0.001:\n",
    "        to_del.append(i)\n",
    "\n",
    "X_train.drop(to_del, axis=1, inplace=True)\n",
    "X_validation.drop(to_del, axis=1, inplace=True)"
   ]
  },
  {
   "cell_type": "markdown",
   "metadata": {},
   "source": [
    "#### Разбиваем на train и test"
   ]
  },
  {
   "cell_type": "code",
   "execution_count": 11,
   "metadata": {},
   "outputs": [],
   "source": [
    "from sklearn.model_selection import train_test_split\n",
    "X_train_1, X_test, y_train_1, y_test = train_test_split(X_train, \n",
    "                                                   y_train,\n",
    "                                                   test_size=0.10, \n",
    "                                                   random_state=42,\n",
    "                                                   stratify=y_train)"
   ]
  },
  {
   "cell_type": "markdown",
   "metadata": {},
   "source": [
    "---\n",
    "## 2. Постройте логистическую регрессию. Укажите значение на валидации и публичном лидерборде"
   ]
  },
  {
   "cell_type": "code",
   "execution_count": 12,
   "metadata": {},
   "outputs": [
    {
     "name": "stdout",
     "output_type": "stream",
     "text": [
      "Train : \n",
      "\t (27450, 144)\n",
      "Test : \n",
      "\t (3050, 144)\n"
     ]
    }
   ],
   "source": [
    "print (\"Train : \")\n",
    "print (\"\\t\", X_train_1.shape)\n",
    "print (\"Test : \")\n",
    "print (\"\\t\", X_test.shape)"
   ]
  },
  {
   "cell_type": "code",
   "execution_count": 13,
   "metadata": {},
   "outputs": [],
   "source": [
    "log = LogisticRegression(random_state=42, class_weight='balanced')\n",
    "skf = StratifiedKFold(shuffle=True, n_splits=4, random_state=42)\n",
    "\n",
    "params = {\n",
    "    'C' : [.01, .1, .5, 1, 1.5, 2],\n",
    "    'class_weight' : [None, 'balanced'],\n",
    "#     'intercept_scaling' : [np.arange(0, 20, 1)],\n",
    "    'penalty' : ['l1'],\n",
    "    'tol' : [0.0001, 0.001, 0.002, 0.004]\n",
    "}\n",
    "\n",
    "best_params = {\n",
    "    'C': [0.5], \n",
    "    'class_weight': ['balanced'],\n",
    "    'penalty': ['l1'], \n",
    "    'tol': [0.0001]\n",
    "}"
   ]
  },
  {
   "cell_type": "code",
   "execution_count": 14,
   "metadata": {},
   "outputs": [
    {
     "name": "stdout",
     "output_type": "stream",
     "text": [
      "Fitting 4 folds for each of 1 candidates, totalling 4 fits\n",
      "[CV] C=0.5, class_weight=balanced, penalty=l1, tol=0.0001 ............\n",
      "[CV] C=0.5, class_weight=balanced, penalty=l1, tol=0.0001 ............\n",
      "[CV] C=0.5, class_weight=balanced, penalty=l1, tol=0.0001 ............\n",
      "[CV] C=0.5, class_weight=balanced, penalty=l1, tol=0.0001 ............\n",
      "[CV]  C=0.5, class_weight=balanced, penalty=l1, tol=0.0001, total=  22.1s\n",
      "[CV]  C=0.5, class_weight=balanced, penalty=l1, tol=0.0001, total=  40.3s\n",
      "[CV]  C=0.5, class_weight=balanced, penalty=l1, tol=0.0001, total=  49.1s\n",
      "[CV]  C=0.5, class_weight=balanced, penalty=l1, tol=0.0001, total=  52.0s\n"
     ]
    },
    {
     "name": "stderr",
     "output_type": "stream",
     "text": [
      "[Parallel(n_jobs=-1)]: Done   4 out of   4 | elapsed:   52.5s finished\n"
     ]
    },
    {
     "data": {
      "text/plain": [
       "GridSearchCV(cv=StratifiedKFold(n_splits=4, random_state=42, shuffle=True),\n",
       "       error_score='raise',\n",
       "       estimator=LogisticRegression(C=1.0, class_weight='balanced', dual=False,\n",
       "          fit_intercept=True, intercept_scaling=1, max_iter=100,\n",
       "          multi_class='ovr', n_jobs=1, penalty='l2', random_state=42,\n",
       "          solver='liblinear', tol=0.0001, verbose=0, warm_start=False),\n",
       "       fit_params=None, iid=True, n_jobs=-1,\n",
       "       param_grid={'C': [0.5], 'class_weight': ['balanced'], 'penalty': ['l1'], 'tol': [0.0001]},\n",
       "       pre_dispatch='2*n_jobs', refit=True, return_train_score='warn',\n",
       "       scoring='roc_auc', verbose=2)"
      ]
     },
     "execution_count": 14,
     "metadata": {},
     "output_type": "execute_result"
    }
   ],
   "source": [
    "log_reg = GridSearchCV(log, \n",
    "                       best_params, \n",
    "                       cv=skf, \n",
    "                       scoring='roc_auc', \n",
    "                       n_jobs=-1, \n",
    "                       verbose=2)\n",
    "\n",
    "log_reg.fit(X_train_1, y_train_1)"
   ]
  },
  {
   "cell_type": "code",
   "execution_count": 15,
   "metadata": {},
   "outputs": [
    {
     "name": "stdout",
     "output_type": "stream",
     "text": [
      "{'C': 0.5, 'class_weight': 'balanced', 'penalty': 'l1', 'tol': 0.0001}\n",
      "LogisticRegression(C=0.5, class_weight='balanced', dual=False,\n",
      "          fit_intercept=True, intercept_scaling=1, max_iter=100,\n",
      "          multi_class='ovr', n_jobs=1, penalty='l1', random_state=42,\n",
      "          solver='liblinear', tol=0.0001, verbose=0, warm_start=False)\n",
      "0.719548302053555\n"
     ]
    }
   ],
   "source": [
    "print (log_reg.best_params_)\n",
    "print (log_reg.best_estimator_)\n",
    "print (log_reg.best_score_)\n",
    "# 0.7291205711899963"
   ]
  },
  {
   "cell_type": "code",
   "execution_count": 16,
   "metadata": {},
   "outputs": [],
   "source": [
    "pred = log_reg.predict(X_test)"
   ]
  },
  {
   "cell_type": "markdown",
   "metadata": {},
   "source": [
    "#### Rank local True"
   ]
  },
  {
   "cell_type": "code",
   "execution_count": 17,
   "metadata": {},
   "outputs": [
    {
     "data": {
      "text/plain": [
       "0.6594285739508113"
      ]
     },
     "execution_count": 17,
     "metadata": {},
     "output_type": "execute_result"
    }
   ],
   "source": [
    "roc_auc_score(y_test, pred)"
   ]
  },
  {
   "cell_type": "markdown",
   "metadata": {},
   "source": [
    "---"
   ]
  },
  {
   "cell_type": "code",
   "execution_count": 18,
   "metadata": {},
   "outputs": [],
   "source": [
    "solution = pd.DataFrame(log_reg.predict(X_validation))\n",
    "solution.to_csv('solution.csv')"
   ]
  },
  {
   "cell_type": "markdown",
   "metadata": {},
   "source": [
    "    Rank site  : 0.67476017\n",
    "    Rank local : 0.6741615\n",
    "    С удалением всех коррелирующих переменных : 0.6721678"
   ]
  },
  {
   "cell_type": "markdown",
   "metadata": {},
   "source": [
    "---\n",
    "## 3. Постройте бэггинг на логистических регрессиях. Укажите значение на валидации и публичном лидерборде"
   ]
  },
  {
   "cell_type": "code",
   "execution_count": 19,
   "metadata": {},
   "outputs": [],
   "source": [
    "skf = StratifiedKFold(shuffle=True, n_splits=3, random_state=42)\n",
    "lg1 = LogisticRegression(class_weight='balanced')"
   ]
  },
  {
   "cell_type": "code",
   "execution_count": 20,
   "metadata": {},
   "outputs": [],
   "source": [
    "parameters = {\n",
    "    'max_samples': [.9],\n",
    "    'max_features': [.74],\n",
    "#    настройки для каждой лог регрессии\n",
    "    'base_estimator__C': [.5],\n",
    "    'base_estimator__class_weight': ['balanced'],\n",
    "    'base_estimator__penalty': ['l1']\n",
    "}"
   ]
  },
  {
   "cell_type": "code",
   "execution_count": null,
   "metadata": {},
   "outputs": [
    {
     "name": "stdout",
     "output_type": "stream",
     "text": [
      "Fitting 3 folds for each of 1 candidates, totalling 3 fits\n",
      "[CV] max_samples=0.9, max_features=0.74, base_estimator__penalty=l1, base_estimator__class_weight=balanced, base_estimator__C=0.5 \n",
      "[CV] max_samples=0.9, max_features=0.74, base_estimator__penalty=l1, base_estimator__class_weight=balanced, base_estimator__C=0.5 \n",
      "[CV] max_samples=0.9, max_features=0.74, base_estimator__penalty=l1, base_estimator__class_weight=balanced, base_estimator__C=0.5 \n"
     ]
    }
   ],
   "source": [
    "bg = BaggingClassifier(lg1, random_state=42, n_estimators=25)\n",
    "r_grid_search = RandomizedSearchCV(bg,\n",
    "                                   parameters,\n",
    "                                   scoring='roc_auc',\n",
    "                                   n_iter=1,\n",
    "                                   cv=skf,\n",
    "                                   random_state=42,\n",
    "                                   n_jobs=-1,\n",
    "                                   verbose=2)\n",
    "\n",
    "r_grid_search = r_grid_search.fit(X_train_1, y_train_1)"
   ]
  },
  {
   "cell_type": "code",
   "execution_count": null,
   "metadata": {},
   "outputs": [],
   "source": [
    "print(r_grid_search.best_params_)\n",
    "print(r_grid_search.best_score_)"
   ]
  },
  {
   "cell_type": "code",
   "execution_count": null,
   "metadata": {},
   "outputs": [],
   "source": [
    "pred = r_grid_search.predict(X_test)"
   ]
  },
  {
   "cell_type": "markdown",
   "metadata": {},
   "source": [
    "#### Rank local "
   ]
  },
  {
   "cell_type": "code",
   "execution_count": null,
   "metadata": {},
   "outputs": [],
   "source": [
    "roc_auc_score(y_test, pred)"
   ]
  },
  {
   "cell_type": "markdown",
   "metadata": {},
   "source": [
    "---"
   ]
  },
  {
   "cell_type": "code",
   "execution_count": null,
   "metadata": {},
   "outputs": [],
   "source": [
    "solution = pd.DataFrame(r_grid_search.predict(X_validation))\n",
    "solution.to_csv('solution.csv')"
   ]
  },
  {
   "cell_type": "markdown",
   "metadata": {},
   "source": [
    "    Rank site  : 0.66380251\n",
    "    Rank local : 0.665112231"
   ]
  },
  {
   "cell_type": "markdown",
   "metadata": {},
   "source": [
    "---\n",
    "## 4. Постройте случайный лес. Укажите значение на валидации и публичном лидерборде"
   ]
  },
  {
   "cell_type": "code",
   "execution_count": null,
   "metadata": {},
   "outputs": [],
   "source": [
    "parameters = {\n",
    "    'max_features': [30],\n",
    "    'min_samples_leaf': [7],\n",
    "    'max_depth': [40]\n",
    "}"
   ]
  },
  {
   "cell_type": "code",
   "execution_count": null,
   "metadata": {},
   "outputs": [],
   "source": [
    "skf = StratifiedKFold(shuffle=True, n_splits=5, random_state=42)\n",
    "etc = RandomForestClassifier(n_estimators=100, \n",
    "                             class_weight='balanced',\n",
    "                             random_state=42,\n",
    "                             n_jobs=-1)\n",
    "\n",
    "gsv = GridSearchCV(etc,\n",
    "                   parameters,\n",
    "                   scoring='roc_auc',\n",
    "                   cv=skf,\n",
    "                   n_jobs = -1,\n",
    "                   verbose=1\n",
    "                   )\n",
    "\n",
    "gsv.fit(X_train_1, y_train_1)"
   ]
  },
  {
   "cell_type": "code",
   "execution_count": null,
   "metadata": {},
   "outputs": [],
   "source": [
    "print (gsv.best_params_)\n",
    "print (gsv.best_score_)"
   ]
  },
  {
   "cell_type": "code",
   "execution_count": null,
   "metadata": {},
   "outputs": [],
   "source": [
    "pred = gsv.predict(X_test)"
   ]
  },
  {
   "cell_type": "markdown",
   "metadata": {},
   "source": [
    "#### Rank local "
   ]
  },
  {
   "cell_type": "code",
   "execution_count": null,
   "metadata": {},
   "outputs": [],
   "source": [
    "roc_auc_score(y_test, pred)"
   ]
  },
  {
   "cell_type": "markdown",
   "metadata": {},
   "source": [
    "---"
   ]
  },
  {
   "cell_type": "code",
   "execution_count": null,
   "metadata": {},
   "outputs": [],
   "source": [
    "X_test.shape, X_validation.shape"
   ]
  },
  {
   "cell_type": "code",
   "execution_count": null,
   "metadata": {},
   "outputs": [],
   "source": [
    "solution = pd.DataFrame(gsv.predict(X_validation))\n",
    "solution.to_csv('solution.csv')"
   ]
  },
  {
   "cell_type": "markdown",
   "metadata": {},
   "source": [
    "    Rank site  : 0.62453755\n",
    "    Rank local : 0.63116698"
   ]
  },
  {
   "cell_type": "markdown",
   "metadata": {},
   "source": [
    "---\n",
    "## 5. Подберите лучший вариант простого ансамбля. Опишите его и укажите значение на валидации и публичном лидерборде"
   ]
  },
  {
   "cell_type": "markdown",
   "metadata": {},
   "source": [
    "#### Разбиваем на train и test"
   ]
  },
  {
   "cell_type": "code",
   "execution_count": null,
   "metadata": {},
   "outputs": [],
   "source": [
    "from sklearn.model_selection import train_test_split\n",
    "X_train_1, X_test, y_train_1, y_test = train_test_split(X_train, \n",
    "                                                   y_train,\n",
    "                                                   test_size=0.10, \n",
    "                                                   random_state=42,\n",
    "                                                   stratify=y_train)"
   ]
  },
  {
   "cell_type": "markdown",
   "metadata": {},
   "source": [
    "### Подбор весов"
   ]
  },
  {
   "cell_type": "code",
   "execution_count": null,
   "metadata": {},
   "outputs": [],
   "source": [
    "result = []\n",
    "\n",
    "weight = .1\n",
    "best_score = 0.0\n",
    "for i in np.arange(.05, 1, .05):\n",
    "    score = roc_auc_score(y_test, i * log_reg.predict_proba(X_test)[:, 1] +\n",
    "                          (1 - i) * gsv.predict_proba(X_test)[:, 1])\n",
    "    if best_score < score:\n",
    "        best_score = score\n",
    "        weight = i   \n",
    "    #     print(score)"
   ]
  },
  {
   "cell_type": "code",
   "execution_count": null,
   "metadata": {},
   "outputs": [],
   "source": [
    "weight, best_score"
   ]
  },
  {
   "cell_type": "code",
   "execution_count": null,
   "metadata": {
    "scrolled": true
   },
   "outputs": [],
   "source": [
    "test_df['0'] = (weight * log_reg.predict_proba(X_validation)[:, 1] + (1 - weight) * gsv.predict_proba(X_validation)[:, 1])\n",
    "\n",
    "solution = pd.DataFrame(test_df['0'])\n",
    "solution.to_csv('solution.csv')\n",
    "test_df.head()"
   ]
  },
  {
   "cell_type": "markdown",
   "metadata": {},
   "source": [
    "    Rank site  : 0.74480024\n",
    "    Rank local : 0.72950764"
   ]
  },
  {
   "cell_type": "markdown",
   "metadata": {},
   "source": [
    "---\n",
    "## 6. Сделайте стекинг. Опишите его и укажите значение на валидации и публичном лидерборде"
   ]
  },
  {
   "cell_type": "code",
   "execution_count": null,
   "metadata": {},
   "outputs": [],
   "source": [
    "rf = log_reg.best_estimator_\n",
    "et = gsv.best_estimator_\n",
    "rf_predictions = []\n",
    "et_predictions = []\n",
    "\n",
    "for train, val in skf.split(X_train, y_train):\n",
    "    rf.fit(X_train.iloc[train], y_train[train])\n",
    "    et.fit(X_train.iloc[train], y_train[train])\n",
    "    rf_predictions.append([y_train[val], rf.predict_proba(X_train.iloc[val])[:,1]])\n",
    "    et_predictions.append([y_train[val], et.predict_proba(X_train.iloc[val])[:,1]])"
   ]
  },
  {
   "cell_type": "code",
   "execution_count": null,
   "metadata": {},
   "outputs": [],
   "source": [
    "X_train[\"rf_preds\"] = 0\n",
    "X_train[\"et_preds\"] = 0"
   ]
  },
  {
   "cell_type": "code",
   "execution_count": null,
   "metadata": {},
   "outputs": [],
   "source": [
    "for i, fold in enumerate(skf.split(X_train, y_train)):\n",
    "    train, val = fold[0], fold[1]\n",
    "    X_train.iloc[val, -2] = rf_predictions[i][1]\n",
    "    X_train.iloc[val, -1] = et_predictions[i][1]"
   ]
  },
  {
   "cell_type": "code",
   "execution_count": null,
   "metadata": {},
   "outputs": [],
   "source": [
    "X_train.head()"
   ]
  },
  {
   "cell_type": "code",
   "execution_count": null,
   "metadata": {},
   "outputs": [],
   "source": [
    "skf = StratifiedKFold(shuffle=True, n_splits=3, random_state=42)\n",
    "parameters = {\n",
    "    'max_features': [40],\n",
    "    'min_samples_leaf': [7],\n",
    "    'max_depth': [30]}\n",
    "etc = ExtraTreesClassifier(n_estimators=100, random_state=42, n_jobs=-1)\n",
    "etcv = GridSearchCV(etc, parameters, n_jobs=-1, cv=skf, verbose=1, scoring='roc_auc')\n",
    "etcv.fit(X_train, y_train)"
   ]
  },
  {
   "cell_type": "code",
   "execution_count": null,
   "metadata": {},
   "outputs": [],
   "source": [
    "etcv.best_params_,  etcv.best_score_"
   ]
  },
  {
   "cell_type": "code",
   "execution_count": null,
   "metadata": {},
   "outputs": [],
   "source": [
    "importances = etcv.best_estimator_.feature_importances_\n",
    "features = X_train.columns\n",
    "\n",
    "indices = np.argsort(importances)[::-1]\n",
    "# Plot the feature importancies of the forest\n",
    "num_to_plot = int(len(features) / 2)\n",
    "feature_indices = [ind+1 for ind in indices[:num_to_plot]]\n",
    "    \n",
    "plt.figure(figsize=(15,5))\n",
    "plt.title(u\"Важность признаков в стекинге\")\n",
    "bars = plt.bar(range(num_to_plot), \n",
    "               importances[indices[:num_to_plot]],\n",
    "               align=\"center\")\n",
    "ticks = plt.xticks(range(num_to_plot), \n",
    "                   feature_indices)\n",
    "plt.xlim([-1, num_to_plot])\n",
    "# plt.legend(bars, [u''.join(features[i-1]) + \" ({})\".format(i) \n",
    "#                   for i in feature_indices]);"
   ]
  },
  {
   "cell_type": "code",
   "execution_count": null,
   "metadata": {},
   "outputs": [],
   "source": [
    "log_reg = log_reg.predict_proba(X_validation)[:, 1]\n",
    "gsv = gsv.predict_proba(X_validation)[:, 1]\n",
    "X_validation[\"log_reg\"] = log_reg\n",
    "X_validation[\"gsv\"] = gsv"
   ]
  },
  {
   "cell_type": "code",
   "execution_count": null,
   "metadata": {},
   "outputs": [],
   "source": [
    "# etcv.predict_proba\n",
    "\n",
    "\n",
    "test_df['0'] = etcv.predict_proba(X_validation)\n",
    "\n",
    "solution = pd.DataFrame(test_df['0'])\n",
    "solution.to_csv('solution.csv')\n",
    "test_df.head()"
   ]
  },
  {
   "cell_type": "markdown",
   "metadata": {},
   "source": [
    "---\n",
    "## 7. Укажите ваш ник, значение на lb и валидации, опишите коротко решение"
   ]
  },
  {
   "cell_type": "markdown",
   "metadata": {},
   "source": [
    "    Name : someshit"
   ]
  },
  {
   "cell_type": "markdown",
   "metadata": {},
   "source": [
    "    Rank site  : \n",
    "    Rank local : 0.73870366"
   ]
  },
  {
   "cell_type": "code",
   "execution_count": null,
   "metadata": {},
   "outputs": [],
   "source": []
  }
 ],
 "metadata": {
  "kernelspec": {
   "display_name": "Python 3",
   "language": "python",
   "name": "python3"
  },
  "language_info": {
   "codemirror_mode": {
    "name": "ipython",
    "version": 3
   },
   "file_extension": ".py",
   "mimetype": "text/x-python",
   "name": "python",
   "nbconvert_exporter": "python",
   "pygments_lexer": "ipython3",
   "version": "3.6.2"
  }
 },
 "nbformat": 4,
 "nbformat_minor": 2
}
