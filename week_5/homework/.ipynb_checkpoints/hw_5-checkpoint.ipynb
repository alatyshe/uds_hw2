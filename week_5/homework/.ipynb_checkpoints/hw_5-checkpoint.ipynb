{
 "cells": [
  {
   "cell_type": "code",
   "execution_count": 222,
   "metadata": {},
   "outputs": [],
   "source": [
    "import numpy as np\n",
    "import pandas as pd           # for reading file\n",
    "import pandas_profiling as pp # statistical visualise\n",
    "from sklearn.tree import DecisionTreeClassifier\n",
    "from sklearn.ensemble import RandomForestClassifier\n",
    "from sklearn.model_selection import GridSearchCV\n",
    "from sklearn.metrics import roc_auc_score\n",
    "%matplotlib inline"
   ]
  },
  {
   "cell_type": "code",
   "execution_count": 223,
   "metadata": {},
   "outputs": [],
   "source": [
    "train_df = pd.read_csv('../data/train.csv', index_col='Unnamed: 0', sep='\\t')\n",
    "test_df = pd.read_csv('../data/test.csv', index_col='Unnamed: 0', sep='\\t')"
   ]
  },
  {
   "cell_type": "code",
   "execution_count": 224,
   "metadata": {},
   "outputs": [],
   "source": [
    "# train_df.head(1)\n",
    "# test_df.head(1)"
   ]
  },
  {
   "cell_type": "code",
   "execution_count": 225,
   "metadata": {},
   "outputs": [
    {
     "name": "stdout",
     "output_type": "stream",
     "text": [
      "rows \t\t:  30500\n",
      "columns \t:  346\n"
     ]
    }
   ],
   "source": [
    "print (\"rows \\t\\t: \", train_df.shape[0])\n",
    "print (\"columns \\t: \", train_df.shape[1])"
   ]
  },
  {
   "cell_type": "markdown",
   "metadata": {},
   "source": [
    "---\n",
    "## 1. Опишите препроцессинг данных, инжиниринг фич и валидацию"
   ]
  },
  {
   "cell_type": "markdown",
   "metadata": {},
   "source": [
    "#### Разбиваем выборку"
   ]
  },
  {
   "cell_type": "code",
   "execution_count": 226,
   "metadata": {},
   "outputs": [],
   "source": [
    "X_train = train_df.drop(['0'], axis=1)\n",
    "y_train = train_df['0']\n",
    "\n",
    "X_validation = test_df.drop(['0'], axis=1)\n",
    "y_validation = test_df['0']"
   ]
  },
  {
   "cell_type": "code",
   "execution_count": 227,
   "metadata": {},
   "outputs": [
    {
     "name": "stdout",
     "output_type": "stream",
     "text": [
      "Train : \n",
      "\t (30500, 345)\n",
      "\t (30500,)\n",
      "Test : \n",
      "\t (4166, 345)\n",
      "\t (4166,)\n"
     ]
    }
   ],
   "source": [
    "print (\"Train : \")\n",
    "print (\"\\t\", X_train.shape)\n",
    "print (\"\\t\", y_train.shape)\n",
    "print (\"Test : \")\n",
    "print (\"\\t\", X_validation.shape)\n",
    "print (\"\\t\", y_validation.shape)"
   ]
  },
  {
   "cell_type": "markdown",
   "metadata": {},
   "source": [
    "#### Удаляем признаки у которых только 2 и меньше уникальных значения, и у которых вариабельность меньше 0.5%"
   ]
  },
  {
   "cell_type": "code",
   "execution_count": 228,
   "metadata": {},
   "outputs": [],
   "source": [
    "def    clean_data(train, test):\n",
    "    columns_name = []\n",
    "    \n",
    "    for i in test:\n",
    "        if (len(train[i].unique()) == 1):\n",
    "            columns_name.append(i)\n",
    "        elif (len(train[i].unique()) == 2) and (len(test[i].unique()) <= 2):\n",
    "            columns_name.append(i)\n",
    "        elif (len(train[i].unique()) == 2) and min(train[i].value_counts()) / sum(train[i].value_counts()) * 100 < .5:\n",
    "            columns_name.append(i)\n",
    "    return columns_name"
   ]
  },
  {
   "cell_type": "code",
   "execution_count": 229,
   "metadata": {},
   "outputs": [],
   "source": [
    "clean_columns = clean_data(X_train, X_validation)\n",
    "X_train.drop(clean_columns, axis=1, inplace=True)\n",
    "X_validation.drop(clean_columns, axis=1, inplace=True)"
   ]
  },
  {
   "cell_type": "code",
   "execution_count": 230,
   "metadata": {},
   "outputs": [
    {
     "name": "stdout",
     "output_type": "stream",
     "text": [
      "Train : \n",
      "\t (30500, 106)\n",
      "\t (30500,)\n",
      "Test : \n",
      "\t (4166, 106)\n",
      "\t (4166,)\n"
     ]
    }
   ],
   "source": [
    "print (\"Train : \")\n",
    "print (\"\\t\", X_train.shape)\n",
    "print (\"\\t\", y_train.shape)\n",
    "print (\"Test : \")\n",
    "print (\"\\t\", X_validation.shape)\n",
    "print (\"\\t\", y_validation.shape)"
   ]
  },
  {
   "cell_type": "markdown",
   "metadata": {},
   "source": [
    "#### Удаляем признаки у которых уровень корреляция больше 99"
   ]
  },
  {
   "cell_type": "code",
   "execution_count": 199,
   "metadata": {},
   "outputs": [],
   "source": [
    "# Удаляем признаки с корреляцией 1\n",
    "def    check_corr_data(train, test, type_corr):\n",
    "    corr_matrix = train.corr(method=type_corr).abs()\n",
    "    \n",
    "    upper = corr_matrix.where(np.triu(np.ones(corr_matrix.shape), k=1).astype(np.bool))\n",
    "\n",
    "    to_drop = []\n",
    "    for column in upper.columns:\n",
    "        if any(upper[column] > 0.99):\n",
    "            train.drop(column, axis=1, inplace=True)\n",
    "            test.drop(column, axis=1, inplace=True)\n",
    "            print (column)\n",
    "            return True\n",
    "    return False\n",
    "\n",
    "def     clean_corr_data(train, test, type_corr):\n",
    "    while check_corr_data(train, test, type_corr):\n",
    "        ;"
   ]
  },
  {
   "cell_type": "code",
   "execution_count": 231,
   "metadata": {},
   "outputs": [
    {
     "name": "stdout",
     "output_type": "stream",
     "text": [
      "329\n",
      "333\n",
      "334\n"
     ]
    }
   ],
   "source": [
    "clean_corr_data(X_train, X_validation, 'pearson')"
   ]
  },
  {
   "cell_type": "code",
   "execution_count": 232,
   "metadata": {},
   "outputs": [
    {
     "name": "stdout",
     "output_type": "stream",
     "text": [
      "Train : \n",
      "\t (30500, 103)\n",
      "\t (30500,)\n",
      "Test : \n",
      "\t (4166, 103)\n",
      "\t (4166,)\n"
     ]
    }
   ],
   "source": [
    "print (\"Train : \")\n",
    "print (\"\\t\", X_train.shape)\n",
    "print (\"\\t\", y_train.shape)\n",
    "print (\"Test : \")\n",
    "print (\"\\t\", X_validation.shape)\n",
    "print (\"\\t\", y_validation.shape)"
   ]
  },
  {
   "cell_type": "markdown",
   "metadata": {},
   "source": [
    "#### Кодируем категориальные признаки one_hot_encoding"
   ]
  },
  {
   "cell_type": "code",
   "execution_count": 233,
   "metadata": {},
   "outputs": [],
   "source": [
    "def one_hot_encoding(train, test):\n",
    "    for i in train:\n",
    "        if len(train[i].unique()) < 15 and len(train[i].unique()) > 1:\n",
    "            train2 = pd.concat([train, pd.get_dummies(train[i], prefix=i)], axis=1)\n",
    "            train.drop([i], axis=1, inplace=True)\n",
    "            train = train2\n",
    "            \n",
    "            test2 = pd.concat([test, pd.get_dummies(train[i], prefix=i)], axis=1)\n",
    "            test.drop([i], axis=1, inplace=True)\n",
    "            test = test2\n",
    "            \n",
    "    return train, test"
   ]
  },
  {
   "cell_type": "code",
   "execution_count": 234,
   "metadata": {},
   "outputs": [],
   "source": [
    "X_train, X_validation = one_hot_encoding(X_train, X_validation);"
   ]
  },
  {
   "cell_type": "code",
   "execution_count": 235,
   "metadata": {},
   "outputs": [
    {
     "name": "stdout",
     "output_type": "stream",
     "text": [
      "Train : \n",
      "\t (30500, 221)\n",
      "\t (30500,)\n",
      "Test : \n",
      "\t (30500, 221)\n",
      "\t (4166,)\n"
     ]
    }
   ],
   "source": [
    "print (\"Train : \")\n",
    "print (\"\\t\", X_train.shape)\n",
    "print (\"\\t\", y_train.shape)\n",
    "print (\"Test : \")\n",
    "print (\"\\t\", X_validation.shape)\n",
    "print (\"\\t\", y_validation.shape)"
   ]
  },
  {
   "cell_type": "markdown",
   "metadata": {},
   "source": [
    "#### Опять чистим коррелирующие данные"
   ]
  },
  {
   "cell_type": "code",
   "execution_count": 236,
   "metadata": {},
   "outputs": [
    {
     "name": "stdout",
     "output_type": "stream",
     "text": [
      "120_0.0\n",
      "127_0.0\n",
      "212_1.0\n",
      "312_0.0\n",
      "312_0.39424\n",
      "312_0.4324508\n",
      "312_0.47097\n",
      "312_0.5197096\n",
      "312_0.5722851\n",
      "312_0.588824\n",
      "312_0.6608119\n",
      "312_0.7575137\n",
      "312_0.8421118000000001\n",
      "312_0.9310675\n",
      "312_1.0\n",
      "313_0.0\n",
      "313_0.016691400000000002\n",
      "313_0.052069500000000005\n",
      "313_0.0654514\n",
      "313_0.1504556\n",
      "313_0.2396119\n",
      "313_0.277947\n",
      "313_0.3472929\n",
      "313_0.461724\n",
      "313_0.6188458\n",
      "313_1.0\n",
      "314_0.0\n",
      "314_0.1178385\n",
      "314_0.1699219\n",
      "314_0.202474\n",
      "314_0.2057292\n",
      "314_0.4466146\n",
      "314_0.4889323\n",
      "314_0.5833333\n",
      "314_0.6126302\n",
      "314_1.0\n",
      "315_0.015435399999999997\n",
      "315_0.033313800000000005\n",
      "315_0.07876389999999997\n",
      "315_0.3415823\n",
      "315_0.4127147\n",
      "315_0.4488797000000001\n",
      "315_0.5901081\n",
      "315_0.6529206\n",
      "315_0.8525990999999999\n",
      "315_0.9929259\n",
      "315_1.0\n"
     ]
    }
   ],
   "source": [
    "clean_corr_data(X_train, X_validation, 'pearson')"
   ]
  },
  {
   "cell_type": "code",
   "execution_count": 237,
   "metadata": {},
   "outputs": [
    {
     "name": "stdout",
     "output_type": "stream",
     "text": [
      "Train : \n",
      "\t (30500, 174)\n",
      "\t (30500,)\n",
      "Test : \n",
      "\t (30500, 174)\n",
      "\t (4166,)\n"
     ]
    }
   ],
   "source": [
    "print (\"Train : \")\n",
    "print (\"\\t\", X_train.shape)\n",
    "print (\"\\t\", y_train.shape)\n",
    "print (\"Test : \")\n",
    "print (\"\\t\", X_validation.shape)\n",
    "print (\"\\t\", y_validation.shape)"
   ]
  },
  {
   "cell_type": "markdown",
   "metadata": {},
   "source": [
    "---"
   ]
  },
  {
   "cell_type": "code",
   "execution_count": 210,
   "metadata": {},
   "outputs": [],
   "source": [
    "# pp.ProfileReport(X_train)"
   ]
  },
  {
   "cell_type": "code",
   "execution_count": 17,
   "metadata": {},
   "outputs": [],
   "source": [
    "# pp.ProfileReport(X_test)"
   ]
  },
  {
   "cell_type": "markdown",
   "metadata": {},
   "source": [
    "---\n",
    "## 2. Постройте логистическую регрессию. Укажите значение на валидации и публичном лидерборде"
   ]
  },
  {
   "cell_type": "code",
   "execution_count": 238,
   "metadata": {},
   "outputs": [],
   "source": [
    "from sklearn.pipeline import Pipeline\n",
    "from sklearn.preprocessing import StandardScaler\n",
    "from sklearn.linear_model import LogisticRegression\n",
    "\n",
    "# X_train_1\n",
    "# y_train_1\n",
    "\n",
    "scaler = StandardScaler()\n",
    "logit = LogisticRegression(random_state=17, class_weight='balanced')\n",
    "logit_pipe_params = {'logit__C': np.logspace(-8, 8, 17)}\n"
   ]
  },
  {
   "cell_type": "code",
   "execution_count": 239,
   "metadata": {},
   "outputs": [
    {
     "name": "stdout",
     "output_type": "stream",
     "text": [
      "Fitting 3 folds for each of 17 candidates, totalling 51 fits\n"
     ]
    },
    {
     "ename": "JoblibValueError",
     "evalue": "JoblibValueError\n___________________________________________________________________________\nMultiprocessing exception:\n...........................................................................\n/Library/Frameworks/Python.framework/Versions/3.6/lib/python3.6/runpy.py in _run_module_as_main(mod_name='ipykernel_launcher', alter_argv=1)\n    188         sys.exit(msg)\n    189     main_globals = sys.modules[\"__main__\"].__dict__\n    190     if alter_argv:\n    191         sys.argv[0] = mod_spec.origin\n    192     return _run_code(code, main_globals, None,\n--> 193                      \"__main__\", mod_spec)\n        mod_spec = ModuleSpec(name='ipykernel_launcher', loader=<_f...b/python3.6/site-packages/ipykernel_launcher.py')\n    194 \n    195 def run_module(mod_name, init_globals=None,\n    196                run_name=None, alter_sys=False):\n    197     \"\"\"Execute a module's code without importing it\n\n...........................................................................\n/Library/Frameworks/Python.framework/Versions/3.6/lib/python3.6/runpy.py in _run_code(code=<code object <module> at 0x101190390, file \"/Use...3.6/site-packages/ipykernel_launcher.py\", line 5>, run_globals={'__annotations__': {}, '__builtins__': <module 'builtins' (built-in)>, '__cached__': '/Users/alatyshe/virt/lib/python3.6/site-packages/__pycache__/ipykernel_launcher.cpython-36.pyc', '__doc__': 'Entry point for launching an IPython kernel.\\n\\nTh...orts until\\nafter removing the cwd from sys.path.\\n', '__file__': '/Users/alatyshe/virt/lib/python3.6/site-packages/ipykernel_launcher.py', '__loader__': <_frozen_importlib_external.SourceFileLoader object>, '__name__': '__main__', '__package__': '', '__spec__': ModuleSpec(name='ipykernel_launcher', loader=<_f...b/python3.6/site-packages/ipykernel_launcher.py'), 'app': <module 'ipykernel.kernelapp' from '/Users/alaty.../python3.6/site-packages/ipykernel/kernelapp.py'>, ...}, init_globals=None, mod_name='__main__', mod_spec=ModuleSpec(name='ipykernel_launcher', loader=<_f...b/python3.6/site-packages/ipykernel_launcher.py'), pkg_name='', script_name=None)\n     80                        __cached__ = cached,\n     81                        __doc__ = None,\n     82                        __loader__ = loader,\n     83                        __package__ = pkg_name,\n     84                        __spec__ = mod_spec)\n---> 85     exec(code, run_globals)\n        code = <code object <module> at 0x101190390, file \"/Use...3.6/site-packages/ipykernel_launcher.py\", line 5>\n        run_globals = {'__annotations__': {}, '__builtins__': <module 'builtins' (built-in)>, '__cached__': '/Users/alatyshe/virt/lib/python3.6/site-packages/__pycache__/ipykernel_launcher.cpython-36.pyc', '__doc__': 'Entry point for launching an IPython kernel.\\n\\nTh...orts until\\nafter removing the cwd from sys.path.\\n', '__file__': '/Users/alatyshe/virt/lib/python3.6/site-packages/ipykernel_launcher.py', '__loader__': <_frozen_importlib_external.SourceFileLoader object>, '__name__': '__main__', '__package__': '', '__spec__': ModuleSpec(name='ipykernel_launcher', loader=<_f...b/python3.6/site-packages/ipykernel_launcher.py'), 'app': <module 'ipykernel.kernelapp' from '/Users/alaty.../python3.6/site-packages/ipykernel/kernelapp.py'>, ...}\n     86     return run_globals\n     87 \n     88 def _run_module_code(code, init_globals=None,\n     89                     mod_name=None, mod_spec=None,\n\n...........................................................................\n/Users/alatyshe/virt/lib/python3.6/site-packages/ipykernel_launcher.py in <module>()\n     11     # This is added back by InteractiveShellApp.init_path()\n     12     if sys.path[0] == '':\n     13         del sys.path[0]\n     14 \n     15     from ipykernel import kernelapp as app\n---> 16     app.launch_new_instance()\n\n...........................................................................\n/Users/alatyshe/virt/lib/python3.6/site-packages/traitlets/config/application.py in launch_instance(cls=<class 'ipykernel.kernelapp.IPKernelApp'>, argv=None, **kwargs={})\n    653 \n    654         If a global instance already exists, this reinitializes and starts it\n    655         \"\"\"\n    656         app = cls.instance(**kwargs)\n    657         app.initialize(argv)\n--> 658         app.start()\n        app.start = <bound method IPKernelApp.start of <ipykernel.kernelapp.IPKernelApp object>>\n    659 \n    660 #-----------------------------------------------------------------------------\n    661 # utility functions, for convenience\n    662 #-----------------------------------------------------------------------------\n\n...........................................................................\n/Users/alatyshe/virt/lib/python3.6/site-packages/ipykernel/kernelapp.py in start(self=<ipykernel.kernelapp.IPKernelApp object>)\n    481         if self.poller is not None:\n    482             self.poller.start()\n    483         self.kernel.start()\n    484         self.io_loop = ioloop.IOLoop.current()\n    485         try:\n--> 486             self.io_loop.start()\n        self.io_loop.start = <bound method BaseAsyncIOLoop.start of <tornado.platform.asyncio.AsyncIOMainLoop object>>\n    487         except KeyboardInterrupt:\n    488             pass\n    489 \n    490 launch_new_instance = IPKernelApp.launch_instance\n\n...........................................................................\n/Users/alatyshe/virt/lib/python3.6/site-packages/tornado/platform/asyncio.py in start(self=<tornado.platform.asyncio.AsyncIOMainLoop object>)\n    107         except RuntimeError:\n    108             old_loop = None\n    109         try:\n    110             self._setup_logging()\n    111             asyncio.set_event_loop(self.asyncio_loop)\n--> 112             self.asyncio_loop.run_forever()\n        self.asyncio_loop.run_forever = <bound method BaseEventLoop.run_forever of <_Uni...EventLoop running=True closed=False debug=False>>\n    113         finally:\n    114             asyncio.set_event_loop(old_loop)\n    115 \n    116     def stop(self):\n\n...........................................................................\n/Library/Frameworks/Python.framework/Versions/3.6/lib/python3.6/asyncio/base_events.py in run_forever(self=<_UnixSelectorEventLoop running=True closed=False debug=False>)\n    416             sys.set_asyncgen_hooks(firstiter=self._asyncgen_firstiter_hook,\n    417                                    finalizer=self._asyncgen_finalizer_hook)\n    418         try:\n    419             events._set_running_loop(self)\n    420             while True:\n--> 421                 self._run_once()\n        self._run_once = <bound method BaseEventLoop._run_once of <_UnixS...EventLoop running=True closed=False debug=False>>\n    422                 if self._stopping:\n    423                     break\n    424         finally:\n    425             self._stopping = False\n\n...........................................................................\n/Library/Frameworks/Python.framework/Versions/3.6/lib/python3.6/asyncio/base_events.py in _run_once(self=<_UnixSelectorEventLoop running=True closed=False debug=False>)\n   1421                         logger.warning('Executing %s took %.3f seconds',\n   1422                                        _format_handle(handle), dt)\n   1423                 finally:\n   1424                     self._current_handle = None\n   1425             else:\n-> 1426                 handle._run()\n        handle._run = <bound method Handle._run of <Handle BaseAsyncIOLoop._handle_events(14, 1)>>\n   1427         handle = None  # Needed to break cycles when an exception occurs.\n   1428 \n   1429     def _set_coroutine_wrapper(self, enabled):\n   1430         try:\n\n...........................................................................\n/Library/Frameworks/Python.framework/Versions/3.6/lib/python3.6/asyncio/events.py in _run(self=<Handle BaseAsyncIOLoop._handle_events(14, 1)>)\n    122             self._callback = None\n    123             self._args = None\n    124 \n    125     def _run(self):\n    126         try:\n--> 127             self._callback(*self._args)\n        self._callback = <bound method BaseAsyncIOLoop._handle_events of <tornado.platform.asyncio.AsyncIOMainLoop object>>\n        self._args = (14, 1)\n    128         except Exception as exc:\n    129             cb = _format_callback_source(self._callback, self._args)\n    130             msg = 'Exception in callback {}'.format(cb)\n    131             context = {\n\n...........................................................................\n/Users/alatyshe/virt/lib/python3.6/site-packages/tornado/platform/asyncio.py in _handle_events(self=<tornado.platform.asyncio.AsyncIOMainLoop object>, fd=14, events=1)\n     97             self.writers.remove(fd)\n     98         del self.handlers[fd]\n     99 \n    100     def _handle_events(self, fd, events):\n    101         fileobj, handler_func = self.handlers[fd]\n--> 102         handler_func(fileobj, events)\n        handler_func = <function wrap.<locals>.null_wrapper>\n        fileobj = <zmq.sugar.socket.Socket object>\n        events = 1\n    103 \n    104     def start(self):\n    105         try:\n    106             old_loop = asyncio.get_event_loop()\n\n...........................................................................\n/Users/alatyshe/virt/lib/python3.6/site-packages/tornado/stack_context.py in null_wrapper(*args=(<zmq.sugar.socket.Socket object>, 1), **kwargs={})\n    271         # Fast path when there are no active contexts.\n    272         def null_wrapper(*args, **kwargs):\n    273             try:\n    274                 current_state = _state.contexts\n    275                 _state.contexts = cap_contexts[0]\n--> 276                 return fn(*args, **kwargs)\n        args = (<zmq.sugar.socket.Socket object>, 1)\n        kwargs = {}\n    277             finally:\n    278                 _state.contexts = current_state\n    279         null_wrapper._wrapped = True\n    280         return null_wrapper\n\n...........................................................................\n/Users/alatyshe/virt/lib/python3.6/site-packages/zmq/eventloop/zmqstream.py in _handle_events(self=<zmq.eventloop.zmqstream.ZMQStream object>, fd=<zmq.sugar.socket.Socket object>, events=1)\n    445             return\n    446         zmq_events = self.socket.EVENTS\n    447         try:\n    448             # dispatch events:\n    449             if zmq_events & zmq.POLLIN and self.receiving():\n--> 450                 self._handle_recv()\n        self._handle_recv = <bound method ZMQStream._handle_recv of <zmq.eventloop.zmqstream.ZMQStream object>>\n    451                 if not self.socket:\n    452                     return\n    453             if zmq_events & zmq.POLLOUT and self.sending():\n    454                 self._handle_send()\n\n...........................................................................\n/Users/alatyshe/virt/lib/python3.6/site-packages/zmq/eventloop/zmqstream.py in _handle_recv(self=<zmq.eventloop.zmqstream.ZMQStream object>)\n    475             else:\n    476                 raise\n    477         else:\n    478             if self._recv_callback:\n    479                 callback = self._recv_callback\n--> 480                 self._run_callback(callback, msg)\n        self._run_callback = <bound method ZMQStream._run_callback of <zmq.eventloop.zmqstream.ZMQStream object>>\n        callback = <function wrap.<locals>.null_wrapper>\n        msg = [<zmq.sugar.frame.Frame object>, <zmq.sugar.frame.Frame object>, <zmq.sugar.frame.Frame object>, <zmq.sugar.frame.Frame object>, <zmq.sugar.frame.Frame object>, <zmq.sugar.frame.Frame object>, <zmq.sugar.frame.Frame object>]\n    481         \n    482 \n    483     def _handle_send(self):\n    484         \"\"\"Handle a send event.\"\"\"\n\n...........................................................................\n/Users/alatyshe/virt/lib/python3.6/site-packages/zmq/eventloop/zmqstream.py in _run_callback(self=<zmq.eventloop.zmqstream.ZMQStream object>, callback=<function wrap.<locals>.null_wrapper>, *args=([<zmq.sugar.frame.Frame object>, <zmq.sugar.frame.Frame object>, <zmq.sugar.frame.Frame object>, <zmq.sugar.frame.Frame object>, <zmq.sugar.frame.Frame object>, <zmq.sugar.frame.Frame object>, <zmq.sugar.frame.Frame object>],), **kwargs={})\n    427         close our socket.\"\"\"\n    428         try:\n    429             # Use a NullContext to ensure that all StackContexts are run\n    430             # inside our blanket exception handler rather than outside.\n    431             with stack_context.NullContext():\n--> 432                 callback(*args, **kwargs)\n        callback = <function wrap.<locals>.null_wrapper>\n        args = ([<zmq.sugar.frame.Frame object>, <zmq.sugar.frame.Frame object>, <zmq.sugar.frame.Frame object>, <zmq.sugar.frame.Frame object>, <zmq.sugar.frame.Frame object>, <zmq.sugar.frame.Frame object>, <zmq.sugar.frame.Frame object>],)\n        kwargs = {}\n    433         except:\n    434             gen_log.error(\"Uncaught exception in ZMQStream callback\",\n    435                           exc_info=True)\n    436             # Re-raise the exception so that IOLoop.handle_callback_exception\n\n...........................................................................\n/Users/alatyshe/virt/lib/python3.6/site-packages/tornado/stack_context.py in null_wrapper(*args=([<zmq.sugar.frame.Frame object>, <zmq.sugar.frame.Frame object>, <zmq.sugar.frame.Frame object>, <zmq.sugar.frame.Frame object>, <zmq.sugar.frame.Frame object>, <zmq.sugar.frame.Frame object>, <zmq.sugar.frame.Frame object>],), **kwargs={})\n    271         # Fast path when there are no active contexts.\n    272         def null_wrapper(*args, **kwargs):\n    273             try:\n    274                 current_state = _state.contexts\n    275                 _state.contexts = cap_contexts[0]\n--> 276                 return fn(*args, **kwargs)\n        args = ([<zmq.sugar.frame.Frame object>, <zmq.sugar.frame.Frame object>, <zmq.sugar.frame.Frame object>, <zmq.sugar.frame.Frame object>, <zmq.sugar.frame.Frame object>, <zmq.sugar.frame.Frame object>, <zmq.sugar.frame.Frame object>],)\n        kwargs = {}\n    277             finally:\n    278                 _state.contexts = current_state\n    279         null_wrapper._wrapped = True\n    280         return null_wrapper\n\n...........................................................................\n/Users/alatyshe/virt/lib/python3.6/site-packages/ipykernel/kernelbase.py in dispatcher(msg=[<zmq.sugar.frame.Frame object>, <zmq.sugar.frame.Frame object>, <zmq.sugar.frame.Frame object>, <zmq.sugar.frame.Frame object>, <zmq.sugar.frame.Frame object>, <zmq.sugar.frame.Frame object>, <zmq.sugar.frame.Frame object>])\n    278         if self.control_stream:\n    279             self.control_stream.on_recv(self.dispatch_control, copy=False)\n    280 \n    281         def make_dispatcher(stream):\n    282             def dispatcher(msg):\n--> 283                 return self.dispatch_shell(stream, msg)\n        msg = [<zmq.sugar.frame.Frame object>, <zmq.sugar.frame.Frame object>, <zmq.sugar.frame.Frame object>, <zmq.sugar.frame.Frame object>, <zmq.sugar.frame.Frame object>, <zmq.sugar.frame.Frame object>, <zmq.sugar.frame.Frame object>]\n    284             return dispatcher\n    285 \n    286         for s in self.shell_streams:\n    287             s.on_recv(make_dispatcher(s), copy=False)\n\n...........................................................................\n/Users/alatyshe/virt/lib/python3.6/site-packages/ipykernel/kernelbase.py in dispatch_shell(self=<ipykernel.ipkernel.IPythonKernel object>, stream=<zmq.eventloop.zmqstream.ZMQStream object>, msg={'buffers': [], 'content': {'allow_stdin': True, 'code': 'log_reg = GridSearchCV(logit, logit_pipe_params,...rint (lr_g.best_params_)\\nprint (lr_g.best_score_)', 'silent': False, 'stop_on_error': True, 'store_history': True, 'user_expressions': {}}, 'header': {'date': datetime.datetime(2018, 3, 25, 13, 23, 14, 937725, tzinfo=tzutc()), 'msg_id': '475843a8f6cf40428d1e7d02bc601b79', 'msg_type': 'execute_request', 'session': 'fe3dfffadecd4d8fa58b0b0378bc0f6f', 'username': 'username', 'version': '5.2'}, 'metadata': {}, 'msg_id': '475843a8f6cf40428d1e7d02bc601b79', 'msg_type': 'execute_request', 'parent_header': {}})\n    228             self.log.warn(\"Unknown message type: %r\", msg_type)\n    229         else:\n    230             self.log.debug(\"%s: %s\", msg_type, msg)\n    231             self.pre_handler_hook()\n    232             try:\n--> 233                 handler(stream, idents, msg)\n        handler = <bound method Kernel.execute_request of <ipykernel.ipkernel.IPythonKernel object>>\n        stream = <zmq.eventloop.zmqstream.ZMQStream object>\n        idents = [b'fe3dfffadecd4d8fa58b0b0378bc0f6f']\n        msg = {'buffers': [], 'content': {'allow_stdin': True, 'code': 'log_reg = GridSearchCV(logit, logit_pipe_params,...rint (lr_g.best_params_)\\nprint (lr_g.best_score_)', 'silent': False, 'stop_on_error': True, 'store_history': True, 'user_expressions': {}}, 'header': {'date': datetime.datetime(2018, 3, 25, 13, 23, 14, 937725, tzinfo=tzutc()), 'msg_id': '475843a8f6cf40428d1e7d02bc601b79', 'msg_type': 'execute_request', 'session': 'fe3dfffadecd4d8fa58b0b0378bc0f6f', 'username': 'username', 'version': '5.2'}, 'metadata': {}, 'msg_id': '475843a8f6cf40428d1e7d02bc601b79', 'msg_type': 'execute_request', 'parent_header': {}}\n    234             except Exception:\n    235                 self.log.error(\"Exception in message handler:\", exc_info=True)\n    236             finally:\n    237                 self.post_handler_hook()\n\n...........................................................................\n/Users/alatyshe/virt/lib/python3.6/site-packages/ipykernel/kernelbase.py in execute_request(self=<ipykernel.ipkernel.IPythonKernel object>, stream=<zmq.eventloop.zmqstream.ZMQStream object>, ident=[b'fe3dfffadecd4d8fa58b0b0378bc0f6f'], parent={'buffers': [], 'content': {'allow_stdin': True, 'code': 'log_reg = GridSearchCV(logit, logit_pipe_params,...rint (lr_g.best_params_)\\nprint (lr_g.best_score_)', 'silent': False, 'stop_on_error': True, 'store_history': True, 'user_expressions': {}}, 'header': {'date': datetime.datetime(2018, 3, 25, 13, 23, 14, 937725, tzinfo=tzutc()), 'msg_id': '475843a8f6cf40428d1e7d02bc601b79', 'msg_type': 'execute_request', 'session': 'fe3dfffadecd4d8fa58b0b0378bc0f6f', 'username': 'username', 'version': '5.2'}, 'metadata': {}, 'msg_id': '475843a8f6cf40428d1e7d02bc601b79', 'msg_type': 'execute_request', 'parent_header': {}})\n    394         if not silent:\n    395             self.execution_count += 1\n    396             self._publish_execute_input(code, parent, self.execution_count)\n    397 \n    398         reply_content = self.do_execute(code, silent, store_history,\n--> 399                                         user_expressions, allow_stdin)\n        user_expressions = {}\n        allow_stdin = True\n    400 \n    401         # Flush output before sending the reply.\n    402         sys.stdout.flush()\n    403         sys.stderr.flush()\n\n...........................................................................\n/Users/alatyshe/virt/lib/python3.6/site-packages/ipykernel/ipkernel.py in do_execute(self=<ipykernel.ipkernel.IPythonKernel object>, code='log_reg = GridSearchCV(logit, logit_pipe_params,...rint (lr_g.best_params_)\\nprint (lr_g.best_score_)', silent=False, store_history=True, user_expressions={}, allow_stdin=True)\n    203 \n    204         self._forward_input(allow_stdin)\n    205 \n    206         reply_content = {}\n    207         try:\n--> 208             res = shell.run_cell(code, store_history=store_history, silent=silent)\n        res = undefined\n        shell.run_cell = <bound method ZMQInteractiveShell.run_cell of <ipykernel.zmqshell.ZMQInteractiveShell object>>\n        code = 'log_reg = GridSearchCV(logit, logit_pipe_params,...rint (lr_g.best_params_)\\nprint (lr_g.best_score_)'\n        store_history = True\n        silent = False\n    209         finally:\n    210             self._restore_input()\n    211 \n    212         if res.error_before_exec is not None:\n\n...........................................................................\n/Users/alatyshe/virt/lib/python3.6/site-packages/ipykernel/zmqshell.py in run_cell(self=<ipykernel.zmqshell.ZMQInteractiveShell object>, *args=('log_reg = GridSearchCV(logit, logit_pipe_params,...rint (lr_g.best_params_)\\nprint (lr_g.best_score_)',), **kwargs={'silent': False, 'store_history': True})\n    532             )\n    533         self.payload_manager.write_payload(payload)\n    534 \n    535     def run_cell(self, *args, **kwargs):\n    536         self._last_traceback = None\n--> 537         return super(ZMQInteractiveShell, self).run_cell(*args, **kwargs)\n        self.run_cell = <bound method ZMQInteractiveShell.run_cell of <ipykernel.zmqshell.ZMQInteractiveShell object>>\n        args = ('log_reg = GridSearchCV(logit, logit_pipe_params,...rint (lr_g.best_params_)\\nprint (lr_g.best_score_)',)\n        kwargs = {'silent': False, 'store_history': True}\n    538 \n    539     def _showtraceback(self, etype, evalue, stb):\n    540         # try to preserve ordering of tracebacks and print statements\n    541         sys.stdout.flush()\n\n...........................................................................\n/Users/alatyshe/virt/lib/python3.6/site-packages/IPython/core/interactiveshell.py in run_cell(self=<ipykernel.zmqshell.ZMQInteractiveShell object>, raw_cell='log_reg = GridSearchCV(logit, logit_pipe_params,...rint (lr_g.best_params_)\\nprint (lr_g.best_score_)', store_history=True, silent=False, shell_futures=True)\n   2723                 self.displayhook.exec_result = result\n   2724 \n   2725                 # Execute the user code\n   2726                 interactivity = \"none\" if silent else self.ast_node_interactivity\n   2727                 has_raised = self.run_ast_nodes(code_ast.body, cell_name,\n-> 2728                    interactivity=interactivity, compiler=compiler, result=result)\n        interactivity = 'last_expr'\n        compiler = <IPython.core.compilerop.CachingCompiler object>\n   2729                 \n   2730                 self.last_execution_succeeded = not has_raised\n   2731                 self.last_execution_result = result\n   2732 \n\n...........................................................................\n/Users/alatyshe/virt/lib/python3.6/site-packages/IPython/core/interactiveshell.py in run_ast_nodes(self=<ipykernel.zmqshell.ZMQInteractiveShell object>, nodelist=[<_ast.Assign object>, <_ast.Expr object>, <_ast.Expr object>, <_ast.Expr object>], cell_name='<ipython-input-239-6968281f8290>', interactivity='last', compiler=<IPython.core.compilerop.CachingCompiler object>, result=<ExecutionResult object at 10db7a9e8, execution_..._before_exec=None error_in_exec=None result=None>)\n   2845 \n   2846         try:\n   2847             for i, node in enumerate(to_run_exec):\n   2848                 mod = ast.Module([node])\n   2849                 code = compiler(mod, cell_name, \"exec\")\n-> 2850                 if self.run_code(code, result):\n        self.run_code = <bound method InteractiveShell.run_code of <ipykernel.zmqshell.ZMQInteractiveShell object>>\n        code = <code object <module> at 0x10b591f60, file \"<ipython-input-239-6968281f8290>\", line 2>\n        result = <ExecutionResult object at 10db7a9e8, execution_..._before_exec=None error_in_exec=None result=None>\n   2851                     return True\n   2852 \n   2853             for i, node in enumerate(to_run_interactive):\n   2854                 mod = ast.Interactive([node])\n\n...........................................................................\n/Users/alatyshe/virt/lib/python3.6/site-packages/IPython/core/interactiveshell.py in run_code(self=<ipykernel.zmqshell.ZMQInteractiveShell object>, code_obj=<code object <module> at 0x10b591f60, file \"<ipython-input-239-6968281f8290>\", line 2>, result=<ExecutionResult object at 10db7a9e8, execution_..._before_exec=None error_in_exec=None result=None>)\n   2905         outflag = True  # happens in more places, so it's easier as default\n   2906         try:\n   2907             try:\n   2908                 self.hooks.pre_run_code_hook()\n   2909                 #rprint('Running code', repr(code_obj)) # dbg\n-> 2910                 exec(code_obj, self.user_global_ns, self.user_ns)\n        code_obj = <code object <module> at 0x10b591f60, file \"<ipython-input-239-6968281f8290>\", line 2>\n        self.user_global_ns = {'DecisionTreeClassifier': <class 'sklearn.tree.tree.DecisionTreeClassifier'>, 'GridSearchCV': <class 'sklearn.model_selection._search.GridSearchCV'>, 'In': ['', \"import numpy as np\\nimport pandas as pd          ..._ipython().run_line_magic('matplotlib', 'inline')\", r\"train_df = pd.read_csv('../data/train.csv', inde...data/test.csv', index_col='Unnamed: 0', sep='\\t')\", '# train_df.head(1)\\n# test_df.head(1)', 'print (\"rows \\\\t\\\\t: \", train_df.shape[0])\\nprint (\"columns \\\\t: \", train_df.shape[1])', \"X_train = train_df.drop(['0'], axis=1)\\ny_train =...test_df.drop(['0'], axis=1)\\ny_test = test_df['0']\", 'print (\"Train : \")\\nprint (\"\\\\t\", X_train.shape)\\np...t (\"\\\\t\", X_test.shape)\\nprint (\"\\\\t\", y_test.shape)', 'def    clean_data(train, test):\\n    columns_name...   columns_name.append(i)\\n    return columns_name', 'clean_columns = clean_data(X_train, X_test)\\nX_tr...\\nX_test.drop(clean_columns, axis=1, inplace=True)', 'print (\"Train : \")\\nprint (\"\\\\t\", X_train.shape)\\np...t (\"\\\\t\", X_test.shape)\\nprint (\"\\\\t\", y_test.shape)', '# Удаляем признаки с корреляцией 1\\ndef    clean_...ny(upper[column] > 0.99)]\\n    \\n    return to_drop', 'to_drop = clean_corr_data(X_train, X_test)\\nX_tra...s=1)\\nX_test.drop(X_test.columns[to_drop], axis=1)', 'to_drop = clean_corr_data(X_train, X_test)\\nX_tra...=True)\\nX_test.drop(to_drop, axis=1, inplace=True)', 'print (\"Train : \")\\nprint (\"\\\\t\", X_train.shape)\\np...t (\"\\\\t\", X_test.shape)\\nprint (\"\\\\t\", y_test.shape)', \"import numpy as np\\nimport pandas as pd          ..._ipython().run_line_magic('matplotlib', 'inline')\", r\"train_df = pd.read_csv('../data/train.csv', inde...data/test.csv', index_col='Unnamed: 0', sep='\\t')\", '# train_df.head(1)\\n# test_df.head(1)', 'print (\"rows \\\\t\\\\t: \", train_df.shape[0])\\nprint (\"columns \\\\t: \", train_df.shape[1])', \"X_train = train_df.drop(['0'], axis=1)\\ny_train =...test_df.drop(['0'], axis=1)\\ny_test = test_df['0']\", 'print (\"Train : \")\\nprint (\"\\\\t\", X_train.shape)\\np...t (\"\\\\t\", X_test.shape)\\nprint (\"\\\\t\", y_test.shape)', ...], 'LogisticRegression': <class 'sklearn.linear_model.logistic.LogisticRegression'>, 'Out': {50: <pandas_profiling.ProfileReport object>, 64: <pandas_profiling.ProfileReport object>, 68: <pandas_profiling.ProfileReport object>, 71:             7        13        66        67     ...3 -0.423753  1.000000  \n\n[106 rows x 106 columns], 72:             7        13        66        67     ...3  0.423753  1.000000  \n\n[106 rows x 106 columns], 73:             7        13        66        67     ...3 -0.423753  1.000000  \n\n[106 rows x 106 columns], 74: <bound method NDFrame.abs of             7      ... -0.423753  1.000000  \n\n[106 rows x 106 columns]>, 75:             7        13        66        67     ...3  0.423753  1.000000  \n\n[106 rows x 106 columns], 76:       7        13        66        67        68 ...N       NaN       NaN  \n\n[106 rows x 106 columns], 95: 0        0.783002\n1        0.719187\n2        0.6...0.463786\nName: 329, Length: 30500, dtype: float64, ...}, 'Pipeline': <class 'sklearn.pipeline.Pipeline'>, 'RandomForestClassifier': <class 'sklearn.ensemble.forest.RandomForestClassifier'>, 'StandardScaler': <class 'sklearn.preprocessing.data.StandardScaler'>, 'X_test':               7        13       66       67     ... 0  \n30499        0  \n\n[30500 rows x 174 columns], 'X_train':               7        13   66       67       68... 0  \n30499        0  \n\n[30500 rows x 174 columns], ...}\n        self.user_ns = {'DecisionTreeClassifier': <class 'sklearn.tree.tree.DecisionTreeClassifier'>, 'GridSearchCV': <class 'sklearn.model_selection._search.GridSearchCV'>, 'In': ['', \"import numpy as np\\nimport pandas as pd          ..._ipython().run_line_magic('matplotlib', 'inline')\", r\"train_df = pd.read_csv('../data/train.csv', inde...data/test.csv', index_col='Unnamed: 0', sep='\\t')\", '# train_df.head(1)\\n# test_df.head(1)', 'print (\"rows \\\\t\\\\t: \", train_df.shape[0])\\nprint (\"columns \\\\t: \", train_df.shape[1])', \"X_train = train_df.drop(['0'], axis=1)\\ny_train =...test_df.drop(['0'], axis=1)\\ny_test = test_df['0']\", 'print (\"Train : \")\\nprint (\"\\\\t\", X_train.shape)\\np...t (\"\\\\t\", X_test.shape)\\nprint (\"\\\\t\", y_test.shape)', 'def    clean_data(train, test):\\n    columns_name...   columns_name.append(i)\\n    return columns_name', 'clean_columns = clean_data(X_train, X_test)\\nX_tr...\\nX_test.drop(clean_columns, axis=1, inplace=True)', 'print (\"Train : \")\\nprint (\"\\\\t\", X_train.shape)\\np...t (\"\\\\t\", X_test.shape)\\nprint (\"\\\\t\", y_test.shape)', '# Удаляем признаки с корреляцией 1\\ndef    clean_...ny(upper[column] > 0.99)]\\n    \\n    return to_drop', 'to_drop = clean_corr_data(X_train, X_test)\\nX_tra...s=1)\\nX_test.drop(X_test.columns[to_drop], axis=1)', 'to_drop = clean_corr_data(X_train, X_test)\\nX_tra...=True)\\nX_test.drop(to_drop, axis=1, inplace=True)', 'print (\"Train : \")\\nprint (\"\\\\t\", X_train.shape)\\np...t (\"\\\\t\", X_test.shape)\\nprint (\"\\\\t\", y_test.shape)', \"import numpy as np\\nimport pandas as pd          ..._ipython().run_line_magic('matplotlib', 'inline')\", r\"train_df = pd.read_csv('../data/train.csv', inde...data/test.csv', index_col='Unnamed: 0', sep='\\t')\", '# train_df.head(1)\\n# test_df.head(1)', 'print (\"rows \\\\t\\\\t: \", train_df.shape[0])\\nprint (\"columns \\\\t: \", train_df.shape[1])', \"X_train = train_df.drop(['0'], axis=1)\\ny_train =...test_df.drop(['0'], axis=1)\\ny_test = test_df['0']\", 'print (\"Train : \")\\nprint (\"\\\\t\", X_train.shape)\\np...t (\"\\\\t\", X_test.shape)\\nprint (\"\\\\t\", y_test.shape)', ...], 'LogisticRegression': <class 'sklearn.linear_model.logistic.LogisticRegression'>, 'Out': {50: <pandas_profiling.ProfileReport object>, 64: <pandas_profiling.ProfileReport object>, 68: <pandas_profiling.ProfileReport object>, 71:             7        13        66        67     ...3 -0.423753  1.000000  \n\n[106 rows x 106 columns], 72:             7        13        66        67     ...3  0.423753  1.000000  \n\n[106 rows x 106 columns], 73:             7        13        66        67     ...3 -0.423753  1.000000  \n\n[106 rows x 106 columns], 74: <bound method NDFrame.abs of             7      ... -0.423753  1.000000  \n\n[106 rows x 106 columns]>, 75:             7        13        66        67     ...3  0.423753  1.000000  \n\n[106 rows x 106 columns], 76:       7        13        66        67        68 ...N       NaN       NaN  \n\n[106 rows x 106 columns], 95: 0        0.783002\n1        0.719187\n2        0.6...0.463786\nName: 329, Length: 30500, dtype: float64, ...}, 'Pipeline': <class 'sklearn.pipeline.Pipeline'>, 'RandomForestClassifier': <class 'sklearn.ensemble.forest.RandomForestClassifier'>, 'StandardScaler': <class 'sklearn.preprocessing.data.StandardScaler'>, 'X_test':               7        13       66       67     ... 0  \n30499        0  \n\n[30500 rows x 174 columns], 'X_train':               7        13   66       67       68... 0  \n30499        0  \n\n[30500 rows x 174 columns], ...}\n   2911             finally:\n   2912                 # Reset our crash handler in place\n   2913                 sys.excepthook = old_excepthook\n   2914         except SystemExit as e:\n\n...........................................................................\n/Users/alatyshe/Google Drive/Projects/Data_Science/ds_course_belka/week_5/homework/<ipython-input-239-6968281f8290> in <module>()\n      1 log_reg = GridSearchCV(logit, logit_pipe_params, scoring='roc_auc', n_jobs=-1, verbose=1)\n----> 2 log_reg.fit(X_train, y_train)\n      3 print (lr_g.best_params_)\n      4 print (lr_g.best_score_)\n\n...........................................................................\n/Users/alatyshe/virt/lib/python3.6/site-packages/sklearn/model_selection/_search.py in fit(self=GridSearchCV(cv=None, error_score='raise',\n     ...core='warn',\n       scoring='roc_auc', verbose=1), X=              7        13   66       67       68... 0  \n30499        0  \n\n[30500 rows x 174 columns], y=0        1\n1        1\n2        0\n3        0\n4   ...0\n30499    0\nName: 0, Length: 30500, dtype: int64, groups=None, **fit_params={})\n    634                                   return_train_score=self.return_train_score,\n    635                                   return_n_test_samples=True,\n    636                                   return_times=True, return_parameters=False,\n    637                                   error_score=self.error_score)\n    638           for parameters, (train, test) in product(candidate_params,\n--> 639                                                    cv.split(X, y, groups)))\n        cv.split = <bound method StratifiedKFold.split of Stratifie...ld(n_splits=3, random_state=None, shuffle=False)>\n        X =               7        13   66       67       68... 0  \n30499        0  \n\n[30500 rows x 174 columns]\n        y = 0        1\n1        1\n2        0\n3        0\n4   ...0\n30499    0\nName: 0, Length: 30500, dtype: int64\n        groups = None\n    640 \n    641         # if one choose to see train score, \"out\" will contain train score info\n    642         if self.return_train_score:\n    643             (train_score_dicts, test_score_dicts, test_sample_counts, fit_time,\n\n...........................................................................\n/Users/alatyshe/virt/lib/python3.6/site-packages/sklearn/externals/joblib/parallel.py in __call__(self=Parallel(n_jobs=-1), iterable=<generator object BaseSearchCV.fit.<locals>.<genexpr>>)\n    784             if pre_dispatch == \"all\" or n_jobs == 1:\n    785                 # The iterable was consumed all at once by the above for loop.\n    786                 # No need to wait for async callbacks to trigger to\n    787                 # consumption.\n    788                 self._iterating = False\n--> 789             self.retrieve()\n        self.retrieve = <bound method Parallel.retrieve of Parallel(n_jobs=-1)>\n    790             # Make sure that we get a last message telling us we are done\n    791             elapsed_time = time.time() - self._start_time\n    792             self._print('Done %3i out of %3i | elapsed: %s finished',\n    793                         (len(self._output), len(self._output),\n\n---------------------------------------------------------------------------\nSub-process traceback:\n---------------------------------------------------------------------------\nValueError                                         Sun Mar 25 16:23:15 2018\nPID: 40272                   Python 3.6.2: /Users/alatyshe/virt/bin/python3\n...........................................................................\n/Users/alatyshe/virt/lib/python3.6/site-packages/sklearn/externals/joblib/parallel.py in __call__(self=<sklearn.externals.joblib.parallel.BatchedCalls object>)\n    126     def __init__(self, iterator_slice):\n    127         self.items = list(iterator_slice)\n    128         self._size = len(self.items)\n    129 \n    130     def __call__(self):\n--> 131         return [func(*args, **kwargs) for func, args, kwargs in self.items]\n        self.items = [(<function _fit_and_score>, (LogisticRegression(C=1.0, class_weight='balanced...linear', tol=0.0001, verbose=0, warm_start=False),               7        13   66       67       68... 0  \n30499        0  \n\n[30500 rows x 174 columns], 0        1\n1        1\n2        0\n3        0\n4   ...0\n30499    0\nName: 0, Length: 30500, dtype: int64, {'score': make_scorer(roc_auc_score, needs_threshold=True)}, array([10121, 10122, 10123, ..., 30497, 30498, 30499]), array([    0,     1,     2, ..., 10361, 10366, 10373]), 1, {'logit__C': 1e-08}), {'error_score': 'raise', 'fit_params': {}, 'return_n_test_samples': True, 'return_parameters': False, 'return_times': True, 'return_train_score': 'warn'})]\n    132 \n    133     def __len__(self):\n    134         return self._size\n    135 \n\n...........................................................................\n/Users/alatyshe/virt/lib/python3.6/site-packages/sklearn/externals/joblib/parallel.py in <listcomp>(.0=<list_iterator object>)\n    126     def __init__(self, iterator_slice):\n    127         self.items = list(iterator_slice)\n    128         self._size = len(self.items)\n    129 \n    130     def __call__(self):\n--> 131         return [func(*args, **kwargs) for func, args, kwargs in self.items]\n        func = <function _fit_and_score>\n        args = (LogisticRegression(C=1.0, class_weight='balanced...linear', tol=0.0001, verbose=0, warm_start=False),               7        13   66       67       68... 0  \n30499        0  \n\n[30500 rows x 174 columns], 0        1\n1        1\n2        0\n3        0\n4   ...0\n30499    0\nName: 0, Length: 30500, dtype: int64, {'score': make_scorer(roc_auc_score, needs_threshold=True)}, array([10121, 10122, 10123, ..., 30497, 30498, 30499]), array([    0,     1,     2, ..., 10361, 10366, 10373]), 1, {'logit__C': 1e-08})\n        kwargs = {'error_score': 'raise', 'fit_params': {}, 'return_n_test_samples': True, 'return_parameters': False, 'return_times': True, 'return_train_score': 'warn'}\n    132 \n    133     def __len__(self):\n    134         return self._size\n    135 \n\n...........................................................................\n/Users/alatyshe/virt/lib/python3.6/site-packages/sklearn/model_selection/_validation.py in _fit_and_score(estimator=LogisticRegression(C=1.0, class_weight='balanced...linear', tol=0.0001, verbose=0, warm_start=False), X=              7        13   66       67       68... 0  \n30499        0  \n\n[30500 rows x 174 columns], y=0        1\n1        1\n2        0\n3        0\n4   ...0\n30499    0\nName: 0, Length: 30500, dtype: int64, scorer={'score': make_scorer(roc_auc_score, needs_threshold=True)}, train=array([10121, 10122, 10123, ..., 30497, 30498, 30499]), test=array([    0,     1,     2, ..., 10361, 10366, 10373]), verbose=1, parameters={'logit__C': 1e-08}, fit_params={}, return_train_score='warn', return_parameters=False, return_n_test_samples=True, return_times=True, error_score='raise')\n    439                       for k, v in fit_params.items()])\n    440 \n    441     test_scores = {}\n    442     train_scores = {}\n    443     if parameters is not None:\n--> 444         estimator.set_params(**parameters)\n        estimator.set_params = <bound method BaseEstimator.set_params of Logist...inear', tol=0.0001, verbose=0, warm_start=False)>\n        parameters = {'logit__C': 1e-08}\n    445 \n    446     start_time = time.time()\n    447 \n    448     X_train, y_train = _safe_split(estimator, X, y, train)\n\n...........................................................................\n/Users/alatyshe/virt/lib/python3.6/site-packages/sklearn/base.py in set_params(self=LogisticRegression(C=1.0, class_weight='balanced...linear', tol=0.0001, verbose=0, warm_start=False), **params={'logit__C': 1e-08})\n    269             key, delim, sub_key = key.partition('__')\n    270             if key not in valid_params:\n    271                 raise ValueError('Invalid parameter %s for estimator %s. '\n    272                                  'Check the list of available parameters '\n    273                                  'with `estimator.get_params().keys()`.' %\n--> 274                                  (key, self))\n        key = 'logit'\n        self = LogisticRegression(C=1.0, class_weight='balanced...linear', tol=0.0001, verbose=0, warm_start=False)\n    275 \n    276             if delim:\n    277                 nested_params[key][sub_key] = value\n    278             else:\n\nValueError: Invalid parameter logit for estimator LogisticRegression(C=1.0, class_weight='balanced', dual=False,\n          fit_intercept=True, intercept_scaling=1, max_iter=100,\n          multi_class='ovr', n_jobs=1, penalty='l2', random_state=17,\n          solver='liblinear', tol=0.0001, verbose=0, warm_start=False). Check the list of available parameters with `estimator.get_params().keys()`.\n___________________________________________________________________________",
     "output_type": "error",
     "traceback": [
      "\u001b[0;31m---------------------------------------------------------------------------\u001b[0m",
      "\u001b[0;31mRemoteTraceback\u001b[0m                           Traceback (most recent call last)",
      "\u001b[0;31mRemoteTraceback\u001b[0m: \n\"\"\"\nTraceback (most recent call last):\n  File \"/Users/alatyshe/virt/lib/python3.6/site-packages/sklearn/externals/joblib/_parallel_backends.py\", line 350, in __call__\n    return self.func(*args, **kwargs)\n  File \"/Users/alatyshe/virt/lib/python3.6/site-packages/sklearn/externals/joblib/parallel.py\", line 131, in __call__\n    return [func(*args, **kwargs) for func, args, kwargs in self.items]\n  File \"/Users/alatyshe/virt/lib/python3.6/site-packages/sklearn/externals/joblib/parallel.py\", line 131, in <listcomp>\n    return [func(*args, **kwargs) for func, args, kwargs in self.items]\n  File \"/Users/alatyshe/virt/lib/python3.6/site-packages/sklearn/model_selection/_validation.py\", line 444, in _fit_and_score\n    estimator.set_params(**parameters)\n  File \"/Users/alatyshe/virt/lib/python3.6/site-packages/sklearn/base.py\", line 274, in set_params\n    (key, self))\nValueError: Invalid parameter logit for estimator LogisticRegression(C=1.0, class_weight='balanced', dual=False,\n          fit_intercept=True, intercept_scaling=1, max_iter=100,\n          multi_class='ovr', n_jobs=1, penalty='l2', random_state=17,\n          solver='liblinear', tol=0.0001, verbose=0, warm_start=False). Check the list of available parameters with `estimator.get_params().keys()`.\n\nDuring handling of the above exception, another exception occurred:\n\nTraceback (most recent call last):\n  File \"/Library/Frameworks/Python.framework/Versions/3.6/lib/python3.6/multiprocessing/pool.py\", line 119, in worker\n    result = (True, func(*args, **kwds))\n  File \"/Users/alatyshe/virt/lib/python3.6/site-packages/sklearn/externals/joblib/_parallel_backends.py\", line 359, in __call__\n    raise TransportableException(text, e_type)\nsklearn.externals.joblib.my_exceptions.TransportableException: TransportableException\n___________________________________________________________________________\nValueError                                         Sun Mar 25 16:23:15 2018\nPID: 40272                   Python 3.6.2: /Users/alatyshe/virt/bin/python3\n...........................................................................\n/Users/alatyshe/virt/lib/python3.6/site-packages/sklearn/externals/joblib/parallel.py in __call__(self=<sklearn.externals.joblib.parallel.BatchedCalls object>)\n    126     def __init__(self, iterator_slice):\n    127         self.items = list(iterator_slice)\n    128         self._size = len(self.items)\n    129 \n    130     def __call__(self):\n--> 131         return [func(*args, **kwargs) for func, args, kwargs in self.items]\n        self.items = [(<function _fit_and_score>, (LogisticRegression(C=1.0, class_weight='balanced...linear', tol=0.0001, verbose=0, warm_start=False),               7        13   66       67       68... 0  \n30499        0  \n\n[30500 rows x 174 columns], 0        1\n1        1\n2        0\n3        0\n4   ...0\n30499    0\nName: 0, Length: 30500, dtype: int64, {'score': make_scorer(roc_auc_score, needs_threshold=True)}, array([10121, 10122, 10123, ..., 30497, 30498, 30499]), array([    0,     1,     2, ..., 10361, 10366, 10373]), 1, {'logit__C': 1e-08}), {'error_score': 'raise', 'fit_params': {}, 'return_n_test_samples': True, 'return_parameters': False, 'return_times': True, 'return_train_score': 'warn'})]\n    132 \n    133     def __len__(self):\n    134         return self._size\n    135 \n\n...........................................................................\n/Users/alatyshe/virt/lib/python3.6/site-packages/sklearn/externals/joblib/parallel.py in <listcomp>(.0=<list_iterator object>)\n    126     def __init__(self, iterator_slice):\n    127         self.items = list(iterator_slice)\n    128         self._size = len(self.items)\n    129 \n    130     def __call__(self):\n--> 131         return [func(*args, **kwargs) for func, args, kwargs in self.items]\n        func = <function _fit_and_score>\n        args = (LogisticRegression(C=1.0, class_weight='balanced...linear', tol=0.0001, verbose=0, warm_start=False),               7        13   66       67       68... 0  \n30499        0  \n\n[30500 rows x 174 columns], 0        1\n1        1\n2        0\n3        0\n4   ...0\n30499    0\nName: 0, Length: 30500, dtype: int64, {'score': make_scorer(roc_auc_score, needs_threshold=True)}, array([10121, 10122, 10123, ..., 30497, 30498, 30499]), array([    0,     1,     2, ..., 10361, 10366, 10373]), 1, {'logit__C': 1e-08})\n        kwargs = {'error_score': 'raise', 'fit_params': {}, 'return_n_test_samples': True, 'return_parameters': False, 'return_times': True, 'return_train_score': 'warn'}\n    132 \n    133     def __len__(self):\n    134         return self._size\n    135 \n\n...........................................................................\n/Users/alatyshe/virt/lib/python3.6/site-packages/sklearn/model_selection/_validation.py in _fit_and_score(estimator=LogisticRegression(C=1.0, class_weight='balanced...linear', tol=0.0001, verbose=0, warm_start=False), X=              7        13   66       67       68... 0  \n30499        0  \n\n[30500 rows x 174 columns], y=0        1\n1        1\n2        0\n3        0\n4   ...0\n30499    0\nName: 0, Length: 30500, dtype: int64, scorer={'score': make_scorer(roc_auc_score, needs_threshold=True)}, train=array([10121, 10122, 10123, ..., 30497, 30498, 30499]), test=array([    0,     1,     2, ..., 10361, 10366, 10373]), verbose=1, parameters={'logit__C': 1e-08}, fit_params={}, return_train_score='warn', return_parameters=False, return_n_test_samples=True, return_times=True, error_score='raise')\n    439                       for k, v in fit_params.items()])\n    440 \n    441     test_scores = {}\n    442     train_scores = {}\n    443     if parameters is not None:\n--> 444         estimator.set_params(**parameters)\n        estimator.set_params = <bound method BaseEstimator.set_params of Logist...inear', tol=0.0001, verbose=0, warm_start=False)>\n        parameters = {'logit__C': 1e-08}\n    445 \n    446     start_time = time.time()\n    447 \n    448     X_train, y_train = _safe_split(estimator, X, y, train)\n\n...........................................................................\n/Users/alatyshe/virt/lib/python3.6/site-packages/sklearn/base.py in set_params(self=LogisticRegression(C=1.0, class_weight='balanced...linear', tol=0.0001, verbose=0, warm_start=False), **params={'logit__C': 1e-08})\n    269             key, delim, sub_key = key.partition('__')\n    270             if key not in valid_params:\n    271                 raise ValueError('Invalid parameter %s for estimator %s. '\n    272                                  'Check the list of available parameters '\n    273                                  'with `estimator.get_params().keys()`.' %\n--> 274                                  (key, self))\n        key = 'logit'\n        self = LogisticRegression(C=1.0, class_weight='balanced...linear', tol=0.0001, verbose=0, warm_start=False)\n    275 \n    276             if delim:\n    277                 nested_params[key][sub_key] = value\n    278             else:\n\nValueError: Invalid parameter logit for estimator LogisticRegression(C=1.0, class_weight='balanced', dual=False,\n          fit_intercept=True, intercept_scaling=1, max_iter=100,\n          multi_class='ovr', n_jobs=1, penalty='l2', random_state=17,\n          solver='liblinear', tol=0.0001, verbose=0, warm_start=False). Check the list of available parameters with `estimator.get_params().keys()`.\n___________________________________________________________________________\n\"\"\"",
      "\nThe above exception was the direct cause of the following exception:\n",
      "\u001b[0;31mTransportableException\u001b[0m                    Traceback (most recent call last)",
      "\u001b[0;32m~/virt/lib/python3.6/site-packages/sklearn/externals/joblib/parallel.py\u001b[0m in \u001b[0;36mretrieve\u001b[0;34m(self)\u001b[0m\n\u001b[1;32m    698\u001b[0m                 \u001b[0;32mif\u001b[0m \u001b[0mgetattr\u001b[0m\u001b[0;34m(\u001b[0m\u001b[0mself\u001b[0m\u001b[0;34m.\u001b[0m\u001b[0m_backend\u001b[0m\u001b[0;34m,\u001b[0m \u001b[0;34m'supports_timeout'\u001b[0m\u001b[0;34m,\u001b[0m \u001b[0;32mFalse\u001b[0m\u001b[0;34m)\u001b[0m\u001b[0;34m:\u001b[0m\u001b[0;34m\u001b[0m\u001b[0m\n\u001b[0;32m--> 699\u001b[0;31m                     \u001b[0mself\u001b[0m\u001b[0;34m.\u001b[0m\u001b[0m_output\u001b[0m\u001b[0;34m.\u001b[0m\u001b[0mextend\u001b[0m\u001b[0;34m(\u001b[0m\u001b[0mjob\u001b[0m\u001b[0;34m.\u001b[0m\u001b[0mget\u001b[0m\u001b[0;34m(\u001b[0m\u001b[0mtimeout\u001b[0m\u001b[0;34m=\u001b[0m\u001b[0mself\u001b[0m\u001b[0;34m.\u001b[0m\u001b[0mtimeout\u001b[0m\u001b[0;34m)\u001b[0m\u001b[0;34m)\u001b[0m\u001b[0;34m\u001b[0m\u001b[0m\n\u001b[0m\u001b[1;32m    700\u001b[0m                 \u001b[0;32melse\u001b[0m\u001b[0;34m:\u001b[0m\u001b[0;34m\u001b[0m\u001b[0m\n",
      "\u001b[0;32m/Library/Frameworks/Python.framework/Versions/3.6/lib/python3.6/multiprocessing/pool.py\u001b[0m in \u001b[0;36mget\u001b[0;34m(self, timeout)\u001b[0m\n\u001b[1;32m    643\u001b[0m         \u001b[0;32melse\u001b[0m\u001b[0;34m:\u001b[0m\u001b[0;34m\u001b[0m\u001b[0m\n\u001b[0;32m--> 644\u001b[0;31m             \u001b[0;32mraise\u001b[0m \u001b[0mself\u001b[0m\u001b[0;34m.\u001b[0m\u001b[0m_value\u001b[0m\u001b[0;34m\u001b[0m\u001b[0m\n\u001b[0m\u001b[1;32m    645\u001b[0m \u001b[0;34m\u001b[0m\u001b[0m\n",
      "\u001b[0;31mTransportableException\u001b[0m: TransportableException\n___________________________________________________________________________\nValueError                                         Sun Mar 25 16:23:15 2018\nPID: 40272                   Python 3.6.2: /Users/alatyshe/virt/bin/python3\n...........................................................................\n/Users/alatyshe/virt/lib/python3.6/site-packages/sklearn/externals/joblib/parallel.py in __call__(self=<sklearn.externals.joblib.parallel.BatchedCalls object>)\n    126     def __init__(self, iterator_slice):\n    127         self.items = list(iterator_slice)\n    128         self._size = len(self.items)\n    129 \n    130     def __call__(self):\n--> 131         return [func(*args, **kwargs) for func, args, kwargs in self.items]\n        self.items = [(<function _fit_and_score>, (LogisticRegression(C=1.0, class_weight='balanced...linear', tol=0.0001, verbose=0, warm_start=False),               7        13   66       67       68... 0  \n30499        0  \n\n[30500 rows x 174 columns], 0        1\n1        1\n2        0\n3        0\n4   ...0\n30499    0\nName: 0, Length: 30500, dtype: int64, {'score': make_scorer(roc_auc_score, needs_threshold=True)}, array([10121, 10122, 10123, ..., 30497, 30498, 30499]), array([    0,     1,     2, ..., 10361, 10366, 10373]), 1, {'logit__C': 1e-08}), {'error_score': 'raise', 'fit_params': {}, 'return_n_test_samples': True, 'return_parameters': False, 'return_times': True, 'return_train_score': 'warn'})]\n    132 \n    133     def __len__(self):\n    134         return self._size\n    135 \n\n...........................................................................\n/Users/alatyshe/virt/lib/python3.6/site-packages/sklearn/externals/joblib/parallel.py in <listcomp>(.0=<list_iterator object>)\n    126     def __init__(self, iterator_slice):\n    127         self.items = list(iterator_slice)\n    128         self._size = len(self.items)\n    129 \n    130     def __call__(self):\n--> 131         return [func(*args, **kwargs) for func, args, kwargs in self.items]\n        func = <function _fit_and_score>\n        args = (LogisticRegression(C=1.0, class_weight='balanced...linear', tol=0.0001, verbose=0, warm_start=False),               7        13   66       67       68... 0  \n30499        0  \n\n[30500 rows x 174 columns], 0        1\n1        1\n2        0\n3        0\n4   ...0\n30499    0\nName: 0, Length: 30500, dtype: int64, {'score': make_scorer(roc_auc_score, needs_threshold=True)}, array([10121, 10122, 10123, ..., 30497, 30498, 30499]), array([    0,     1,     2, ..., 10361, 10366, 10373]), 1, {'logit__C': 1e-08})\n        kwargs = {'error_score': 'raise', 'fit_params': {}, 'return_n_test_samples': True, 'return_parameters': False, 'return_times': True, 'return_train_score': 'warn'}\n    132 \n    133     def __len__(self):\n    134         return self._size\n    135 \n\n...........................................................................\n/Users/alatyshe/virt/lib/python3.6/site-packages/sklearn/model_selection/_validation.py in _fit_and_score(estimator=LogisticRegression(C=1.0, class_weight='balanced...linear', tol=0.0001, verbose=0, warm_start=False), X=              7        13   66       67       68... 0  \n30499        0  \n\n[30500 rows x 174 columns], y=0        1\n1        1\n2        0\n3        0\n4   ...0\n30499    0\nName: 0, Length: 30500, dtype: int64, scorer={'score': make_scorer(roc_auc_score, needs_threshold=True)}, train=array([10121, 10122, 10123, ..., 30497, 30498, 30499]), test=array([    0,     1,     2, ..., 10361, 10366, 10373]), verbose=1, parameters={'logit__C': 1e-08}, fit_params={}, return_train_score='warn', return_parameters=False, return_n_test_samples=True, return_times=True, error_score='raise')\n    439                       for k, v in fit_params.items()])\n    440 \n    441     test_scores = {}\n    442     train_scores = {}\n    443     if parameters is not None:\n--> 444         estimator.set_params(**parameters)\n        estimator.set_params = <bound method BaseEstimator.set_params of Logist...inear', tol=0.0001, verbose=0, warm_start=False)>\n        parameters = {'logit__C': 1e-08}\n    445 \n    446     start_time = time.time()\n    447 \n    448     X_train, y_train = _safe_split(estimator, X, y, train)\n\n...........................................................................\n/Users/alatyshe/virt/lib/python3.6/site-packages/sklearn/base.py in set_params(self=LogisticRegression(C=1.0, class_weight='balanced...linear', tol=0.0001, verbose=0, warm_start=False), **params={'logit__C': 1e-08})\n    269             key, delim, sub_key = key.partition('__')\n    270             if key not in valid_params:\n    271                 raise ValueError('Invalid parameter %s for estimator %s. '\n    272                                  'Check the list of available parameters '\n    273                                  'with `estimator.get_params().keys()`.' %\n--> 274                                  (key, self))\n        key = 'logit'\n        self = LogisticRegression(C=1.0, class_weight='balanced...linear', tol=0.0001, verbose=0, warm_start=False)\n    275 \n    276             if delim:\n    277                 nested_params[key][sub_key] = value\n    278             else:\n\nValueError: Invalid parameter logit for estimator LogisticRegression(C=1.0, class_weight='balanced', dual=False,\n          fit_intercept=True, intercept_scaling=1, max_iter=100,\n          multi_class='ovr', n_jobs=1, penalty='l2', random_state=17,\n          solver='liblinear', tol=0.0001, verbose=0, warm_start=False). Check the list of available parameters with `estimator.get_params().keys()`.\n___________________________________________________________________________",
      "\nDuring handling of the above exception, another exception occurred:\n",
      "\u001b[0;31mJoblibValueError\u001b[0m                          Traceback (most recent call last)",
      "\u001b[0;32m<ipython-input-239-6968281f8290>\u001b[0m in \u001b[0;36m<module>\u001b[0;34m()\u001b[0m\n\u001b[1;32m      1\u001b[0m \u001b[0mlog_reg\u001b[0m \u001b[0;34m=\u001b[0m \u001b[0mGridSearchCV\u001b[0m\u001b[0;34m(\u001b[0m\u001b[0mlogit\u001b[0m\u001b[0;34m,\u001b[0m \u001b[0mlogit_pipe_params\u001b[0m\u001b[0;34m,\u001b[0m \u001b[0mscoring\u001b[0m\u001b[0;34m=\u001b[0m\u001b[0;34m'roc_auc'\u001b[0m\u001b[0;34m,\u001b[0m \u001b[0mn_jobs\u001b[0m\u001b[0;34m=\u001b[0m\u001b[0;34m-\u001b[0m\u001b[0;36m1\u001b[0m\u001b[0;34m,\u001b[0m \u001b[0mverbose\u001b[0m\u001b[0;34m=\u001b[0m\u001b[0;36m1\u001b[0m\u001b[0;34m)\u001b[0m\u001b[0;34m\u001b[0m\u001b[0m\n\u001b[0;32m----> 2\u001b[0;31m \u001b[0mlog_reg\u001b[0m\u001b[0;34m.\u001b[0m\u001b[0mfit\u001b[0m\u001b[0;34m(\u001b[0m\u001b[0mX_train\u001b[0m\u001b[0;34m,\u001b[0m \u001b[0my_train\u001b[0m\u001b[0;34m)\u001b[0m\u001b[0;34m\u001b[0m\u001b[0m\n\u001b[0m\u001b[1;32m      3\u001b[0m \u001b[0mprint\u001b[0m \u001b[0;34m(\u001b[0m\u001b[0mlr_g\u001b[0m\u001b[0;34m.\u001b[0m\u001b[0mbest_params_\u001b[0m\u001b[0;34m)\u001b[0m\u001b[0;34m\u001b[0m\u001b[0m\n\u001b[1;32m      4\u001b[0m \u001b[0mprint\u001b[0m \u001b[0;34m(\u001b[0m\u001b[0mlr_g\u001b[0m\u001b[0;34m.\u001b[0m\u001b[0mbest_score_\u001b[0m\u001b[0;34m)\u001b[0m\u001b[0;34m\u001b[0m\u001b[0m\n",
      "\u001b[0;32m~/virt/lib/python3.6/site-packages/sklearn/model_selection/_search.py\u001b[0m in \u001b[0;36mfit\u001b[0;34m(self, X, y, groups, **fit_params)\u001b[0m\n\u001b[1;32m    637\u001b[0m                                   error_score=self.error_score)\n\u001b[1;32m    638\u001b[0m           for parameters, (train, test) in product(candidate_params,\n\u001b[0;32m--> 639\u001b[0;31m                                                    cv.split(X, y, groups)))\n\u001b[0m\u001b[1;32m    640\u001b[0m \u001b[0;34m\u001b[0m\u001b[0m\n\u001b[1;32m    641\u001b[0m         \u001b[0;31m# if one choose to see train score, \"out\" will contain train score info\u001b[0m\u001b[0;34m\u001b[0m\u001b[0;34m\u001b[0m\u001b[0m\n",
      "\u001b[0;32m~/virt/lib/python3.6/site-packages/sklearn/externals/joblib/parallel.py\u001b[0m in \u001b[0;36m__call__\u001b[0;34m(self, iterable)\u001b[0m\n\u001b[1;32m    787\u001b[0m                 \u001b[0;31m# consumption.\u001b[0m\u001b[0;34m\u001b[0m\u001b[0;34m\u001b[0m\u001b[0m\n\u001b[1;32m    788\u001b[0m                 \u001b[0mself\u001b[0m\u001b[0;34m.\u001b[0m\u001b[0m_iterating\u001b[0m \u001b[0;34m=\u001b[0m \u001b[0;32mFalse\u001b[0m\u001b[0;34m\u001b[0m\u001b[0m\n\u001b[0;32m--> 789\u001b[0;31m             \u001b[0mself\u001b[0m\u001b[0;34m.\u001b[0m\u001b[0mretrieve\u001b[0m\u001b[0;34m(\u001b[0m\u001b[0;34m)\u001b[0m\u001b[0;34m\u001b[0m\u001b[0m\n\u001b[0m\u001b[1;32m    790\u001b[0m             \u001b[0;31m# Make sure that we get a last message telling us we are done\u001b[0m\u001b[0;34m\u001b[0m\u001b[0;34m\u001b[0m\u001b[0m\n\u001b[1;32m    791\u001b[0m             \u001b[0melapsed_time\u001b[0m \u001b[0;34m=\u001b[0m \u001b[0mtime\u001b[0m\u001b[0;34m.\u001b[0m\u001b[0mtime\u001b[0m\u001b[0;34m(\u001b[0m\u001b[0;34m)\u001b[0m \u001b[0;34m-\u001b[0m \u001b[0mself\u001b[0m\u001b[0;34m.\u001b[0m\u001b[0m_start_time\u001b[0m\u001b[0;34m\u001b[0m\u001b[0m\n",
      "\u001b[0;32m~/virt/lib/python3.6/site-packages/sklearn/externals/joblib/parallel.py\u001b[0m in \u001b[0;36mretrieve\u001b[0;34m(self)\u001b[0m\n\u001b[1;32m    738\u001b[0m                     \u001b[0mexception\u001b[0m \u001b[0;34m=\u001b[0m \u001b[0mexception_type\u001b[0m\u001b[0;34m(\u001b[0m\u001b[0mreport\u001b[0m\u001b[0;34m)\u001b[0m\u001b[0;34m\u001b[0m\u001b[0m\n\u001b[1;32m    739\u001b[0m \u001b[0;34m\u001b[0m\u001b[0m\n\u001b[0;32m--> 740\u001b[0;31m                     \u001b[0;32mraise\u001b[0m \u001b[0mexception\u001b[0m\u001b[0;34m\u001b[0m\u001b[0m\n\u001b[0m\u001b[1;32m    741\u001b[0m \u001b[0;34m\u001b[0m\u001b[0m\n\u001b[1;32m    742\u001b[0m     \u001b[0;32mdef\u001b[0m \u001b[0m__call__\u001b[0m\u001b[0;34m(\u001b[0m\u001b[0mself\u001b[0m\u001b[0;34m,\u001b[0m \u001b[0miterable\u001b[0m\u001b[0;34m)\u001b[0m\u001b[0;34m:\u001b[0m\u001b[0;34m\u001b[0m\u001b[0m\n",
      "\u001b[0;31mJoblibValueError\u001b[0m: JoblibValueError\n___________________________________________________________________________\nMultiprocessing exception:\n...........................................................................\n/Library/Frameworks/Python.framework/Versions/3.6/lib/python3.6/runpy.py in _run_module_as_main(mod_name='ipykernel_launcher', alter_argv=1)\n    188         sys.exit(msg)\n    189     main_globals = sys.modules[\"__main__\"].__dict__\n    190     if alter_argv:\n    191         sys.argv[0] = mod_spec.origin\n    192     return _run_code(code, main_globals, None,\n--> 193                      \"__main__\", mod_spec)\n        mod_spec = ModuleSpec(name='ipykernel_launcher', loader=<_f...b/python3.6/site-packages/ipykernel_launcher.py')\n    194 \n    195 def run_module(mod_name, init_globals=None,\n    196                run_name=None, alter_sys=False):\n    197     \"\"\"Execute a module's code without importing it\n\n...........................................................................\n/Library/Frameworks/Python.framework/Versions/3.6/lib/python3.6/runpy.py in _run_code(code=<code object <module> at 0x101190390, file \"/Use...3.6/site-packages/ipykernel_launcher.py\", line 5>, run_globals={'__annotations__': {}, '__builtins__': <module 'builtins' (built-in)>, '__cached__': '/Users/alatyshe/virt/lib/python3.6/site-packages/__pycache__/ipykernel_launcher.cpython-36.pyc', '__doc__': 'Entry point for launching an IPython kernel.\\n\\nTh...orts until\\nafter removing the cwd from sys.path.\\n', '__file__': '/Users/alatyshe/virt/lib/python3.6/site-packages/ipykernel_launcher.py', '__loader__': <_frozen_importlib_external.SourceFileLoader object>, '__name__': '__main__', '__package__': '', '__spec__': ModuleSpec(name='ipykernel_launcher', loader=<_f...b/python3.6/site-packages/ipykernel_launcher.py'), 'app': <module 'ipykernel.kernelapp' from '/Users/alaty.../python3.6/site-packages/ipykernel/kernelapp.py'>, ...}, init_globals=None, mod_name='__main__', mod_spec=ModuleSpec(name='ipykernel_launcher', loader=<_f...b/python3.6/site-packages/ipykernel_launcher.py'), pkg_name='', script_name=None)\n     80                        __cached__ = cached,\n     81                        __doc__ = None,\n     82                        __loader__ = loader,\n     83                        __package__ = pkg_name,\n     84                        __spec__ = mod_spec)\n---> 85     exec(code, run_globals)\n        code = <code object <module> at 0x101190390, file \"/Use...3.6/site-packages/ipykernel_launcher.py\", line 5>\n        run_globals = {'__annotations__': {}, '__builtins__': <module 'builtins' (built-in)>, '__cached__': '/Users/alatyshe/virt/lib/python3.6/site-packages/__pycache__/ipykernel_launcher.cpython-36.pyc', '__doc__': 'Entry point for launching an IPython kernel.\\n\\nTh...orts until\\nafter removing the cwd from sys.path.\\n', '__file__': '/Users/alatyshe/virt/lib/python3.6/site-packages/ipykernel_launcher.py', '__loader__': <_frozen_importlib_external.SourceFileLoader object>, '__name__': '__main__', '__package__': '', '__spec__': ModuleSpec(name='ipykernel_launcher', loader=<_f...b/python3.6/site-packages/ipykernel_launcher.py'), 'app': <module 'ipykernel.kernelapp' from '/Users/alaty.../python3.6/site-packages/ipykernel/kernelapp.py'>, ...}\n     86     return run_globals\n     87 \n     88 def _run_module_code(code, init_globals=None,\n     89                     mod_name=None, mod_spec=None,\n\n...........................................................................\n/Users/alatyshe/virt/lib/python3.6/site-packages/ipykernel_launcher.py in <module>()\n     11     # This is added back by InteractiveShellApp.init_path()\n     12     if sys.path[0] == '':\n     13         del sys.path[0]\n     14 \n     15     from ipykernel import kernelapp as app\n---> 16     app.launch_new_instance()\n\n...........................................................................\n/Users/alatyshe/virt/lib/python3.6/site-packages/traitlets/config/application.py in launch_instance(cls=<class 'ipykernel.kernelapp.IPKernelApp'>, argv=None, **kwargs={})\n    653 \n    654         If a global instance already exists, this reinitializes and starts it\n    655         \"\"\"\n    656         app = cls.instance(**kwargs)\n    657         app.initialize(argv)\n--> 658         app.start()\n        app.start = <bound method IPKernelApp.start of <ipykernel.kernelapp.IPKernelApp object>>\n    659 \n    660 #-----------------------------------------------------------------------------\n    661 # utility functions, for convenience\n    662 #-----------------------------------------------------------------------------\n\n...........................................................................\n/Users/alatyshe/virt/lib/python3.6/site-packages/ipykernel/kernelapp.py in start(self=<ipykernel.kernelapp.IPKernelApp object>)\n    481         if self.poller is not None:\n    482             self.poller.start()\n    483         self.kernel.start()\n    484         self.io_loop = ioloop.IOLoop.current()\n    485         try:\n--> 486             self.io_loop.start()\n        self.io_loop.start = <bound method BaseAsyncIOLoop.start of <tornado.platform.asyncio.AsyncIOMainLoop object>>\n    487         except KeyboardInterrupt:\n    488             pass\n    489 \n    490 launch_new_instance = IPKernelApp.launch_instance\n\n...........................................................................\n/Users/alatyshe/virt/lib/python3.6/site-packages/tornado/platform/asyncio.py in start(self=<tornado.platform.asyncio.AsyncIOMainLoop object>)\n    107         except RuntimeError:\n    108             old_loop = None\n    109         try:\n    110             self._setup_logging()\n    111             asyncio.set_event_loop(self.asyncio_loop)\n--> 112             self.asyncio_loop.run_forever()\n        self.asyncio_loop.run_forever = <bound method BaseEventLoop.run_forever of <_Uni...EventLoop running=True closed=False debug=False>>\n    113         finally:\n    114             asyncio.set_event_loop(old_loop)\n    115 \n    116     def stop(self):\n\n...........................................................................\n/Library/Frameworks/Python.framework/Versions/3.6/lib/python3.6/asyncio/base_events.py in run_forever(self=<_UnixSelectorEventLoop running=True closed=False debug=False>)\n    416             sys.set_asyncgen_hooks(firstiter=self._asyncgen_firstiter_hook,\n    417                                    finalizer=self._asyncgen_finalizer_hook)\n    418         try:\n    419             events._set_running_loop(self)\n    420             while True:\n--> 421                 self._run_once()\n        self._run_once = <bound method BaseEventLoop._run_once of <_UnixS...EventLoop running=True closed=False debug=False>>\n    422                 if self._stopping:\n    423                     break\n    424         finally:\n    425             self._stopping = False\n\n...........................................................................\n/Library/Frameworks/Python.framework/Versions/3.6/lib/python3.6/asyncio/base_events.py in _run_once(self=<_UnixSelectorEventLoop running=True closed=False debug=False>)\n   1421                         logger.warning('Executing %s took %.3f seconds',\n   1422                                        _format_handle(handle), dt)\n   1423                 finally:\n   1424                     self._current_handle = None\n   1425             else:\n-> 1426                 handle._run()\n        handle._run = <bound method Handle._run of <Handle BaseAsyncIOLoop._handle_events(14, 1)>>\n   1427         handle = None  # Needed to break cycles when an exception occurs.\n   1428 \n   1429     def _set_coroutine_wrapper(self, enabled):\n   1430         try:\n\n...........................................................................\n/Library/Frameworks/Python.framework/Versions/3.6/lib/python3.6/asyncio/events.py in _run(self=<Handle BaseAsyncIOLoop._handle_events(14, 1)>)\n    122             self._callback = None\n    123             self._args = None\n    124 \n    125     def _run(self):\n    126         try:\n--> 127             self._callback(*self._args)\n        self._callback = <bound method BaseAsyncIOLoop._handle_events of <tornado.platform.asyncio.AsyncIOMainLoop object>>\n        self._args = (14, 1)\n    128         except Exception as exc:\n    129             cb = _format_callback_source(self._callback, self._args)\n    130             msg = 'Exception in callback {}'.format(cb)\n    131             context = {\n\n...........................................................................\n/Users/alatyshe/virt/lib/python3.6/site-packages/tornado/platform/asyncio.py in _handle_events(self=<tornado.platform.asyncio.AsyncIOMainLoop object>, fd=14, events=1)\n     97             self.writers.remove(fd)\n     98         del self.handlers[fd]\n     99 \n    100     def _handle_events(self, fd, events):\n    101         fileobj, handler_func = self.handlers[fd]\n--> 102         handler_func(fileobj, events)\n        handler_func = <function wrap.<locals>.null_wrapper>\n        fileobj = <zmq.sugar.socket.Socket object>\n        events = 1\n    103 \n    104     def start(self):\n    105         try:\n    106             old_loop = asyncio.get_event_loop()\n\n...........................................................................\n/Users/alatyshe/virt/lib/python3.6/site-packages/tornado/stack_context.py in null_wrapper(*args=(<zmq.sugar.socket.Socket object>, 1), **kwargs={})\n    271         # Fast path when there are no active contexts.\n    272         def null_wrapper(*args, **kwargs):\n    273             try:\n    274                 current_state = _state.contexts\n    275                 _state.contexts = cap_contexts[0]\n--> 276                 return fn(*args, **kwargs)\n        args = (<zmq.sugar.socket.Socket object>, 1)\n        kwargs = {}\n    277             finally:\n    278                 _state.contexts = current_state\n    279         null_wrapper._wrapped = True\n    280         return null_wrapper\n\n...........................................................................\n/Users/alatyshe/virt/lib/python3.6/site-packages/zmq/eventloop/zmqstream.py in _handle_events(self=<zmq.eventloop.zmqstream.ZMQStream object>, fd=<zmq.sugar.socket.Socket object>, events=1)\n    445             return\n    446         zmq_events = self.socket.EVENTS\n    447         try:\n    448             # dispatch events:\n    449             if zmq_events & zmq.POLLIN and self.receiving():\n--> 450                 self._handle_recv()\n        self._handle_recv = <bound method ZMQStream._handle_recv of <zmq.eventloop.zmqstream.ZMQStream object>>\n    451                 if not self.socket:\n    452                     return\n    453             if zmq_events & zmq.POLLOUT and self.sending():\n    454                 self._handle_send()\n\n...........................................................................\n/Users/alatyshe/virt/lib/python3.6/site-packages/zmq/eventloop/zmqstream.py in _handle_recv(self=<zmq.eventloop.zmqstream.ZMQStream object>)\n    475             else:\n    476                 raise\n    477         else:\n    478             if self._recv_callback:\n    479                 callback = self._recv_callback\n--> 480                 self._run_callback(callback, msg)\n        self._run_callback = <bound method ZMQStream._run_callback of <zmq.eventloop.zmqstream.ZMQStream object>>\n        callback = <function wrap.<locals>.null_wrapper>\n        msg = [<zmq.sugar.frame.Frame object>, <zmq.sugar.frame.Frame object>, <zmq.sugar.frame.Frame object>, <zmq.sugar.frame.Frame object>, <zmq.sugar.frame.Frame object>, <zmq.sugar.frame.Frame object>, <zmq.sugar.frame.Frame object>]\n    481         \n    482 \n    483     def _handle_send(self):\n    484         \"\"\"Handle a send event.\"\"\"\n\n...........................................................................\n/Users/alatyshe/virt/lib/python3.6/site-packages/zmq/eventloop/zmqstream.py in _run_callback(self=<zmq.eventloop.zmqstream.ZMQStream object>, callback=<function wrap.<locals>.null_wrapper>, *args=([<zmq.sugar.frame.Frame object>, <zmq.sugar.frame.Frame object>, <zmq.sugar.frame.Frame object>, <zmq.sugar.frame.Frame object>, <zmq.sugar.frame.Frame object>, <zmq.sugar.frame.Frame object>, <zmq.sugar.frame.Frame object>],), **kwargs={})\n    427         close our socket.\"\"\"\n    428         try:\n    429             # Use a NullContext to ensure that all StackContexts are run\n    430             # inside our blanket exception handler rather than outside.\n    431             with stack_context.NullContext():\n--> 432                 callback(*args, **kwargs)\n        callback = <function wrap.<locals>.null_wrapper>\n        args = ([<zmq.sugar.frame.Frame object>, <zmq.sugar.frame.Frame object>, <zmq.sugar.frame.Frame object>, <zmq.sugar.frame.Frame object>, <zmq.sugar.frame.Frame object>, <zmq.sugar.frame.Frame object>, <zmq.sugar.frame.Frame object>],)\n        kwargs = {}\n    433         except:\n    434             gen_log.error(\"Uncaught exception in ZMQStream callback\",\n    435                           exc_info=True)\n    436             # Re-raise the exception so that IOLoop.handle_callback_exception\n\n...........................................................................\n/Users/alatyshe/virt/lib/python3.6/site-packages/tornado/stack_context.py in null_wrapper(*args=([<zmq.sugar.frame.Frame object>, <zmq.sugar.frame.Frame object>, <zmq.sugar.frame.Frame object>, <zmq.sugar.frame.Frame object>, <zmq.sugar.frame.Frame object>, <zmq.sugar.frame.Frame object>, <zmq.sugar.frame.Frame object>],), **kwargs={})\n    271         # Fast path when there are no active contexts.\n    272         def null_wrapper(*args, **kwargs):\n    273             try:\n    274                 current_state = _state.contexts\n    275                 _state.contexts = cap_contexts[0]\n--> 276                 return fn(*args, **kwargs)\n        args = ([<zmq.sugar.frame.Frame object>, <zmq.sugar.frame.Frame object>, <zmq.sugar.frame.Frame object>, <zmq.sugar.frame.Frame object>, <zmq.sugar.frame.Frame object>, <zmq.sugar.frame.Frame object>, <zmq.sugar.frame.Frame object>],)\n        kwargs = {}\n    277             finally:\n    278                 _state.contexts = current_state\n    279         null_wrapper._wrapped = True\n    280         return null_wrapper\n\n...........................................................................\n/Users/alatyshe/virt/lib/python3.6/site-packages/ipykernel/kernelbase.py in dispatcher(msg=[<zmq.sugar.frame.Frame object>, <zmq.sugar.frame.Frame object>, <zmq.sugar.frame.Frame object>, <zmq.sugar.frame.Frame object>, <zmq.sugar.frame.Frame object>, <zmq.sugar.frame.Frame object>, <zmq.sugar.frame.Frame object>])\n    278         if self.control_stream:\n    279             self.control_stream.on_recv(self.dispatch_control, copy=False)\n    280 \n    281         def make_dispatcher(stream):\n    282             def dispatcher(msg):\n--> 283                 return self.dispatch_shell(stream, msg)\n        msg = [<zmq.sugar.frame.Frame object>, <zmq.sugar.frame.Frame object>, <zmq.sugar.frame.Frame object>, <zmq.sugar.frame.Frame object>, <zmq.sugar.frame.Frame object>, <zmq.sugar.frame.Frame object>, <zmq.sugar.frame.Frame object>]\n    284             return dispatcher\n    285 \n    286         for s in self.shell_streams:\n    287             s.on_recv(make_dispatcher(s), copy=False)\n\n...........................................................................\n/Users/alatyshe/virt/lib/python3.6/site-packages/ipykernel/kernelbase.py in dispatch_shell(self=<ipykernel.ipkernel.IPythonKernel object>, stream=<zmq.eventloop.zmqstream.ZMQStream object>, msg={'buffers': [], 'content': {'allow_stdin': True, 'code': 'log_reg = GridSearchCV(logit, logit_pipe_params,...rint (lr_g.best_params_)\\nprint (lr_g.best_score_)', 'silent': False, 'stop_on_error': True, 'store_history': True, 'user_expressions': {}}, 'header': {'date': datetime.datetime(2018, 3, 25, 13, 23, 14, 937725, tzinfo=tzutc()), 'msg_id': '475843a8f6cf40428d1e7d02bc601b79', 'msg_type': 'execute_request', 'session': 'fe3dfffadecd4d8fa58b0b0378bc0f6f', 'username': 'username', 'version': '5.2'}, 'metadata': {}, 'msg_id': '475843a8f6cf40428d1e7d02bc601b79', 'msg_type': 'execute_request', 'parent_header': {}})\n    228             self.log.warn(\"Unknown message type: %r\", msg_type)\n    229         else:\n    230             self.log.debug(\"%s: %s\", msg_type, msg)\n    231             self.pre_handler_hook()\n    232             try:\n--> 233                 handler(stream, idents, msg)\n        handler = <bound method Kernel.execute_request of <ipykernel.ipkernel.IPythonKernel object>>\n        stream = <zmq.eventloop.zmqstream.ZMQStream object>\n        idents = [b'fe3dfffadecd4d8fa58b0b0378bc0f6f']\n        msg = {'buffers': [], 'content': {'allow_stdin': True, 'code': 'log_reg = GridSearchCV(logit, logit_pipe_params,...rint (lr_g.best_params_)\\nprint (lr_g.best_score_)', 'silent': False, 'stop_on_error': True, 'store_history': True, 'user_expressions': {}}, 'header': {'date': datetime.datetime(2018, 3, 25, 13, 23, 14, 937725, tzinfo=tzutc()), 'msg_id': '475843a8f6cf40428d1e7d02bc601b79', 'msg_type': 'execute_request', 'session': 'fe3dfffadecd4d8fa58b0b0378bc0f6f', 'username': 'username', 'version': '5.2'}, 'metadata': {}, 'msg_id': '475843a8f6cf40428d1e7d02bc601b79', 'msg_type': 'execute_request', 'parent_header': {}}\n    234             except Exception:\n    235                 self.log.error(\"Exception in message handler:\", exc_info=True)\n    236             finally:\n    237                 self.post_handler_hook()\n\n...........................................................................\n/Users/alatyshe/virt/lib/python3.6/site-packages/ipykernel/kernelbase.py in execute_request(self=<ipykernel.ipkernel.IPythonKernel object>, stream=<zmq.eventloop.zmqstream.ZMQStream object>, ident=[b'fe3dfffadecd4d8fa58b0b0378bc0f6f'], parent={'buffers': [], 'content': {'allow_stdin': True, 'code': 'log_reg = GridSearchCV(logit, logit_pipe_params,...rint (lr_g.best_params_)\\nprint (lr_g.best_score_)', 'silent': False, 'stop_on_error': True, 'store_history': True, 'user_expressions': {}}, 'header': {'date': datetime.datetime(2018, 3, 25, 13, 23, 14, 937725, tzinfo=tzutc()), 'msg_id': '475843a8f6cf40428d1e7d02bc601b79', 'msg_type': 'execute_request', 'session': 'fe3dfffadecd4d8fa58b0b0378bc0f6f', 'username': 'username', 'version': '5.2'}, 'metadata': {}, 'msg_id': '475843a8f6cf40428d1e7d02bc601b79', 'msg_type': 'execute_request', 'parent_header': {}})\n    394         if not silent:\n    395             self.execution_count += 1\n    396             self._publish_execute_input(code, parent, self.execution_count)\n    397 \n    398         reply_content = self.do_execute(code, silent, store_history,\n--> 399                                         user_expressions, allow_stdin)\n        user_expressions = {}\n        allow_stdin = True\n    400 \n    401         # Flush output before sending the reply.\n    402         sys.stdout.flush()\n    403         sys.stderr.flush()\n\n...........................................................................\n/Users/alatyshe/virt/lib/python3.6/site-packages/ipykernel/ipkernel.py in do_execute(self=<ipykernel.ipkernel.IPythonKernel object>, code='log_reg = GridSearchCV(logit, logit_pipe_params,...rint (lr_g.best_params_)\\nprint (lr_g.best_score_)', silent=False, store_history=True, user_expressions={}, allow_stdin=True)\n    203 \n    204         self._forward_input(allow_stdin)\n    205 \n    206         reply_content = {}\n    207         try:\n--> 208             res = shell.run_cell(code, store_history=store_history, silent=silent)\n        res = undefined\n        shell.run_cell = <bound method ZMQInteractiveShell.run_cell of <ipykernel.zmqshell.ZMQInteractiveShell object>>\n        code = 'log_reg = GridSearchCV(logit, logit_pipe_params,...rint (lr_g.best_params_)\\nprint (lr_g.best_score_)'\n        store_history = True\n        silent = False\n    209         finally:\n    210             self._restore_input()\n    211 \n    212         if res.error_before_exec is not None:\n\n...........................................................................\n/Users/alatyshe/virt/lib/python3.6/site-packages/ipykernel/zmqshell.py in run_cell(self=<ipykernel.zmqshell.ZMQInteractiveShell object>, *args=('log_reg = GridSearchCV(logit, logit_pipe_params,...rint (lr_g.best_params_)\\nprint (lr_g.best_score_)',), **kwargs={'silent': False, 'store_history': True})\n    532             )\n    533         self.payload_manager.write_payload(payload)\n    534 \n    535     def run_cell(self, *args, **kwargs):\n    536         self._last_traceback = None\n--> 537         return super(ZMQInteractiveShell, self).run_cell(*args, **kwargs)\n        self.run_cell = <bound method ZMQInteractiveShell.run_cell of <ipykernel.zmqshell.ZMQInteractiveShell object>>\n        args = ('log_reg = GridSearchCV(logit, logit_pipe_params,...rint (lr_g.best_params_)\\nprint (lr_g.best_score_)',)\n        kwargs = {'silent': False, 'store_history': True}\n    538 \n    539     def _showtraceback(self, etype, evalue, stb):\n    540         # try to preserve ordering of tracebacks and print statements\n    541         sys.stdout.flush()\n\n...........................................................................\n/Users/alatyshe/virt/lib/python3.6/site-packages/IPython/core/interactiveshell.py in run_cell(self=<ipykernel.zmqshell.ZMQInteractiveShell object>, raw_cell='log_reg = GridSearchCV(logit, logit_pipe_params,...rint (lr_g.best_params_)\\nprint (lr_g.best_score_)', store_history=True, silent=False, shell_futures=True)\n   2723                 self.displayhook.exec_result = result\n   2724 \n   2725                 # Execute the user code\n   2726                 interactivity = \"none\" if silent else self.ast_node_interactivity\n   2727                 has_raised = self.run_ast_nodes(code_ast.body, cell_name,\n-> 2728                    interactivity=interactivity, compiler=compiler, result=result)\n        interactivity = 'last_expr'\n        compiler = <IPython.core.compilerop.CachingCompiler object>\n   2729                 \n   2730                 self.last_execution_succeeded = not has_raised\n   2731                 self.last_execution_result = result\n   2732 \n\n...........................................................................\n/Users/alatyshe/virt/lib/python3.6/site-packages/IPython/core/interactiveshell.py in run_ast_nodes(self=<ipykernel.zmqshell.ZMQInteractiveShell object>, nodelist=[<_ast.Assign object>, <_ast.Expr object>, <_ast.Expr object>, <_ast.Expr object>], cell_name='<ipython-input-239-6968281f8290>', interactivity='last', compiler=<IPython.core.compilerop.CachingCompiler object>, result=<ExecutionResult object at 10db7a9e8, execution_..._before_exec=None error_in_exec=None result=None>)\n   2845 \n   2846         try:\n   2847             for i, node in enumerate(to_run_exec):\n   2848                 mod = ast.Module([node])\n   2849                 code = compiler(mod, cell_name, \"exec\")\n-> 2850                 if self.run_code(code, result):\n        self.run_code = <bound method InteractiveShell.run_code of <ipykernel.zmqshell.ZMQInteractiveShell object>>\n        code = <code object <module> at 0x10b591f60, file \"<ipython-input-239-6968281f8290>\", line 2>\n        result = <ExecutionResult object at 10db7a9e8, execution_..._before_exec=None error_in_exec=None result=None>\n   2851                     return True\n   2852 \n   2853             for i, node in enumerate(to_run_interactive):\n   2854                 mod = ast.Interactive([node])\n\n...........................................................................\n/Users/alatyshe/virt/lib/python3.6/site-packages/IPython/core/interactiveshell.py in run_code(self=<ipykernel.zmqshell.ZMQInteractiveShell object>, code_obj=<code object <module> at 0x10b591f60, file \"<ipython-input-239-6968281f8290>\", line 2>, result=<ExecutionResult object at 10db7a9e8, execution_..._before_exec=None error_in_exec=None result=None>)\n   2905         outflag = True  # happens in more places, so it's easier as default\n   2906         try:\n   2907             try:\n   2908                 self.hooks.pre_run_code_hook()\n   2909                 #rprint('Running code', repr(code_obj)) # dbg\n-> 2910                 exec(code_obj, self.user_global_ns, self.user_ns)\n        code_obj = <code object <module> at 0x10b591f60, file \"<ipython-input-239-6968281f8290>\", line 2>\n        self.user_global_ns = {'DecisionTreeClassifier': <class 'sklearn.tree.tree.DecisionTreeClassifier'>, 'GridSearchCV': <class 'sklearn.model_selection._search.GridSearchCV'>, 'In': ['', \"import numpy as np\\nimport pandas as pd          ..._ipython().run_line_magic('matplotlib', 'inline')\", r\"train_df = pd.read_csv('../data/train.csv', inde...data/test.csv', index_col='Unnamed: 0', sep='\\t')\", '# train_df.head(1)\\n# test_df.head(1)', 'print (\"rows \\\\t\\\\t: \", train_df.shape[0])\\nprint (\"columns \\\\t: \", train_df.shape[1])', \"X_train = train_df.drop(['0'], axis=1)\\ny_train =...test_df.drop(['0'], axis=1)\\ny_test = test_df['0']\", 'print (\"Train : \")\\nprint (\"\\\\t\", X_train.shape)\\np...t (\"\\\\t\", X_test.shape)\\nprint (\"\\\\t\", y_test.shape)', 'def    clean_data(train, test):\\n    columns_name...   columns_name.append(i)\\n    return columns_name', 'clean_columns = clean_data(X_train, X_test)\\nX_tr...\\nX_test.drop(clean_columns, axis=1, inplace=True)', 'print (\"Train : \")\\nprint (\"\\\\t\", X_train.shape)\\np...t (\"\\\\t\", X_test.shape)\\nprint (\"\\\\t\", y_test.shape)', '# Удаляем признаки с корреляцией 1\\ndef    clean_...ny(upper[column] > 0.99)]\\n    \\n    return to_drop', 'to_drop = clean_corr_data(X_train, X_test)\\nX_tra...s=1)\\nX_test.drop(X_test.columns[to_drop], axis=1)', 'to_drop = clean_corr_data(X_train, X_test)\\nX_tra...=True)\\nX_test.drop(to_drop, axis=1, inplace=True)', 'print (\"Train : \")\\nprint (\"\\\\t\", X_train.shape)\\np...t (\"\\\\t\", X_test.shape)\\nprint (\"\\\\t\", y_test.shape)', \"import numpy as np\\nimport pandas as pd          ..._ipython().run_line_magic('matplotlib', 'inline')\", r\"train_df = pd.read_csv('../data/train.csv', inde...data/test.csv', index_col='Unnamed: 0', sep='\\t')\", '# train_df.head(1)\\n# test_df.head(1)', 'print (\"rows \\\\t\\\\t: \", train_df.shape[0])\\nprint (\"columns \\\\t: \", train_df.shape[1])', \"X_train = train_df.drop(['0'], axis=1)\\ny_train =...test_df.drop(['0'], axis=1)\\ny_test = test_df['0']\", 'print (\"Train : \")\\nprint (\"\\\\t\", X_train.shape)\\np...t (\"\\\\t\", X_test.shape)\\nprint (\"\\\\t\", y_test.shape)', ...], 'LogisticRegression': <class 'sklearn.linear_model.logistic.LogisticRegression'>, 'Out': {50: <pandas_profiling.ProfileReport object>, 64: <pandas_profiling.ProfileReport object>, 68: <pandas_profiling.ProfileReport object>, 71:             7        13        66        67     ...3 -0.423753  1.000000  \n\n[106 rows x 106 columns], 72:             7        13        66        67     ...3  0.423753  1.000000  \n\n[106 rows x 106 columns], 73:             7        13        66        67     ...3 -0.423753  1.000000  \n\n[106 rows x 106 columns], 74: <bound method NDFrame.abs of             7      ... -0.423753  1.000000  \n\n[106 rows x 106 columns]>, 75:             7        13        66        67     ...3  0.423753  1.000000  \n\n[106 rows x 106 columns], 76:       7        13        66        67        68 ...N       NaN       NaN  \n\n[106 rows x 106 columns], 95: 0        0.783002\n1        0.719187\n2        0.6...0.463786\nName: 329, Length: 30500, dtype: float64, ...}, 'Pipeline': <class 'sklearn.pipeline.Pipeline'>, 'RandomForestClassifier': <class 'sklearn.ensemble.forest.RandomForestClassifier'>, 'StandardScaler': <class 'sklearn.preprocessing.data.StandardScaler'>, 'X_test':               7        13       66       67     ... 0  \n30499        0  \n\n[30500 rows x 174 columns], 'X_train':               7        13   66       67       68... 0  \n30499        0  \n\n[30500 rows x 174 columns], ...}\n        self.user_ns = {'DecisionTreeClassifier': <class 'sklearn.tree.tree.DecisionTreeClassifier'>, 'GridSearchCV': <class 'sklearn.model_selection._search.GridSearchCV'>, 'In': ['', \"import numpy as np\\nimport pandas as pd          ..._ipython().run_line_magic('matplotlib', 'inline')\", r\"train_df = pd.read_csv('../data/train.csv', inde...data/test.csv', index_col='Unnamed: 0', sep='\\t')\", '# train_df.head(1)\\n# test_df.head(1)', 'print (\"rows \\\\t\\\\t: \", train_df.shape[0])\\nprint (\"columns \\\\t: \", train_df.shape[1])', \"X_train = train_df.drop(['0'], axis=1)\\ny_train =...test_df.drop(['0'], axis=1)\\ny_test = test_df['0']\", 'print (\"Train : \")\\nprint (\"\\\\t\", X_train.shape)\\np...t (\"\\\\t\", X_test.shape)\\nprint (\"\\\\t\", y_test.shape)', 'def    clean_data(train, test):\\n    columns_name...   columns_name.append(i)\\n    return columns_name', 'clean_columns = clean_data(X_train, X_test)\\nX_tr...\\nX_test.drop(clean_columns, axis=1, inplace=True)', 'print (\"Train : \")\\nprint (\"\\\\t\", X_train.shape)\\np...t (\"\\\\t\", X_test.shape)\\nprint (\"\\\\t\", y_test.shape)', '# Удаляем признаки с корреляцией 1\\ndef    clean_...ny(upper[column] > 0.99)]\\n    \\n    return to_drop', 'to_drop = clean_corr_data(X_train, X_test)\\nX_tra...s=1)\\nX_test.drop(X_test.columns[to_drop], axis=1)', 'to_drop = clean_corr_data(X_train, X_test)\\nX_tra...=True)\\nX_test.drop(to_drop, axis=1, inplace=True)', 'print (\"Train : \")\\nprint (\"\\\\t\", X_train.shape)\\np...t (\"\\\\t\", X_test.shape)\\nprint (\"\\\\t\", y_test.shape)', \"import numpy as np\\nimport pandas as pd          ..._ipython().run_line_magic('matplotlib', 'inline')\", r\"train_df = pd.read_csv('../data/train.csv', inde...data/test.csv', index_col='Unnamed: 0', sep='\\t')\", '# train_df.head(1)\\n# test_df.head(1)', 'print (\"rows \\\\t\\\\t: \", train_df.shape[0])\\nprint (\"columns \\\\t: \", train_df.shape[1])', \"X_train = train_df.drop(['0'], axis=1)\\ny_train =...test_df.drop(['0'], axis=1)\\ny_test = test_df['0']\", 'print (\"Train : \")\\nprint (\"\\\\t\", X_train.shape)\\np...t (\"\\\\t\", X_test.shape)\\nprint (\"\\\\t\", y_test.shape)', ...], 'LogisticRegression': <class 'sklearn.linear_model.logistic.LogisticRegression'>, 'Out': {50: <pandas_profiling.ProfileReport object>, 64: <pandas_profiling.ProfileReport object>, 68: <pandas_profiling.ProfileReport object>, 71:             7        13        66        67     ...3 -0.423753  1.000000  \n\n[106 rows x 106 columns], 72:             7        13        66        67     ...3  0.423753  1.000000  \n\n[106 rows x 106 columns], 73:             7        13        66        67     ...3 -0.423753  1.000000  \n\n[106 rows x 106 columns], 74: <bound method NDFrame.abs of             7      ... -0.423753  1.000000  \n\n[106 rows x 106 columns]>, 75:             7        13        66        67     ...3  0.423753  1.000000  \n\n[106 rows x 106 columns], 76:       7        13        66        67        68 ...N       NaN       NaN  \n\n[106 rows x 106 columns], 95: 0        0.783002\n1        0.719187\n2        0.6...0.463786\nName: 329, Length: 30500, dtype: float64, ...}, 'Pipeline': <class 'sklearn.pipeline.Pipeline'>, 'RandomForestClassifier': <class 'sklearn.ensemble.forest.RandomForestClassifier'>, 'StandardScaler': <class 'sklearn.preprocessing.data.StandardScaler'>, 'X_test':               7        13       66       67     ... 0  \n30499        0  \n\n[30500 rows x 174 columns], 'X_train':               7        13   66       67       68... 0  \n30499        0  \n\n[30500 rows x 174 columns], ...}\n   2911             finally:\n   2912                 # Reset our crash handler in place\n   2913                 sys.excepthook = old_excepthook\n   2914         except SystemExit as e:\n\n...........................................................................\n/Users/alatyshe/Google Drive/Projects/Data_Science/ds_course_belka/week_5/homework/<ipython-input-239-6968281f8290> in <module>()\n      1 log_reg = GridSearchCV(logit, logit_pipe_params, scoring='roc_auc', n_jobs=-1, verbose=1)\n----> 2 log_reg.fit(X_train, y_train)\n      3 print (lr_g.best_params_)\n      4 print (lr_g.best_score_)\n\n...........................................................................\n/Users/alatyshe/virt/lib/python3.6/site-packages/sklearn/model_selection/_search.py in fit(self=GridSearchCV(cv=None, error_score='raise',\n     ...core='warn',\n       scoring='roc_auc', verbose=1), X=              7        13   66       67       68... 0  \n30499        0  \n\n[30500 rows x 174 columns], y=0        1\n1        1\n2        0\n3        0\n4   ...0\n30499    0\nName: 0, Length: 30500, dtype: int64, groups=None, **fit_params={})\n    634                                   return_train_score=self.return_train_score,\n    635                                   return_n_test_samples=True,\n    636                                   return_times=True, return_parameters=False,\n    637                                   error_score=self.error_score)\n    638           for parameters, (train, test) in product(candidate_params,\n--> 639                                                    cv.split(X, y, groups)))\n        cv.split = <bound method StratifiedKFold.split of Stratifie...ld(n_splits=3, random_state=None, shuffle=False)>\n        X =               7        13   66       67       68... 0  \n30499        0  \n\n[30500 rows x 174 columns]\n        y = 0        1\n1        1\n2        0\n3        0\n4   ...0\n30499    0\nName: 0, Length: 30500, dtype: int64\n        groups = None\n    640 \n    641         # if one choose to see train score, \"out\" will contain train score info\n    642         if self.return_train_score:\n    643             (train_score_dicts, test_score_dicts, test_sample_counts, fit_time,\n\n...........................................................................\n/Users/alatyshe/virt/lib/python3.6/site-packages/sklearn/externals/joblib/parallel.py in __call__(self=Parallel(n_jobs=-1), iterable=<generator object BaseSearchCV.fit.<locals>.<genexpr>>)\n    784             if pre_dispatch == \"all\" or n_jobs == 1:\n    785                 # The iterable was consumed all at once by the above for loop.\n    786                 # No need to wait for async callbacks to trigger to\n    787                 # consumption.\n    788                 self._iterating = False\n--> 789             self.retrieve()\n        self.retrieve = <bound method Parallel.retrieve of Parallel(n_jobs=-1)>\n    790             # Make sure that we get a last message telling us we are done\n    791             elapsed_time = time.time() - self._start_time\n    792             self._print('Done %3i out of %3i | elapsed: %s finished',\n    793                         (len(self._output), len(self._output),\n\n---------------------------------------------------------------------------\nSub-process traceback:\n---------------------------------------------------------------------------\nValueError                                         Sun Mar 25 16:23:15 2018\nPID: 40272                   Python 3.6.2: /Users/alatyshe/virt/bin/python3\n...........................................................................\n/Users/alatyshe/virt/lib/python3.6/site-packages/sklearn/externals/joblib/parallel.py in __call__(self=<sklearn.externals.joblib.parallel.BatchedCalls object>)\n    126     def __init__(self, iterator_slice):\n    127         self.items = list(iterator_slice)\n    128         self._size = len(self.items)\n    129 \n    130     def __call__(self):\n--> 131         return [func(*args, **kwargs) for func, args, kwargs in self.items]\n        self.items = [(<function _fit_and_score>, (LogisticRegression(C=1.0, class_weight='balanced...linear', tol=0.0001, verbose=0, warm_start=False),               7        13   66       67       68... 0  \n30499        0  \n\n[30500 rows x 174 columns], 0        1\n1        1\n2        0\n3        0\n4   ...0\n30499    0\nName: 0, Length: 30500, dtype: int64, {'score': make_scorer(roc_auc_score, needs_threshold=True)}, array([10121, 10122, 10123, ..., 30497, 30498, 30499]), array([    0,     1,     2, ..., 10361, 10366, 10373]), 1, {'logit__C': 1e-08}), {'error_score': 'raise', 'fit_params': {}, 'return_n_test_samples': True, 'return_parameters': False, 'return_times': True, 'return_train_score': 'warn'})]\n    132 \n    133     def __len__(self):\n    134         return self._size\n    135 \n\n...........................................................................\n/Users/alatyshe/virt/lib/python3.6/site-packages/sklearn/externals/joblib/parallel.py in <listcomp>(.0=<list_iterator object>)\n    126     def __init__(self, iterator_slice):\n    127         self.items = list(iterator_slice)\n    128         self._size = len(self.items)\n    129 \n    130     def __call__(self):\n--> 131         return [func(*args, **kwargs) for func, args, kwargs in self.items]\n        func = <function _fit_and_score>\n        args = (LogisticRegression(C=1.0, class_weight='balanced...linear', tol=0.0001, verbose=0, warm_start=False),               7        13   66       67       68... 0  \n30499        0  \n\n[30500 rows x 174 columns], 0        1\n1        1\n2        0\n3        0\n4   ...0\n30499    0\nName: 0, Length: 30500, dtype: int64, {'score': make_scorer(roc_auc_score, needs_threshold=True)}, array([10121, 10122, 10123, ..., 30497, 30498, 30499]), array([    0,     1,     2, ..., 10361, 10366, 10373]), 1, {'logit__C': 1e-08})\n        kwargs = {'error_score': 'raise', 'fit_params': {}, 'return_n_test_samples': True, 'return_parameters': False, 'return_times': True, 'return_train_score': 'warn'}\n    132 \n    133     def __len__(self):\n    134         return self._size\n    135 \n\n...........................................................................\n/Users/alatyshe/virt/lib/python3.6/site-packages/sklearn/model_selection/_validation.py in _fit_and_score(estimator=LogisticRegression(C=1.0, class_weight='balanced...linear', tol=0.0001, verbose=0, warm_start=False), X=              7        13   66       67       68... 0  \n30499        0  \n\n[30500 rows x 174 columns], y=0        1\n1        1\n2        0\n3        0\n4   ...0\n30499    0\nName: 0, Length: 30500, dtype: int64, scorer={'score': make_scorer(roc_auc_score, needs_threshold=True)}, train=array([10121, 10122, 10123, ..., 30497, 30498, 30499]), test=array([    0,     1,     2, ..., 10361, 10366, 10373]), verbose=1, parameters={'logit__C': 1e-08}, fit_params={}, return_train_score='warn', return_parameters=False, return_n_test_samples=True, return_times=True, error_score='raise')\n    439                       for k, v in fit_params.items()])\n    440 \n    441     test_scores = {}\n    442     train_scores = {}\n    443     if parameters is not None:\n--> 444         estimator.set_params(**parameters)\n        estimator.set_params = <bound method BaseEstimator.set_params of Logist...inear', tol=0.0001, verbose=0, warm_start=False)>\n        parameters = {'logit__C': 1e-08}\n    445 \n    446     start_time = time.time()\n    447 \n    448     X_train, y_train = _safe_split(estimator, X, y, train)\n\n...........................................................................\n/Users/alatyshe/virt/lib/python3.6/site-packages/sklearn/base.py in set_params(self=LogisticRegression(C=1.0, class_weight='balanced...linear', tol=0.0001, verbose=0, warm_start=False), **params={'logit__C': 1e-08})\n    269             key, delim, sub_key = key.partition('__')\n    270             if key not in valid_params:\n    271                 raise ValueError('Invalid parameter %s for estimator %s. '\n    272                                  'Check the list of available parameters '\n    273                                  'with `estimator.get_params().keys()`.' %\n--> 274                                  (key, self))\n        key = 'logit'\n        self = LogisticRegression(C=1.0, class_weight='balanced...linear', tol=0.0001, verbose=0, warm_start=False)\n    275 \n    276             if delim:\n    277                 nested_params[key][sub_key] = value\n    278             else:\n\nValueError: Invalid parameter logit for estimator LogisticRegression(C=1.0, class_weight='balanced', dual=False,\n          fit_intercept=True, intercept_scaling=1, max_iter=100,\n          multi_class='ovr', n_jobs=1, penalty='l2', random_state=17,\n          solver='liblinear', tol=0.0001, verbose=0, warm_start=False). Check the list of available parameters with `estimator.get_params().keys()`.\n___________________________________________________________________________"
     ]
    }
   ],
   "source": [
    "log_reg = GridSearchCV(logit, logit_pipe_params, scoring='roc_auc', n_jobs=-1, verbose=1)\n",
    "\n",
    "log_reg.fit(X_train, y_train)\n",
    "print (lr_g.best_params_)\n",
    "print (lr_g.best_score_)"
   ]
  },
  {
   "cell_type": "markdown",
   "metadata": {},
   "source": [
    "---\n",
    "## 3. Постройте бэггинг на логистических регрессиях. Укажите значение на валидации и публичном лидерборде"
   ]
  },
  {
   "cell_type": "code",
   "execution_count": null,
   "metadata": {},
   "outputs": [],
   "source": []
  },
  {
   "cell_type": "code",
   "execution_count": null,
   "metadata": {},
   "outputs": [],
   "source": []
  },
  {
   "cell_type": "markdown",
   "metadata": {},
   "source": [
    "---\n",
    "## 4. Постройте случайный лес. Укажите значение на валидации и публичном лидерборде"
   ]
  },
  {
   "cell_type": "code",
   "execution_count": null,
   "metadata": {},
   "outputs": [],
   "source": []
  },
  {
   "cell_type": "code",
   "execution_count": null,
   "metadata": {},
   "outputs": [],
   "source": []
  },
  {
   "cell_type": "markdown",
   "metadata": {},
   "source": [
    "---\n",
    "## 5. Подберите лучший вариант простого ансамбля. Опишите его и укажите значение на валидации и публичном лидерборде"
   ]
  },
  {
   "cell_type": "code",
   "execution_count": null,
   "metadata": {},
   "outputs": [],
   "source": []
  },
  {
   "cell_type": "code",
   "execution_count": null,
   "metadata": {},
   "outputs": [],
   "source": []
  },
  {
   "cell_type": "markdown",
   "metadata": {},
   "source": [
    "---\n",
    "## 6. Сделайте стекинг. Опишите его и укажите значение на валидации и публичном лидерборде"
   ]
  },
  {
   "cell_type": "code",
   "execution_count": null,
   "metadata": {},
   "outputs": [],
   "source": []
  },
  {
   "cell_type": "code",
   "execution_count": null,
   "metadata": {},
   "outputs": [],
   "source": []
  },
  {
   "cell_type": "markdown",
   "metadata": {},
   "source": [
    "---\n",
    "## 7. Укажите ваш ник, значение на lb и валидации, опишите коротко решение"
   ]
  },
  {
   "cell_type": "code",
   "execution_count": null,
   "metadata": {},
   "outputs": [],
   "source": []
  },
  {
   "cell_type": "code",
   "execution_count": 67,
   "metadata": {},
   "outputs": [
    {
     "data": {
      "text/html": [
       "<div>\n",
       "<style scoped>\n",
       "    .dataframe tbody tr th:only-of-type {\n",
       "        vertical-align: middle;\n",
       "    }\n",
       "\n",
       "    .dataframe tbody tr th {\n",
       "        vertical-align: top;\n",
       "    }\n",
       "\n",
       "    .dataframe thead th {\n",
       "        text-align: right;\n",
       "    }\n",
       "</style>\n",
       "<table border=\"1\" class=\"dataframe\">\n",
       "  <thead>\n",
       "    <tr style=\"text-align: right;\">\n",
       "      <th></th>\n",
       "      <th>0</th>\n",
       "      <th>1</th>\n",
       "      <th>2</th>\n",
       "    </tr>\n",
       "  </thead>\n",
       "  <tbody>\n",
       "    <tr>\n",
       "      <th>0</th>\n",
       "      <td>1</td>\n",
       "      <td>1</td>\n",
       "      <td>1</td>\n",
       "    </tr>\n",
       "    <tr>\n",
       "      <th>1</th>\n",
       "      <td>2</td>\n",
       "      <td>2</td>\n",
       "      <td>0</td>\n",
       "    </tr>\n",
       "    <tr>\n",
       "      <th>2</th>\n",
       "      <td>3</td>\n",
       "      <td>3</td>\n",
       "      <td>1</td>\n",
       "    </tr>\n",
       "    <tr>\n",
       "      <th>3</th>\n",
       "      <td>4</td>\n",
       "      <td>4</td>\n",
       "      <td>0</td>\n",
       "    </tr>\n",
       "    <tr>\n",
       "      <th>4</th>\n",
       "      <td>5</td>\n",
       "      <td>5</td>\n",
       "      <td>1</td>\n",
       "    </tr>\n",
       "    <tr>\n",
       "      <th>5</th>\n",
       "      <td>6</td>\n",
       "      <td>6</td>\n",
       "      <td>0</td>\n",
       "    </tr>\n",
       "    <tr>\n",
       "      <th>6</th>\n",
       "      <td>7</td>\n",
       "      <td>7</td>\n",
       "      <td>1</td>\n",
       "    </tr>\n",
       "    <tr>\n",
       "      <th>7</th>\n",
       "      <td>8</td>\n",
       "      <td>7</td>\n",
       "      <td>0</td>\n",
       "    </tr>\n",
       "    <tr>\n",
       "      <th>8</th>\n",
       "      <td>9</td>\n",
       "      <td>7</td>\n",
       "      <td>1</td>\n",
       "    </tr>\n",
       "  </tbody>\n",
       "</table>\n",
       "</div>"
      ],
      "text/plain": [
       "   0  1  2\n",
       "0  1  1  1\n",
       "1  2  2  0\n",
       "2  3  3  1\n",
       "3  4  4  0\n",
       "4  5  5  1\n",
       "5  6  6  0\n",
       "6  7  7  1\n",
       "7  8  7  0\n",
       "8  9  7  1"
      ]
     },
     "execution_count": 67,
     "metadata": {},
     "output_type": "execute_result"
    }
   ],
   "source": [
    "import numpy as np\n",
    "import pandas as p\n",
    "# Create feature matrix with two highly correlated features\n",
    "X = np.array([[1, 1, 1],\n",
    "              [2, 2, 0],\n",
    "              [3, 3, 1],\n",
    "              [4, 4, 0],\n",
    "              [5, 5, 1],\n",
    "              [6, 6, 0],\n",
    "              [7, 7, 1],\n",
    "              [8, 7, 0],\n",
    "              [9, 7, 1]])\n",
    "\n",
    "# Convert feature matrix into DataFrame\n",
    "df = pd.DataFrame(X)\n",
    "\n",
    "# View the data frame\n",
    "df"
   ]
  },
  {
   "cell_type": "code",
   "execution_count": 79,
   "metadata": {},
   "outputs": [],
   "source": [
    "# Create correlation matrix\n",
    "df[1]\n",
    "\n",
    "corr_matrix = df.corr()\n",
    "\n",
    "# Select upper triangle of correlation matrix\n",
    "# upper = corr_matrix.where(np.triu(np.ones(corr_matrix.shape), k=1).astype(np.bool))\n",
    "\n",
    "# Find index of feature columns with correlation greater than 0.95\n",
    "# to_drop = [column for column in upper.columns if any(upper[column] > 0.95)]"
   ]
  },
  {
   "cell_type": "code",
   "execution_count": 80,
   "metadata": {},
   "outputs": [
    {
     "data": {
      "text/html": [
       "<div>\n",
       "<style scoped>\n",
       "    .dataframe tbody tr th:only-of-type {\n",
       "        vertical-align: middle;\n",
       "    }\n",
       "\n",
       "    .dataframe tbody tr th {\n",
       "        vertical-align: top;\n",
       "    }\n",
       "\n",
       "    .dataframe thead th {\n",
       "        text-align: right;\n",
       "    }\n",
       "</style>\n",
       "<table border=\"1\" class=\"dataframe\">\n",
       "  <thead>\n",
       "    <tr style=\"text-align: right;\">\n",
       "      <th></th>\n",
       "      <th>0</th>\n",
       "      <th>1</th>\n",
       "      <th>2</th>\n",
       "    </tr>\n",
       "  </thead>\n",
       "  <tbody>\n",
       "    <tr>\n",
       "      <th>0</th>\n",
       "      <td>1.000000</td>\n",
       "      <td>0.976103</td>\n",
       "      <td>0.000000</td>\n",
       "    </tr>\n",
       "    <tr>\n",
       "      <th>1</th>\n",
       "      <td>0.976103</td>\n",
       "      <td>1.000000</td>\n",
       "      <td>-0.034503</td>\n",
       "    </tr>\n",
       "    <tr>\n",
       "      <th>2</th>\n",
       "      <td>0.000000</td>\n",
       "      <td>-0.034503</td>\n",
       "      <td>1.000000</td>\n",
       "    </tr>\n",
       "  </tbody>\n",
       "</table>\n",
       "</div>"
      ],
      "text/plain": [
       "          0         1         2\n",
       "0  1.000000  0.976103  0.000000\n",
       "1  0.976103  1.000000 -0.034503\n",
       "2  0.000000 -0.034503  1.000000"
      ]
     },
     "execution_count": 80,
     "metadata": {},
     "output_type": "execute_result"
    }
   ],
   "source": [
    "corr_matrix"
   ]
  },
  {
   "cell_type": "code",
   "execution_count": null,
   "metadata": {},
   "outputs": [],
   "source": []
  }
 ],
 "metadata": {
  "kernelspec": {
   "display_name": "Python 3",
   "language": "python",
   "name": "python3"
  },
  "language_info": {
   "codemirror_mode": {
    "name": "ipython",
    "version": 3
   },
   "file_extension": ".py",
   "mimetype": "text/x-python",
   "name": "python",
   "nbconvert_exporter": "python",
   "pygments_lexer": "ipython3",
   "version": "3.6.2"
  }
 },
 "nbformat": 4,
 "nbformat_minor": 2
}
